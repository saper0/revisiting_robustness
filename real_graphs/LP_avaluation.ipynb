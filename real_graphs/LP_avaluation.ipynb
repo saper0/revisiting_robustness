{
 "cells": [
  {
   "cell_type": "code",
   "execution_count": 3,
   "id": "1394a30d",
   "metadata": {},
   "outputs": [],
   "source": [
    "import pickle \n",
    "import numpy as np\n",
    "import torch\n",
    "import torch.nn.functional as F\n",
    "import matplotlib.pyplot as plt\n",
    "from rgnn_at_scale.models import GCN\n",
    "from src.models.lp import LP\n",
    "from rgnn_at_scale.attacks import FGSM\n",
    "from tqdm import tqdm\n",
    "from torch_sparse import SparseTensor\n",
    "from matplotlib import pyplot as plt\n",
    "import pandas as pd\n",
    "import copy\n",
    "from rgnn_at_scale.data import prep_graph, split\n",
    "from src.helpers import delete_idx_from_data\n",
    "from rgnn_at_scale.helper.io import Storage\n",
    "device=0\n",
    "\n",
    "from rgnn_at_scale.helper.utils import accuracy"
   ]
  },
  {
   "cell_type": "markdown",
   "id": "a80cdecc",
   "metadata": {},
   "source": [
    "## load model"
   ]
  },
  {
   "cell_type": "code",
   "execution_count": 4,
   "id": "97cffea1",
   "metadata": {},
   "outputs": [],
   "source": [
    "def load_model(dataset='cora_ml', seed = 0, label='GCN', n_classes = 7, device = 0):\n",
    "    if label == 'LP':\n",
    "        model = Dummy_model(n_classes, device)\n",
    "    else:\n",
    "        store = Storage(cache_dir = '../cache')\n",
    "        model_params = {\"dataset\": dataset, \"binary_attr\": False, \"make_undirected\": True, \"seed\": seed, \"label\": label}\n",
    "        models_and_hyperparams = store.find_models('overrobust_final', model_params)\n",
    "        model = models_and_hyperparams[0][0].to(device)\n",
    "    return model "
   ]
  },
  {
   "cell_type": "markdown",
   "id": "e58ccfcc",
   "metadata": {},
   "source": [
    "# load dataset"
   ]
  },
  {
   "cell_type": "code",
   "execution_count": 9,
   "id": "69df726a",
   "metadata": {},
   "outputs": [],
   "source": [
    "def load_dataset(dataset, device=0, seed = 0):\n",
    "    graph = prep_graph(dataset, device, dataset_root='datasets', make_undirected=True,\n",
    "                           binary_attr=False, return_original_split=dataset.startswith('ogbn'))\n",
    "\n",
    "    attr, adj, labels = graph[:3]\n",
    "    if len(graph) == 3 or graph[3] is None:  # TODO: This is weird\n",
    "        idx_test, idx_val, idx_train = split(labels.cpu().numpy(), n_per_class=40)\n",
    "    else:\n",
    "        idx_train, idx_val, idx_test = graph[3]['train'], graph[3]['valid'], graph[3]['test']\n",
    "        \n",
    "        #idx_keep = []\n",
    "        #n_per_class=65\n",
    "        #for c in labels.unique():\n",
    "        #    idx = (labels[idx_test_orig] == c).nonzero().flatten()\n",
    "        #    stop = min(len(idx), n_per_class)\n",
    "        #    idx_keep.append(idx[torch.randperm(len(idx))[:stop]])\n",
    "        #idx_test = torch.cat(idx_keep).cpu().numpy()\n",
    "        \n",
    "    _, adj_train = delete_idx_from_data(attr, adj, np.concatenate([idx_test, idx_val]))\n",
    "    _, adj_val = delete_idx_from_data(attr, adj, idx_test)\n",
    "    return attr, adj_val, adj, idx_train, idx_val, idx_test, labels"
   ]
  },
  {
   "cell_type": "code",
   "execution_count": 38,
   "id": "da29715b",
   "metadata": {},
   "outputs": [],
   "source": [
    "attr, adj_val, adj, idx_train, idx_val, idx_test, labels =  load_dataset('ogbn-arxiv') \n",
    "idx_keep = []\n",
    "test_map = torch.zeros_like(labels)\n",
    "test_map[idx_test]=1\n",
    "for c in labels.unique():\n",
    "    idx = ((labels == c) & test_map).nonzero().flatten()\n",
    "    stop = min(len(idx), 40)\n",
    "    idx_keep.append(idx[torch.randperm(len(idx))[:stop]])\n",
    "idx_new = torch.cat(idx_keep).cpu().numpy()"
   ]
  },
  {
   "cell_type": "code",
   "execution_count": null,
   "id": "ba556689",
   "metadata": {},
   "outputs": [],
   "source": [
    "e"
   ]
  },
  {
   "cell_type": "code",
   "execution_count": 58,
   "id": "fbe6d4d6",
   "metadata": {},
   "outputs": [
    {
     "name": "stdout",
     "output_type": "stream",
     "text": [
      "(0, tensor(2., device='cuda:0'))\n",
      "(1, tensor(6., device='cuda:0'))\n",
      "(2, tensor(23., device='cuda:0'))\n",
      "(3, tensor(21., device='cuda:0'))\n",
      "(4, tensor(58., device='cuda:0'))\n",
      "(5, tensor(39., device='cuda:0'))\n",
      "(6, tensor(20., device='cuda:0'))\n",
      "(7, tensor(5., device='cuda:0'))\n",
      "(8, tensor(39., device='cuda:0'))\n",
      "(9, tensor(11., device='cuda:0'))\n",
      "(10, tensor(45., device='cuda:0'))\n",
      "(11, tensor(8., device='cuda:0'))\n",
      "(12, tensor(1., device='cuda:0'))\n",
      "(13, tensor(20., device='cuda:0'))\n",
      "(14, tensor(3., device='cuda:0'))\n",
      "(15, tensor(3., device='cuda:0'))\n",
      "(16, tensor(324., device='cuda:0'))\n",
      "(17, tensor(7., device='cuda:0'))\n",
      "(18, tensor(7., device='cuda:0'))\n",
      "(19, tensor(13., device='cuda:0'))\n",
      "(20, tensor(10., device='cuda:0'))\n",
      "(21, tensor(2., device='cuda:0'))\n",
      "(22, tensor(12., device='cuda:0'))\n",
      "(23, tensor(25., device='cuda:0'))\n",
      "(24, tensor(332., device='cuda:0'))\n",
      "(25, tensor(15., device='cuda:0'))\n",
      "(26, tensor(33., device='cuda:0'))\n",
      "(27, tensor(64., device='cuda:0'))\n",
      "(28, tensor(88., device='cuda:0'))\n",
      "(29, tensor(4., device='cuda:0'))\n",
      "(30, tensor(143., device='cuda:0'))\n",
      "(31, tensor(28., device='cuda:0'))\n",
      "(32, tensor(3., device='cuda:0'))\n",
      "(33, tensor(7., device='cuda:0'))\n",
      "(34, tensor(44., device='cuda:0'))\n",
      "(35, tensor(2., device='cuda:0'))\n",
      "(36, tensor(20., device='cuda:0'))\n",
      "(37, tensor(15., device='cuda:0'))\n",
      "(38, tensor(7., device='cuda:0'))\n",
      "(39, tensor(9., device='cuda:0'))\n"
     ]
    }
   ],
   "source": [
    "\n",
    "\n",
    "attr, adj_val, adj, idx_train, idx_val, idx_test, labels =  load_dataset('ogbn-arxiv') \n",
    "# compute n_per_class\n",
    "n_total = 1500\n",
    "bins = labels[idx_test].bincount()\n",
    "bins_ratio = bins/bins.sum()\n",
    "n_per_class = (n_total*bins_ratio).ceil()\n",
    "# subsample test set\n",
    "idx_keep = []\n",
    "test_map = torch.zeros_like(labels)\n",
    "test_map[idx_test]=1\n",
    "for c,n in enumerate(n_per_class):\n",
    "    print((c, n))\n",
    "    idx = ((labels == c) & test_map).nonzero().flatten()\n",
    "    idx_keep.append(idx[torch.randperm(len(idx))[:int(n)]])\n",
    "idx_new = torch.cat(idx_keep).cpu().numpy()"
   ]
  },
  {
   "cell_type": "code",
   "execution_count": 56,
   "id": "94f2eab2",
   "metadata": {},
   "outputs": [
    {
     "data": {
      "text/plain": [
       "tensor([  2.,   6.,  23.,  21.,  58.,  39.,  20.,   5.,  39.,  11.,  45.,   8.,\n",
       "          1.,  20.,   3.,   3., 324.,   7.,   7.,  13.,  10.,   2.,  12.,  25.,\n",
       "        332.,  15.,  33.,  64.,  88.,   4., 143.,  28.,   3.,   7.,  44.,   2.,\n",
       "         20.,  15.,   7.,   9.], device='cuda:0')"
      ]
     },
     "execution_count": 56,
     "metadata": {},
     "output_type": "execute_result"
    }
   ],
   "source": [
    "n_per_class"
   ]
  },
  {
   "cell_type": "code",
   "execution_count": 46,
   "id": "2edbc7b2",
   "metadata": {},
   "outputs": [
    {
     "data": {
      "text/plain": [
       "tensor([   54,   187,   733,   654,  1869,  1246,   622,   134,  1250,   345,\n",
       "         1455,   239,     5,   628,    71,    87, 10477,   203,   209,   419,\n",
       "          313,    51,   386,   808, 10740,   475,  1041,  2066,  2849,   120,\n",
       "         4631,   892,    83,   220,  1414,    36,   627,   481,   214,   269],\n",
       "       device='cuda:0')"
      ]
     },
     "execution_count": 46,
     "metadata": {},
     "output_type": "execute_result"
    }
   ],
   "source": [
    "labels[idx_test].bincount()"
   ]
  },
  {
   "cell_type": "code",
   "execution_count": 47,
   "id": "e1f86002",
   "metadata": {},
   "outputs": [
    {
     "data": {
      "text/plain": [
       "tensor([  437,   382,  3604,  1014,  2864,  2933,   703,   380,  4056,  2245,\n",
       "         5182,   391,    21,  1290,   473,   248,  9998,   202,   402,  1873,\n",
       "         1495,   304,  1268,  1539,  6989,   457,  2854,  1661, 16284,   239,\n",
       "         4334,  1350,   270,   926,  5426,    75,  2506,  1615,  1100,  1551],\n",
       "       device='cuda:0')"
      ]
     },
     "execution_count": 47,
     "metadata": {},
     "output_type": "execute_result"
    }
   ],
   "source": [
    "labels[idx_train].bincount()"
   ]
  },
  {
   "cell_type": "code",
   "execution_count": 43,
   "id": "70fefce8",
   "metadata": {},
   "outputs": [
    {
     "data": {
      "text/plain": [
       "(48603,)"
      ]
     },
     "execution_count": 43,
     "metadata": {},
     "output_type": "execute_result"
    }
   ],
   "source": [
    "idx_test.shape"
   ]
  },
  {
   "cell_type": "code",
   "execution_count": 27,
   "id": "a59b6098",
   "metadata": {},
   "outputs": [],
   "source": [
    "idx = (labels[idx_test] == 0).nonzero().flatten()\n",
    "stop = min(len(idx), 40)\n",
    "idx_keep.append(idx[torch.randperm(len(idx))[:stop]])"
   ]
  },
  {
   "cell_type": "code",
   "execution_count": 29,
   "id": "464e39d7",
   "metadata": {},
   "outputs": [
    {
     "data": {
      "text/plain": [
       "tensor([False, False, False,  ..., False, False, False], device='cuda:0')"
      ]
     },
     "execution_count": 29,
     "metadata": {},
     "output_type": "execute_result"
    }
   ],
   "source": [
    "(labels == 0)"
   ]
  },
  {
   "cell_type": "code",
   "execution_count": 60,
   "id": "2869702e",
   "metadata": {},
   "outputs": [
    {
     "data": {
      "text/plain": [
       "tensor([  2,   6,  23,  21,  58,  39,  20,   5,  39,  11,  45,   8,   1,  20,\n",
       "          3,   3, 324,   7,   7,  13,  10,   2,  12,  25, 332,  15,  33,  64,\n",
       "         88,   4, 143,  28,   3,   7,  44,   2,  20,  15,   7,   9],\n",
       "       device='cuda:0')"
      ]
     },
     "execution_count": 60,
     "metadata": {},
     "output_type": "execute_result"
    }
   ],
   "source": [
    "[x in idx_test for x in idx_new]\n",
    "labels[idx_new].bincount()"
   ]
  },
  {
   "cell_type": "code",
   "execution_count": 39,
   "id": "c74f4492",
   "metadata": {},
   "outputs": [
    {
     "data": {
      "text/plain": [
       "True"
      ]
     },
     "execution_count": 39,
     "metadata": {},
     "output_type": "execute_result"
    }
   ],
   "source": [
    "idx_new[0] in idx_test"
   ]
  },
  {
   "cell_type": "code",
   "execution_count": 41,
   "id": "1dff5075",
   "metadata": {},
   "outputs": [
    {
     "data": {
      "text/plain": [
       "1561"
      ]
     },
     "execution_count": 41,
     "metadata": {},
     "output_type": "execute_result"
    }
   ],
   "source": [
    "len(idx_new)"
   ]
  },
  {
   "cell_type": "code",
   "execution_count": 21,
   "id": "2f5a1e62",
   "metadata": {},
   "outputs": [
    {
     "data": {
      "text/plain": [
       "array([   346,    398,    451, ..., 169340, 169341, 169342])"
      ]
     },
     "execution_count": 21,
     "metadata": {},
     "output_type": "execute_result"
    }
   ],
   "source": [
    "idx_test"
   ]
  },
  {
   "cell_type": "code",
   "execution_count": null,
   "id": "da69c908",
   "metadata": {},
   "outputs": [],
   "source": []
  },
  {
   "cell_type": "code",
   "execution_count": 10,
   "id": "70db4063",
   "metadata": {},
   "outputs": [],
   "source": [
    "class Dummy_model():\n",
    "    def __init__(self, n_classes, device = 0):\n",
    "        self.out_dim = n_classes\n",
    "        self.device = device\n",
    "\n",
    "    def eval(self):\n",
    "        pass\n",
    "\n",
    "    def train(self): \n",
    "        pass\n",
    "\n",
    "    def __call__(self, attr, adj):\n",
    "        return torch.zeros(attr.shape[0], self.out_dim).to(self.device)"
   ]
  },
  {
   "cell_type": "code",
   "execution_count": 11,
   "id": "3ae364be",
   "metadata": {},
   "outputs": [],
   "source": [
    "label = 'LP'\n",
    "seed = 0\n",
    "device = 0\n",
    "dataset = 'cora_ml'\n",
    "n_classes = 7\n",
    "lp_params = {'num_layers': 1, 'alpha': 0.1, 'num_classes': 7}\n",
    "\n",
    "\n",
    "def evaluate_lp(label, lp_params, dataset, device=0, seed=0):\n",
    "    torch.manual_seed(seed)\n",
    "    np.random.seed(seed)\n",
    "\n",
    "    # load dataset\n",
    "    attr, adj_val, adj_test, idx_train, idx_val, idx_test, labels = load_dataset(dataset, device, seed)\n",
    "\n",
    "    # load model \n",
    "    model = load_model(dataset, seed, label, lp_params['num_classes'], device)\n",
    "\n",
    "    # construct LP\n",
    "    lp = LP(**lp_params)\n",
    "    mask = torch.zeros_like(labels)\n",
    "    mask[idx_train]=1\n",
    "    lp_input = {'y_true': labels[idx_train], 'mask': mask.bool()}\n",
    "\n",
    "    # evaluate val acc + loss\n",
    "    model.eval()\n",
    "    logits = model(attr, adj_val)\n",
    "    logits = lp.smooth(y_soft=logits, A = adj_val, **lp_input)\n",
    "    acc_val = accuracy(logits, labels, idx_val)\n",
    "    loss_val = F.cross_entropy(logits[idx_val], labels[idx_val])\n",
    "\n",
    "    # evaluate test acc + loss\n",
    "    model.eval()\n",
    "    logits = model(attr, adj_test)\n",
    "    logits = lp.smooth(y_soft=logits, A = adj_test, **lp_input)\n",
    "    acc_test = accuracy(logits, labels, idx_test)\n",
    "    loss_test = F.cross_entropy(logits[idx_test], labels[idx_test])\n",
    "\n",
    "    return acc_test, loss_test.item(), acc_val, loss_val.item()"
   ]
  },
  {
   "cell_type": "code",
   "execution_count": 12,
   "id": "19b4ae24",
   "metadata": {
    "scrolled": true
   },
   "outputs": [
    {
     "name": "stderr",
     "output_type": "stream",
     "text": [
      "72it [00:10,  6.73it/s]\n"
     ]
    }
   ],
   "source": [
    "from itertools import product\n",
    "\n",
    "grid = {'label': ['LP'],\n",
    "        'seed': [0,1,5,6,7,8,9,10],\n",
    "        'num_layers': [10],\n",
    "        'alpha': [0.1, 0.2, 0.3, 0.4, 0.5, 0.6, 0.7, 0.8, 0.9], \n",
    "        'num_classes': [7],\n",
    "        'dataset': ['cora_ml']}\n",
    "\n",
    "grid_list = (dict(zip(grid, vs)) for vs in product(*grid.values()))\n",
    "\n",
    "df = pd.DataFrame()\n",
    "for x in tqdm(grid_list):\n",
    "    y = x.copy()\n",
    "    x['lp_params'] = {'num_layers':x['num_layers'],\n",
    "                     'alpha': x['alpha'],\n",
    "                     'num_classes': x['num_classes']}\n",
    "    x.pop('num_layers')\n",
    "    x.pop('alpha')\n",
    "    x.pop('num_classes')\n",
    "    \n",
    "    acc_test, loss_test, acc_val, loss_val = evaluate_lp(**x, device=0)\n",
    "    y['acc_test'] = acc_test\n",
    "    y['acc_val'] = acc_val\n",
    "    y['loss_test'] = loss_test\n",
    "    y['loss_val'] = loss_val\n",
    "    df = df.append(y, ignore_index=True)"
   ]
  },
  {
   "cell_type": "code",
   "execution_count": 13,
   "id": "861444c4",
   "metadata": {},
   "outputs": [
    {
     "name": "stderr",
     "output_type": "stream",
     "text": [
      "72it [00:07,  9.82it/s]\n"
     ]
    }
   ],
   "source": [
    "grid = {'label': ['LP'],\n",
    "        'seed': [0,1,5,6,7,8,9,10],\n",
    "        'num_layers': [10],\n",
    "        'alpha': [0.1, 0.2, 0.3, 0.4, 0.5, 0.6, 0.7, 0.8, 0.9], \n",
    "        'num_classes': [6],\n",
    "        'dataset': ['citeseer']}\n",
    "\n",
    "grid_list = (dict(zip(grid, vs)) for vs in product(*grid.values()))\n",
    "\n",
    "#df = pd.DataFrame()\n",
    "for x in tqdm(grid_list):\n",
    "    y = x.copy()\n",
    "    x['lp_params'] = {'num_layers':x['num_layers'],\n",
    "                     'alpha': x['alpha'],\n",
    "                     'num_classes': x['num_classes']}\n",
    "    x.pop('num_layers')\n",
    "    x.pop('alpha')\n",
    "    x.pop('num_classes')\n",
    "    \n",
    "    acc_test, loss_test, acc_val, loss_val = evaluate_lp(**x, device=0)\n",
    "    y['acc_test'] = acc_test\n",
    "    y['acc_val'] = acc_val\n",
    "    y['loss_test'] = loss_test\n",
    "    y['loss_val'] = loss_val\n",
    "    df = df.append(y, ignore_index=True)"
   ]
  },
  {
   "cell_type": "code",
   "execution_count": 14,
   "id": "0823877a",
   "metadata": {},
   "outputs": [
    {
     "name": "stderr",
     "output_type": "stream",
     "text": [
      "1it [00:00,  1.14it/s]\n"
     ]
    }
   ],
   "source": [
    "from itertools import product\n",
    "\n",
    "grid = {'label': ['GCN', 'LP'],\n",
    "        'seed': [0,1,5,6,7],\n",
    "        'num_layers': [10],\n",
    "        'alpha': [0.1, 0.2, 0.5, 0.8], \n",
    "        'num_classes': [40],\n",
    "        'dataset': ['ogbn-arxiv']}\n",
    "\n",
    "grid = {'label': ['LP'],\n",
    "        'seed': [0],\n",
    "        'num_layers': [10],\n",
    "        'alpha': [0.7], \n",
    "        'num_classes': [40],\n",
    "        'dataset': ['ogbn-arxiv']}\n",
    "\n",
    "grid_list = (dict(zip(grid, vs)) for vs in product(*grid.values()))\n",
    "\n",
    "#df = pd.DataFrame()\n",
    "for x in tqdm(grid_list):\n",
    "    y = x.copy()\n",
    "    x['lp_params'] = {'num_layers':x['num_layers'],\n",
    "                     'alpha': x['alpha'],\n",
    "                     'num_classes': x['num_classes']}\n",
    "    x.pop('num_layers')\n",
    "    x.pop('alpha')\n",
    "    x.pop('num_classes')\n",
    "    \n",
    "    acc_test, loss_test, acc_val, loss_val = evaluate_lp(**x, device=0)\n",
    "    y['acc_test'] = acc_test\n",
    "    y['acc_val'] = acc_val\n",
    "    y['loss_test'] = loss_test\n",
    "    y['loss_val'] = loss_val\n",
    "    df = df.append(y, ignore_index=True)"
   ]
  },
  {
   "cell_type": "code",
   "execution_count": 15,
   "id": "c6f7899a",
   "metadata": {},
   "outputs": [
    {
     "data": {
      "text/html": [
       "<div>\n",
       "<style scoped>\n",
       "    .dataframe tbody tr th:only-of-type {\n",
       "        vertical-align: middle;\n",
       "    }\n",
       "\n",
       "    .dataframe tbody tr th {\n",
       "        vertical-align: top;\n",
       "    }\n",
       "\n",
       "    .dataframe thead th {\n",
       "        text-align: right;\n",
       "    }\n",
       "</style>\n",
       "<table border=\"1\" class=\"dataframe\">\n",
       "  <thead>\n",
       "    <tr style=\"text-align: right;\">\n",
       "      <th></th>\n",
       "      <th>acc_test</th>\n",
       "      <th>acc_val</th>\n",
       "      <th>alpha</th>\n",
       "      <th>dataset</th>\n",
       "      <th>label</th>\n",
       "      <th>loss_test</th>\n",
       "      <th>loss_val</th>\n",
       "      <th>num_classes</th>\n",
       "      <th>num_layers</th>\n",
       "      <th>seed</th>\n",
       "    </tr>\n",
       "  </thead>\n",
       "  <tbody>\n",
       "    <tr>\n",
       "      <th>0</th>\n",
       "      <td>0.850000</td>\n",
       "      <td>0.832143</td>\n",
       "      <td>0.1</td>\n",
       "      <td>cora_ml</td>\n",
       "      <td>LP</td>\n",
       "      <td>1.906893</td>\n",
       "      <td>1.903485</td>\n",
       "      <td>7.0</td>\n",
       "      <td>10.0</td>\n",
       "      <td>0.0</td>\n",
       "    </tr>\n",
       "    <tr>\n",
       "      <th>1</th>\n",
       "      <td>0.850000</td>\n",
       "      <td>0.835714</td>\n",
       "      <td>0.2</td>\n",
       "      <td>cora_ml</td>\n",
       "      <td>LP</td>\n",
       "      <td>1.870653</td>\n",
       "      <td>1.864697</td>\n",
       "      <td>7.0</td>\n",
       "      <td>10.0</td>\n",
       "      <td>0.0</td>\n",
       "    </tr>\n",
       "    <tr>\n",
       "      <th>2</th>\n",
       "      <td>0.853571</td>\n",
       "      <td>0.835714</td>\n",
       "      <td>0.3</td>\n",
       "      <td>cora_ml</td>\n",
       "      <td>LP</td>\n",
       "      <td>1.837052</td>\n",
       "      <td>1.829328</td>\n",
       "      <td>7.0</td>\n",
       "      <td>10.0</td>\n",
       "      <td>0.0</td>\n",
       "    </tr>\n",
       "    <tr>\n",
       "      <th>3</th>\n",
       "      <td>0.864286</td>\n",
       "      <td>0.839286</td>\n",
       "      <td>0.4</td>\n",
       "      <td>cora_ml</td>\n",
       "      <td>LP</td>\n",
       "      <td>1.806125</td>\n",
       "      <td>1.797348</td>\n",
       "      <td>7.0</td>\n",
       "      <td>10.0</td>\n",
       "      <td>0.0</td>\n",
       "    </tr>\n",
       "    <tr>\n",
       "      <th>4</th>\n",
       "      <td>0.864286</td>\n",
       "      <td>0.832143</td>\n",
       "      <td>0.5</td>\n",
       "      <td>cora_ml</td>\n",
       "      <td>LP</td>\n",
       "      <td>1.778151</td>\n",
       "      <td>1.768980</td>\n",
       "      <td>7.0</td>\n",
       "      <td>10.0</td>\n",
       "      <td>0.0</td>\n",
       "    </tr>\n",
       "    <tr>\n",
       "      <th>...</th>\n",
       "      <td>...</td>\n",
       "      <td>...</td>\n",
       "      <td>...</td>\n",
       "      <td>...</td>\n",
       "      <td>...</td>\n",
       "      <td>...</td>\n",
       "      <td>...</td>\n",
       "      <td>...</td>\n",
       "      <td>...</td>\n",
       "      <td>...</td>\n",
       "    </tr>\n",
       "    <tr>\n",
       "      <th>140</th>\n",
       "      <td>0.675000</td>\n",
       "      <td>0.695833</td>\n",
       "      <td>0.6</td>\n",
       "      <td>citeseer</td>\n",
       "      <td>LP</td>\n",
       "      <td>1.631629</td>\n",
       "      <td>1.618761</td>\n",
       "      <td>6.0</td>\n",
       "      <td>10.0</td>\n",
       "      <td>10.0</td>\n",
       "    </tr>\n",
       "    <tr>\n",
       "      <th>141</th>\n",
       "      <td>0.662500</td>\n",
       "      <td>0.691667</td>\n",
       "      <td>0.7</td>\n",
       "      <td>citeseer</td>\n",
       "      <td>LP</td>\n",
       "      <td>1.613935</td>\n",
       "      <td>1.599007</td>\n",
       "      <td>6.0</td>\n",
       "      <td>10.0</td>\n",
       "      <td>10.0</td>\n",
       "    </tr>\n",
       "    <tr>\n",
       "      <th>142</th>\n",
       "      <td>0.650000</td>\n",
       "      <td>0.695833</td>\n",
       "      <td>0.8</td>\n",
       "      <td>citeseer</td>\n",
       "      <td>LP</td>\n",
       "      <td>1.600053</td>\n",
       "      <td>1.584177</td>\n",
       "      <td>6.0</td>\n",
       "      <td>10.0</td>\n",
       "      <td>10.0</td>\n",
       "    </tr>\n",
       "    <tr>\n",
       "      <th>143</th>\n",
       "      <td>0.645833</td>\n",
       "      <td>0.683333</td>\n",
       "      <td>0.9</td>\n",
       "      <td>citeseer</td>\n",
       "      <td>LP</td>\n",
       "      <td>1.594280</td>\n",
       "      <td>1.580078</td>\n",
       "      <td>6.0</td>\n",
       "      <td>10.0</td>\n",
       "      <td>10.0</td>\n",
       "    </tr>\n",
       "    <tr>\n",
       "      <th>144</th>\n",
       "      <td>0.677407</td>\n",
       "      <td>0.670526</td>\n",
       "      <td>0.7</td>\n",
       "      <td>ogbn-arxiv</td>\n",
       "      <td>LP</td>\n",
       "      <td>3.600137</td>\n",
       "      <td>3.557057</td>\n",
       "      <td>40.0</td>\n",
       "      <td>10.0</td>\n",
       "      <td>0.0</td>\n",
       "    </tr>\n",
       "  </tbody>\n",
       "</table>\n",
       "<p>145 rows × 10 columns</p>\n",
       "</div>"
      ],
      "text/plain": [
       "     acc_test   acc_val  alpha     dataset label  loss_test  loss_val  \\\n",
       "0    0.850000  0.832143    0.1     cora_ml    LP   1.906893  1.903485   \n",
       "1    0.850000  0.835714    0.2     cora_ml    LP   1.870653  1.864697   \n",
       "2    0.853571  0.835714    0.3     cora_ml    LP   1.837052  1.829328   \n",
       "3    0.864286  0.839286    0.4     cora_ml    LP   1.806125  1.797348   \n",
       "4    0.864286  0.832143    0.5     cora_ml    LP   1.778151  1.768980   \n",
       "..        ...       ...    ...         ...   ...        ...       ...   \n",
       "140  0.675000  0.695833    0.6    citeseer    LP   1.631629  1.618761   \n",
       "141  0.662500  0.691667    0.7    citeseer    LP   1.613935  1.599007   \n",
       "142  0.650000  0.695833    0.8    citeseer    LP   1.600053  1.584177   \n",
       "143  0.645833  0.683333    0.9    citeseer    LP   1.594280  1.580078   \n",
       "144  0.677407  0.670526    0.7  ogbn-arxiv    LP   3.600137  3.557057   \n",
       "\n",
       "     num_classes  num_layers  seed  \n",
       "0            7.0        10.0   0.0  \n",
       "1            7.0        10.0   0.0  \n",
       "2            7.0        10.0   0.0  \n",
       "3            7.0        10.0   0.0  \n",
       "4            7.0        10.0   0.0  \n",
       "..           ...         ...   ...  \n",
       "140          6.0        10.0  10.0  \n",
       "141          6.0        10.0  10.0  \n",
       "142          6.0        10.0  10.0  \n",
       "143          6.0        10.0  10.0  \n",
       "144         40.0        10.0   0.0  \n",
       "\n",
       "[145 rows x 10 columns]"
      ]
     },
     "execution_count": 15,
     "metadata": {},
     "output_type": "execute_result"
    }
   ],
   "source": [
    "df"
   ]
  },
  {
   "cell_type": "code",
   "execution_count": 34,
   "id": "8fbbd715",
   "metadata": {
    "scrolled": false
   },
   "outputs": [
    {
     "data": {
      "text/html": [
       "<div>\n",
       "<style scoped>\n",
       "    .dataframe tbody tr th:only-of-type {\n",
       "        vertical-align: middle;\n",
       "    }\n",
       "\n",
       "    .dataframe tbody tr th {\n",
       "        vertical-align: top;\n",
       "    }\n",
       "\n",
       "    .dataframe thead th {\n",
       "        text-align: right;\n",
       "    }\n",
       "</style>\n",
       "<table border=\"1\" class=\"dataframe\">\n",
       "  <thead>\n",
       "    <tr style=\"text-align: right;\">\n",
       "      <th></th>\n",
       "      <th></th>\n",
       "      <th></th>\n",
       "      <th>loss_val</th>\n",
       "      <th>acc_val</th>\n",
       "    </tr>\n",
       "    <tr>\n",
       "      <th>num_layers</th>\n",
       "      <th>alpha</th>\n",
       "      <th>label</th>\n",
       "      <th></th>\n",
       "      <th></th>\n",
       "    </tr>\n",
       "  </thead>\n",
       "  <tbody>\n",
       "    <tr>\n",
       "      <th rowspan=\"9\" valign=\"top\">10.0</th>\n",
       "      <th>0.1</th>\n",
       "      <th>LP</th>\n",
       "      <td>1.903997</td>\n",
       "      <td>0.806696</td>\n",
       "    </tr>\n",
       "    <tr>\n",
       "      <th>0.2</th>\n",
       "      <th>LP</th>\n",
       "      <td>1.865742</td>\n",
       "      <td>0.808482</td>\n",
       "    </tr>\n",
       "    <tr>\n",
       "      <th>0.3</th>\n",
       "      <th>LP</th>\n",
       "      <td>1.830869</td>\n",
       "      <td>0.809821</td>\n",
       "    </tr>\n",
       "    <tr>\n",
       "      <th>0.4</th>\n",
       "      <th>LP</th>\n",
       "      <td>1.799303</td>\n",
       "      <td>0.812946</td>\n",
       "    </tr>\n",
       "    <tr>\n",
       "      <th>0.5</th>\n",
       "      <th>LP</th>\n",
       "      <td>1.771318</td>\n",
       "      <td>0.813393</td>\n",
       "    </tr>\n",
       "    <tr>\n",
       "      <th>0.6</th>\n",
       "      <th>LP</th>\n",
       "      <td>1.747497</td>\n",
       "      <td>0.817857</td>\n",
       "    </tr>\n",
       "    <tr>\n",
       "      <th>0.7</th>\n",
       "      <th>LP</th>\n",
       "      <td>1.729336</td>\n",
       "      <td>0.817411</td>\n",
       "    </tr>\n",
       "    <tr>\n",
       "      <th>0.8</th>\n",
       "      <th>LP</th>\n",
       "      <td>1.720197</td>\n",
       "      <td>0.814732</td>\n",
       "    </tr>\n",
       "    <tr>\n",
       "      <th>0.9</th>\n",
       "      <th>LP</th>\n",
       "      <td>1.726946</td>\n",
       "      <td>0.807589</td>\n",
       "    </tr>\n",
       "  </tbody>\n",
       "</table>\n",
       "</div>"
      ],
      "text/plain": [
       "                        loss_val   acc_val\n",
       "num_layers alpha label                    \n",
       "10.0       0.1   LP     1.903997  0.806696\n",
       "           0.2   LP     1.865742  0.808482\n",
       "           0.3   LP     1.830869  0.809821\n",
       "           0.4   LP     1.799303  0.812946\n",
       "           0.5   LP     1.771318  0.813393\n",
       "           0.6   LP     1.747497  0.817857\n",
       "           0.7   LP     1.729336  0.817411\n",
       "           0.8   LP     1.720197  0.814732\n",
       "           0.9   LP     1.726946  0.807589"
      ]
     },
     "execution_count": 34,
     "metadata": {},
     "output_type": "execute_result"
    }
   ],
   "source": [
    "df_grouped = df.groupby(['dataset', 'num_layers', 'alpha', 'label']).mean()\n",
    "df[df['dataset']=='cora_ml'].groupby(['num_layers', 'alpha', 'label']).mean()[['loss_val', 'acc_val']]"
   ]
  },
  {
   "cell_type": "code",
   "execution_count": 35,
   "id": "ed602018",
   "metadata": {},
   "outputs": [
    {
     "data": {
      "text/html": [
       "<div>\n",
       "<style scoped>\n",
       "    .dataframe tbody tr th:only-of-type {\n",
       "        vertical-align: middle;\n",
       "    }\n",
       "\n",
       "    .dataframe tbody tr th {\n",
       "        vertical-align: top;\n",
       "    }\n",
       "\n",
       "    .dataframe thead th {\n",
       "        text-align: right;\n",
       "    }\n",
       "</style>\n",
       "<table border=\"1\" class=\"dataframe\">\n",
       "  <thead>\n",
       "    <tr style=\"text-align: right;\">\n",
       "      <th></th>\n",
       "      <th></th>\n",
       "      <th></th>\n",
       "      <th>loss_val</th>\n",
       "      <th>acc_val</th>\n",
       "    </tr>\n",
       "    <tr>\n",
       "      <th>num_layers</th>\n",
       "      <th>alpha</th>\n",
       "      <th>label</th>\n",
       "      <th></th>\n",
       "      <th></th>\n",
       "    </tr>\n",
       "  </thead>\n",
       "  <tbody>\n",
       "    <tr>\n",
       "      <th rowspan=\"9\" valign=\"top\">10.0</th>\n",
       "      <th>0.1</th>\n",
       "      <th>LP</th>\n",
       "      <td>1.757943</td>\n",
       "      <td>0.661979</td>\n",
       "    </tr>\n",
       "    <tr>\n",
       "      <th>0.2</th>\n",
       "      <th>LP</th>\n",
       "      <td>1.727363</td>\n",
       "      <td>0.664583</td>\n",
       "    </tr>\n",
       "    <tr>\n",
       "      <th>0.3</th>\n",
       "      <th>LP</th>\n",
       "      <td>1.699559</td>\n",
       "      <td>0.665625</td>\n",
       "    </tr>\n",
       "    <tr>\n",
       "      <th>0.4</th>\n",
       "      <th>LP</th>\n",
       "      <td>1.674080</td>\n",
       "      <td>0.668229</td>\n",
       "    </tr>\n",
       "    <tr>\n",
       "      <th>0.5</th>\n",
       "      <th>LP</th>\n",
       "      <td>1.650692</td>\n",
       "      <td>0.668229</td>\n",
       "    </tr>\n",
       "    <tr>\n",
       "      <th>0.6</th>\n",
       "      <th>LP</th>\n",
       "      <td>1.629468</td>\n",
       "      <td>0.670833</td>\n",
       "    </tr>\n",
       "    <tr>\n",
       "      <th>0.7</th>\n",
       "      <th>LP</th>\n",
       "      <td>1.610809</td>\n",
       "      <td>0.672396</td>\n",
       "    </tr>\n",
       "    <tr>\n",
       "      <th>0.8</th>\n",
       "      <th>LP</th>\n",
       "      <td>1.596252</td>\n",
       "      <td>0.670313</td>\n",
       "    </tr>\n",
       "    <tr>\n",
       "      <th>0.9</th>\n",
       "      <th>LP</th>\n",
       "      <td>1.590087</td>\n",
       "      <td>0.664583</td>\n",
       "    </tr>\n",
       "  </tbody>\n",
       "</table>\n",
       "</div>"
      ],
      "text/plain": [
       "                        loss_val   acc_val\n",
       "num_layers alpha label                    \n",
       "10.0       0.1   LP     1.757943  0.661979\n",
       "           0.2   LP     1.727363  0.664583\n",
       "           0.3   LP     1.699559  0.665625\n",
       "           0.4   LP     1.674080  0.668229\n",
       "           0.5   LP     1.650692  0.668229\n",
       "           0.6   LP     1.629468  0.670833\n",
       "           0.7   LP     1.610809  0.672396\n",
       "           0.8   LP     1.596252  0.670313\n",
       "           0.9   LP     1.590087  0.664583"
      ]
     },
     "execution_count": 35,
     "metadata": {},
     "output_type": "execute_result"
    }
   ],
   "source": [
    "df[df['dataset']=='citeseer'].groupby(['num_layers', 'alpha', 'label']).mean()[['loss_val', 'acc_val']]"
   ]
  },
  {
   "cell_type": "code",
   "execution_count": 16,
   "id": "1da18b1a",
   "metadata": {},
   "outputs": [
    {
     "data": {
      "text/html": [
       "<div>\n",
       "<style scoped>\n",
       "    .dataframe tbody tr th:only-of-type {\n",
       "        vertical-align: middle;\n",
       "    }\n",
       "\n",
       "    .dataframe tbody tr th {\n",
       "        vertical-align: top;\n",
       "    }\n",
       "\n",
       "    .dataframe thead th {\n",
       "        text-align: right;\n",
       "    }\n",
       "</style>\n",
       "<table border=\"1\" class=\"dataframe\">\n",
       "  <thead>\n",
       "    <tr style=\"text-align: right;\">\n",
       "      <th></th>\n",
       "      <th></th>\n",
       "      <th></th>\n",
       "      <th>loss_val</th>\n",
       "      <th>acc_val</th>\n",
       "    </tr>\n",
       "    <tr>\n",
       "      <th>num_layers</th>\n",
       "      <th>alpha</th>\n",
       "      <th>label</th>\n",
       "      <th></th>\n",
       "      <th></th>\n",
       "    </tr>\n",
       "  </thead>\n",
       "  <tbody>\n",
       "    <tr>\n",
       "      <th>10.0</th>\n",
       "      <th>0.7</th>\n",
       "      <th>LP</th>\n",
       "      <td>3.557057</td>\n",
       "      <td>0.670526</td>\n",
       "    </tr>\n",
       "  </tbody>\n",
       "</table>\n",
       "</div>"
      ],
      "text/plain": [
       "                        loss_val   acc_val\n",
       "num_layers alpha label                    \n",
       "10.0       0.7   LP     3.557057  0.670526"
      ]
     },
     "execution_count": 16,
     "metadata": {},
     "output_type": "execute_result"
    }
   ],
   "source": [
    "df[df['dataset']=='ogbn-arxiv'].groupby(['num_layers', 'alpha', 'label']).mean()[['loss_val', 'acc_val']]"
   ]
  },
  {
   "cell_type": "markdown",
   "id": "3d13eef4",
   "metadata": {},
   "source": [
    "# dataset statistics \n"
   ]
  },
  {
   "cell_type": "code",
   "execution_count": 74,
   "id": "cf2612a0",
   "metadata": {},
   "outputs": [],
   "source": [
    "from collections import Counter\n",
    "\n",
    "def histplot_degree_distr(A, title=\"CORA\", max_plot_deg=None):\n",
    "    deg = np.sum(A, axis=1)\n",
    "    max_deg = np.max(deg)\n",
    "    print(f\"Average Degree: {np.sum(deg) / deg.shape[0]:.2f}\")\n",
    "    print(f\"Maximum Degree: {max_deg}\")\n",
    "    c = Counter(deg)\n",
    "    ordered_c = [c[i] if i in c else 0 for i in range(max_deg+1)]\n",
    "    fig, axs = plt.subplots(1, 1)\n",
    "    #print(ordered_c)\n",
    "    bins = [i for i in range(len(ordered_c)+1)] \n",
    "    #axs.hist(bins[:-1], bins, weights=ordered_c, color=\"blue\", rwidth=0.7, alpha=0.5)\n",
    "    axs.bar(bins[:-1], ordered_c, alpha=0.8)\n",
    "    #counts, bins = np.histogram(deg)\n",
    "    #axs.stairs(bins, counts)\n",
    "    if max_plot_deg is not None:\n",
    "        axs.set_xlim(left=0, right=max_plot_deg)\n",
    "    axs.set_ylabel(\"Number of Nodes\")\n",
    "    axs.set_xlabel(\"Node Degree\")\n",
    "    axs.set_title(title)\n",
    "    plt.show()\n",
    "    return fig"
   ]
  },
  {
   "cell_type": "code",
   "execution_count": 129,
   "id": "3574cc28",
   "metadata": {},
   "outputs": [
    {
     "data": {
      "text/plain": [
       "tensor([115, 463, 388, 304, 532, 308], device='cuda:0')"
      ]
     },
     "execution_count": 129,
     "metadata": {},
     "output_type": "execute_result"
    }
   ],
   "source": [
    "dataset = 'citeseer'\n",
    "attr, adj_val, adj, idx_train, idx_val, idx_test, labels = load_dataset(dataset, device=0, seed = 0)\n",
    "labels.bincount()"
   ]
  },
  {
   "cell_type": "code",
   "execution_count": 101,
   "id": "32fecc3e",
   "metadata": {},
   "outputs": [],
   "source": [
    "def get_statistics(dataset):\n",
    "    attr, adj_val, adj, idx_train, idx_val, idx_test, labels = load_dataset(dataset, device=0, seed = 0)\n",
    "    #Nodes,\n",
    "    n_nodes = attr.shape[0]\n",
    "    #Edges, \n",
    "    n_edges = adj.sum()/2\n",
    "    #Features,\n",
    "    n_features = attr.shape[1]\n",
    "    #Classes, \n",
    "    n_classes = len(labels.unique())\n",
    "    #Average Node Degree, \n",
    "    avg_node_degree = adj.sum(dim=0).mean()\n",
    "    #Average Same-Class Node Degree, \n",
    "    mask = labels.repeat(n_nodes, 1) == labels.repeat(n_nodes, 1).T\n",
    "    avg_node_degree_same = (mask*adj.to_dense()).sum(dim=0).mean()\n",
    "    #Average Different-Class Node Degree\n",
    "    mask = labels.repeat(n_nodes, 1) != labels.repeat(n_nodes, 1).T\n",
    "    avg_node_degree_other = (mask*adj.to_dense()).sum(dim=0).mean()\n",
    "    return {'# Nodes': n_nodes,\n",
    "            '# Edges': int(n_edges.cpu().numpy()),\n",
    "            '# Features': n_features,\n",
    "            '# Classes': n_classes,\n",
    "            'Average Node Degree': float(avg_node_degree.cpu().numpy()),\n",
    "            'Average Same-Class Node Degree': float(avg_node_degree_same.cpu().numpy()),\n",
    "            'Average Different-Class Node Degree': float(avg_node_degree_other.cpu().numpy())}"
   ]
  },
  {
   "cell_type": "code",
   "execution_count": 128,
   "id": "89020239",
   "metadata": {},
   "outputs": [
    {
     "name": "stdout",
     "output_type": "stream",
     "text": [
      "\\begin{tabular}{lrrrrrrr}\n",
      "\\toprule\n",
      "{} &  \\# Nodes &  \\# Edges &  \\# Features &  \\# Classes &  Average Node Degree &  Average Same-Class Node Degree &  Average Different-Class Node Degree \\\\\n",
      "Dataset  &          &          &             &            &                      &                                 &                                      \\\\\n",
      "\\midrule\n",
      "Cora-ML  &     2810 &     7981 &        2879 &          7 &                 5.68 &                            4.46 &                                 1.22 \\\\\n",
      "Citeseer &     2110 &     3668 &        3703 &          6 &                 3.48 &                            2.56 &                                 0.92 \\\\\n",
      "\\bottomrule\n",
      "\\end{tabular}\n",
      "\n"
     ]
    }
   ],
   "source": [
    "df = pd.DataFrame()\n",
    "datasets = [('cora_ml', 'Cora-ML'), ('citeseer', 'Citeseer')]\n",
    "for dataset, title in datasets:\n",
    "    data_dict = get_statistics(dataset)\n",
    "    data_dict['Dataset'] = title\n",
    "    df = df.append(data_dict, ignore_index=True)\n",
    "cols = ['# Nodes','# Edges','# Features','# Classes','Average Node Degree','Average Same-Class Node Degree','Average Different-Class Node Degree']\n",
    "df = df.round(decimals=2)\n",
    "df[['# Nodes','# Edges','# Features','# Classes']] = df[['# Nodes','# Edges','# Features','# Classes']].astype(int)\n",
    "df = df.set_index('Dataset')\n",
    "print(df[cols].to_latex())"
   ]
  },
  {
   "cell_type": "code",
   "execution_count": 81,
   "id": "6f1eabb0",
   "metadata": {},
   "outputs": [
    {
     "name": "stdout",
     "output_type": "stream",
     "text": [
      "Average Degree: 3.48\n",
      "Maximum Degree: 99\n"
     ]
    },
    {
     "data": {
      "image/png": "[encoded data removed]",
      "text/plain": [
       "<Figure size 432x288 with 1 Axes>"
      ]
     },
     "metadata": {
      "needs_background": "light"
     },
     "output_type": "display_data"
    }
   ],
   "source": [
    "fig = histplot_degree_distr(adj.to_dense().cpu().int().numpy(), title='Citeseer', max_plot_deg=15)\n",
    "fig.savefig('../results/images_overrobust/citeseer/degree_plot.pdf', bbox_inches='tight', format='pdf') "
   ]
  }
 ],
 "metadata": {
  "kernelspec": {
   "display_name": "Python 3 (ipykernel)",
   "language": "python",
   "name": "python3"
  },
  "language_info": {
   "codemirror_mode": {
    "name": "ipython",
    "version": 3
   },
   "file_extension": ".py",
   "mimetype": "text/x-python",
   "name": "python",
   "nbconvert_exporter": "python",
   "pygments_lexer": "ipython3",
   "version": "3.8.12"
  },
  "vscode": {
   "interpreter": {
    "hash": "9806fd15aa752b4615abd2f6adec40f9b26b8922651ea05880f7f6f75c02fe55"
   }
  }
 },
 "nbformat": 4,
 "nbformat_minor": 5
}
