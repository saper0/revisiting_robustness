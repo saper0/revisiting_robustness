{
 "cells": [
  {
   "cell_type": "code",
   "execution_count": 8,
   "metadata": {},
   "outputs": [
    {
     "name": "stdout",
     "output_type": "stream",
     "text": [
      "Dataset: Cora():\n",
      "======================\n",
      "Number of graphs: 1\n",
      "Number of features: 1433\n",
      "Number of classes: 7\n",
      "Number of nodes: 2708\n",
      "Number of edges: 10556\n",
      "Average node degree: 3.90\n",
      "Number of training nodes: 140\n",
      "Training node label rate: 0.05\n",
      "Contains isolated nodes: False\n",
      "Contains self-loops: False\n",
      "Is undirected: True\n"
     ]
    },
    {
     "name": "stderr",
     "output_type": "stream",
     "text": [
      "/nfs/homedirs/gosl/miniconda3/envs/py397/lib/python3.9/site-packages/torch_geometric/deprecation.py:13: UserWarning: 'contains_isolated_nodes' is deprecated, use 'has_isolated_nodes' instead\n",
      "  warnings.warn(out)\n",
      "/nfs/homedirs/gosl/miniconda3/envs/py397/lib/python3.9/site-packages/torch_geometric/deprecation.py:13: UserWarning: 'contains_self_loops' is deprecated, use 'has_self_loops' instead\n",
      "  warnings.warn(out)\n"
     ]
    }
   ],
   "source": [
    "from collections import Counter\n",
    "import matplotlib.pyplot as plt\n",
    "import numpy as np\n",
    "import torch\n",
    "from torch_geometric.datasets import Planetoid\n",
    "dataset = Planetoid(root='../../data', name='Cora')\n",
    "\n",
    "data = dataset[0]\n",
    "print(f'Dataset: {dataset}:')\n",
    "print('======================')\n",
    "print(f'Number of graphs: {len(dataset)}')\n",
    "print(f'Number of features: {dataset.num_features}')\n",
    "print(f'Number of classes: {dataset.num_classes}')\n",
    "\n",
    "print(f'Number of nodes: {data.num_nodes}')\n",
    "print(f'Number of edges: {data.num_edges}')\n",
    "print(f'Average node degree: {data.num_edges / data.num_nodes:.2f}')\n",
    "print(f'Number of training nodes: {data.train_mask.sum()}')\n",
    "print(f'Training node label rate: {int(data.train_mask.sum()) / data.num_nodes:.2f}')\n",
    "print(f'Contains isolated nodes: {data.contains_isolated_nodes()}')\n",
    "print(f'Contains self-loops: {data.contains_self_loops()}')\n",
    "print(f'Is undirected: {data.is_undirected()}')"
   ]
  },
  {
   "cell_type": "markdown",
   "metadata": {},
   "source": [
    "# Average Degrees"
   ]
  },
  {
   "cell_type": "code",
   "execution_count": 12,
   "metadata": {},
   "outputs": [
    {
     "name": "stdout",
     "output_type": "stream",
     "text": [
      "Average #edges per node: 3.8980797636632203\n",
      "Average intra-connections: 3.157311669128508\n",
      "Average inter-connections: 0.7407680945347119\n"
     ]
    }
   ],
   "source": [
    "# Counts all edges twice!\n",
    "n_intra_edges = 0\n",
    "n_inter_edges = 0\n",
    "n = data.num_nodes\n",
    "for n1, n2 in zip(data.edge_index[0], data.edge_index[1]):\n",
    "    if data.y[n1] == data.y[n2]:\n",
    "        n_intra_edges += 1\n",
    "    else:\n",
    "        n_inter_edges += 1\n",
    "print(f\"Average #edges per node: {(n_intra_edges + n_inter_edges)/n}\")\n",
    "print(f\"Average intra-connections: {n_intra_edges / n}\")\n",
    "print(f\"Average inter-connections: {n_inter_edges / n}\")"
   ]
  },
  {
   "cell_type": "code",
   "execution_count": 14,
   "metadata": {},
   "outputs": [
    {
     "name": "stdout",
     "output_type": "stream",
     "text": [
      "Number of edges: 5278\n",
      "Average #edges per node: 1.9490398818316101\n",
      "Average intra-connections: 1.578655834564254\n",
      "Average inter-connections: 0.37038404726735596\n"
     ]
    }
   ],
   "source": [
    "# Count edges onces\n",
    "A_sparse = torch.sparse_coo_tensor(data.edge_index, [1 for i in range(data.num_edges)])\n",
    "A = A_sparse.to_dense()\n",
    "n = data.num_nodes\n",
    "n_intra_edges = 0\n",
    "n_inter_edges = 0\n",
    "for i in range(n):\n",
    "    for j in range(i+1, n):\n",
    "        if data.y[i] == data.y[j]:\n",
    "            if A[i,j] == 1:\n",
    "                 n_intra_edges += 1\n",
    "        else:\n",
    "            if A[i,j] == 1:\n",
    "                 n_inter_edges += 1\n",
    "print(f\"Number of edges: {n_intra_edges + n_inter_edges}\")\n",
    "print(f\"Average #edges per node: {(n_intra_edges + n_inter_edges)/n}\")\n",
    "print(f\"Average intra-connections per node: {n_intra_edges / n}\")\n",
    "print(f\"Average inter-connections per node: {n_inter_edges / n}\")"
   ]
  },
  {
   "cell_type": "code",
   "execution_count": 11,
   "metadata": {},
   "outputs": [
    {
     "name": "stdout",
     "output_type": "stream",
     "text": [
      "Average Degree: 3.8980797636632203\n"
     ]
    },
    {
     "data": {
      "text/plain": [
       "(0.0, 15.0)"
      ]
     },
     "execution_count": 11,
     "metadata": {},
     "output_type": "execute_result"
    },
    {
     "data": {
      "image/png": "[encoded data removed]",
      "text/plain": [
       "<Figure size 432x288 with 1 Axes>"
      ]
     },
     "metadata": {
      "needs_background": "light"
     },
     "output_type": "display_data"
    }
   ],
   "source": [
    "deg = torch.sum(A, dim=1).cpu().numpy()\n",
    "print(f\"Average Degree: {np.sum(deg) / deg.shape[0]}\")\n",
    "max_deg = np.max(deg)\n",
    "c = Counter(deg)\n",
    "ordered_c = [c[i] if i in c else 0 for i in range(max_deg+1)]\n",
    "fig, axs = plt.subplots(1, 1)\n",
    "axs.plot(range(len(ordered_c)), ordered_c, 'o-')\n",
    "axs.set_xlim(left=0, right=15)\n"
   ]
  },
  {
   "cell_type": "code",
   "execution_count": 2,
   "metadata": {},
   "outputs": [
    {
     "name": "stdout",
     "output_type": "stream",
     "text": [
      "torch.Size([2, 10556])\n"
     ]
    }
   ],
   "source": [
    "print(data.edge_index.shape)"
   ]
  },
  {
   "cell_type": "code",
   "execution_count": null,
   "metadata": {},
   "outputs": [],
   "source": []
  }
 ],
 "metadata": {
  "interpreter": {
   "hash": "c4e45668083cbb37b7048c0587d1e2fbbeab0bbf8f83b3643c89a090a0af4084"
  },
  "kernelspec": {
   "display_name": "Python 3.9.7 ('py397': conda)",
   "language": "python",
   "name": "python3"
  },
  "language_info": {
   "codemirror_mode": {
    "name": "ipython",
    "version": 3
   },
   "file_extension": ".py",
   "mimetype": "text/x-python",
   "name": "python",
   "nbconvert_exporter": "python",
   "pygments_lexer": "ipython3",
   "version": "3.9.7"
  },
  "orig_nbformat": 4
 },
 "nbformat": 4,
 "nbformat_minor": 2
}
