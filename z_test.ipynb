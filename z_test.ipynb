{
 "cells": [
  {
   "cell_type": "code",
   "execution_count": 1,
   "metadata": {},
   "outputs": [],
   "source": [
    "import matplotlib.pyplot as plt\n",
    "import numpy as np\n",
    "import math"
   ]
  },
  {
   "cell_type": "code",
   "execution_count": 26,
   "metadata": {},
   "outputs": [
    {
     "name": "stdout",
     "output_type": "stream",
     "text": [
      "[[1 2 3]\n",
      " [4 5 6]\n",
      " [7 8 9]]\n"
     ]
    }
   ],
   "source": [
    "a = np.array([[1,2,3],[4,5,6],[7,8,9]])\n",
    "a[[],1] = 0\n",
    "print(a)"
   ]
  },
  {
   "cell_type": "code",
   "execution_count": 13,
   "metadata": {},
   "outputs": [
    {
     "name": "stdout",
     "output_type": "stream",
     "text": [
      "int64\n"
     ]
    }
   ],
   "source": [
    "A = np.random.binomial(1, [[0.1, 0.1],[0.8,0.3]])\n",
    "print(A.dtype)"
   ]
  },
  {
   "cell_type": "code",
   "execution_count": 30,
   "metadata": {},
   "outputs": [],
   "source": [
    "def _ComputeExpectedEdgeCounts(num_edges, num_vertices,\n",
    "                               pi,\n",
    "                               prop_mat):\n",
    "  \"\"\"Computes expected edge counts within and between communities.\n",
    "  Args:\n",
    "    num_edges: expected number of edges in the graph.\n",
    "    num_vertices: number of nodes in the graph\n",
    "    pi: interable of non-zero community size proportions. Must sum to 1.0, but\n",
    "      this check is left to the caller of this internal function.\n",
    "    prop_mat: square, symmetric matrix of community edge count rates. Entries\n",
    "      must be non-negative, but this check is left to the caller.\n",
    "  Returns:\n",
    "    symmetric matrix with shape prop_mat.shape giving expected edge counts.\n",
    "  \"\"\"\n",
    "  print(np.matmul(prop_mat, pi).shape)\n",
    "  scale = np.matmul(pi, np.matmul(prop_mat, pi)) \n",
    "  print(scale)\n",
    "  prob_mat = prop_mat * num_edges / scale\n",
    "  return np.outer(pi, pi) * prob_mat"
   ]
  },
  {
   "cell_type": "code",
   "execution_count": 31,
   "metadata": {},
   "outputs": [],
   "source": [
    "num_edges = 100\n",
    "num_vertices = 50\n",
    "pi = np.array([0.7, 0.2, 0.1])\n",
    "prop_mat = np.array([[5, 1, 1],[1, 5, 1], [1, 1, 5]])"
   ]
  },
  {
   "cell_type": "code",
   "execution_count": 32,
   "metadata": {},
   "outputs": [
    {
     "name": "stdout",
     "output_type": "stream",
     "text": [
      "(3,)\n",
      "3.16\n"
     ]
    }
   ],
   "source": [
    "w = _ComputeExpectedEdgeCounts(num_edges, num_vertices, pi, prop_mat)"
   ]
  },
  {
   "cell_type": "code",
   "execution_count": 29,
   "metadata": {},
   "outputs": [
    {
     "data": {
      "text/plain": [
       "array([[77.53164557,  4.43037975,  2.21518987],\n",
       "       [ 4.43037975,  6.32911392,  0.63291139],\n",
       "       [ 2.21518987,  0.63291139,  1.58227848]])"
      ]
     },
     "execution_count": 29,
     "metadata": {},
     "output_type": "execute_result"
    }
   ],
   "source": [
    "w / 3.16"
   ]
  },
  {
   "cell_type": "code",
   "execution_count": 21,
   "metadata": {},
   "outputs": [
    {
     "data": {
      "text/plain": [
       "array([84.17721519, 11.39240506,  4.43037975])"
      ]
     },
     "execution_count": 21,
     "metadata": {},
     "output_type": "execute_result"
    }
   ],
   "source": [
    "np.sum(w, axis=1)"
   ]
  },
  {
   "cell_type": "code",
   "execution_count": null,
   "metadata": {},
   "outputs": [],
   "source": []
  }
 ],
 "metadata": {
  "interpreter": {
   "hash": "c4e45668083cbb37b7048c0587d1e2fbbeab0bbf8f83b3643c89a090a0af4084"
  },
  "kernelspec": {
   "display_name": "Python 3.9.7 ('py397')",
   "language": "python",
   "name": "python3"
  },
  "language_info": {
   "codemirror_mode": {
    "name": "ipython",
    "version": 3
   },
   "file_extension": ".py",
   "mimetype": "text/x-python",
   "name": "python",
   "nbconvert_exporter": "python",
   "pygments_lexer": "ipython3",
   "version": "3.9.7"
  },
  "orig_nbformat": 4
 },
 "nbformat": 4,
 "nbformat_minor": 2
}
