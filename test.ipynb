{
 "cells": [
  {
   "cell_type": "code",
   "execution_count": 1,
   "metadata": {},
   "outputs": [],
   "source": [
    "# Reload modules automatically\n",
    "# https://ipython.readthedocs.io/en/stable/config/extensions/autoreload.html\n",
    "%load_ext autoreload\n",
    "%autoreload 2"
   ]
  },
  {
   "cell_type": "code",
   "execution_count": 2,
   "metadata": {},
   "outputs": [
    {
     "name": "stderr",
     "output_type": "stream",
     "text": [
      "WARNING:root:Cuda kernels could not loaded -> no CUDA support!\n",
      "WARNING:root:The OGB package is out of date. Your version is 1.3.2, while the latest version is 1.3.4.\n"
     ]
    }
   ],
   "source": [
    "import importlib\n",
    "from src.graph_models import create_graph_model\n",
    "import numpy as np\n",
    "import torch\n",
    "import exp_eval_robustness\n",
    "import exp_train\n",
    "from torch_sparse import SparseTensor"
   ]
  },
  {
   "cell_type": "code",
   "execution_count": 8,
   "metadata": {},
   "outputs": [],
   "source": [
    "data_params = dict(\n",
    "    graph_model = 'CSBM',\n",
    "    classes = 2,\n",
    "    n = 1000,\n",
    "    n_per_class_trn = 400,\n",
    "    K = 0.1,\n",
    "    sigma = 1,\n",
    "    avg_within_class_degree = 1.58 * 2,\n",
    "    avg_between_class_degree = 0.37 * 2,\n",
    "    inductive_samples = 10\n",
    ")\n",
    "\n",
    "model_params = dict(\n",
    "    label=\"MLP\",\n",
    "    model=\"MLP\",\n",
    "    n_filters=64,\n",
    "    dropout=0.5,\n",
    "    hidden_channels=32,\n",
    "    use_label_propagation=False,\n",
    ")\n",
    "\n",
    "train_params = dict(\n",
    "    lr=0.1,\n",
    "    weight_decay=1e-3,\n",
    "    patience=300,\n",
    "    max_epochs=3000,\n",
    "    inductive=True,\n",
    ")\n",
    "\n",
    "attack_params = dict(\n",
    "    attack = \"l2\",\n",
    "    surrogate_model_params = dict(\n",
    "        label=\"LinearGCN\",\n",
    "        model=\"LinearGCN\",\n",
    "        n_filter=64,\n",
    "        dropout=0.5,\n",
    "    ),\n",
    "    surrogate_train_params = dict(\n",
    "        lr=0.1,\n",
    "        weight_decay=1e-2,\n",
    "        patience=300,\n",
    "        max_epochs=3000,\n",
    "    )\n",
    ")\n",
    "\n",
    "verbosity_params = dict(\n",
    "    display_steps = 100,\n",
    "    debug_lvl = \"info\"\n",
    ")  \n",
    "\n",
    "other_params = dict(\n",
    "    device = 0,\n",
    "    allow_tf32 = False,\n",
    "    sacred_metrics = True\n",
    ")\n",
    "\n",
    "seed = 0"
   ]
  },
  {
   "cell_type": "code",
   "execution_count": 9,
   "metadata": {},
   "outputs": [
    {
     "name": "stderr",
     "output_type": "stream",
     "text": [
      "2022-09-08 20:08:24 (INFO): Starting experiment exp_eval_robustness with configuration:\n",
      "2022-09-08 20:08:24 (INFO): data_params: {'graph_model': 'CSBM', 'classes': 2, 'n': 1000, 'n_per_class_trn': 400, 'K': 0.1, 'sigma': 1, 'avg_within_class_degree': 3.16, 'avg_between_class_degree': 0.74, 'inductive_samples': 10}\n",
      "2022-09-08 20:08:24 (INFO): model_params: {'label': 'MLP', 'model': 'MLP', 'n_filters': 64, 'dropout': 0.5, 'hidden_channels': 32, 'use_label_propagation': False}\n",
      "2022-09-08 20:08:24 (INFO): train_params: {'lr': 0.1, 'weight_decay': 0.001, 'patience': 300, 'max_epochs': 3000, 'inductive': True}\n",
      "2022-09-08 20:08:24 (INFO): attack_params: {'attack': 'l2', 'surrogate_model_params': {'label': 'LinearGCN', 'model': 'LinearGCN', 'n_filter': 64, 'dropout': 0.5}, 'surrogate_train_params': {'lr': 0.1, 'weight_decay': 0.01, 'patience': 300, 'max_epochs': 3000}}\n",
      "2022-09-08 20:08:24 (INFO): verbosity_params: {'display_steps': 100, 'debug_lvl': 'info'}\n",
      "2022-09-08 20:08:24 (INFO): other_params: {'device': 0, 'allow_tf32': False, 'sacred_metrics': True}\n",
      "2022-09-08 20:08:24 (INFO): seed: 0\n",
      "2022-09-08 20:08:24 (INFO): db_collection: None\n",
      "2022-09-08 20:08:24 (INFO): Currently on gpu device cuda:0\n",
      "2022-09-08 20:08:24 (INFO): \n",
      "Epoch    0: loss_train: 0.74945, loss_val: 0.70670, acc_train: 0.52000, acc_val: 0.50500\n",
      "2022-09-08 20:08:25 (INFO): \n",
      "Epoch  100: loss_train: 0.70293, loss_val: 0.70260, acc_train: 0.51875, acc_val: 0.50000\n",
      "2022-09-08 20:08:25 (INFO): \n",
      "Epoch  200: loss_train: 0.69140, loss_val: 0.70678, acc_train: 0.52625, acc_val: 0.48000\n",
      "2022-09-08 20:08:25 (INFO): \n",
      "Epoch  300: loss_train: 0.71030, loss_val: 0.68805, acc_train: 0.51500, acc_val: 0.51500\n",
      "2022-09-08 20:08:26 (INFO): \n",
      "Epoch   57: loss_train: 0.69116, loss_val: 0.68483, acc_train: 0.56750, acc_val: 0.61500\n",
      "100%|██████████| 10/10 [00:02<00:00,  4.01it/s]\n",
      "2022-09-08 20:08:28 (INFO): Prediction Statistics:\n",
      "2022-09-08 20:08:28 (INFO): Count BC: 10.0 GNN: 5.0\n",
      "2022-09-08 20:08:28 (INFO): Count Structure BC: 10.0 Feature BC: 6.0\n",
      "2022-09-08 20:08:28 (INFO): Count BC and GNN: 5.0\n",
      "2022-09-08 20:08:28 (INFO): Count BC not GNN: 5.0 GNN not BC: 0.0\n",
      "2022-09-08 20:08:28 (INFO): Robustness Statistics:\n",
      "2022-09-08 20:08:28 (INFO): BC more robust than GNN: 0.0\n",
      "2022-09-08 20:08:28 (INFO): BC & GNN equal robustness: 0.0\n",
      "2022-09-08 20:08:28 (INFO): BC less robust than GNN: 5.0\n",
      "2022-09-08 20:08:28 (INFO): Degree 0: <BC robust>: -1.00; <GNN robust>: -1.00; \n",
      "2022-09-08 20:08:28 (INFO): Degree 1: <BC robust>: 1.00; <GNN robust>: -1.00; \n",
      "2022-09-08 20:08:28 (INFO): Degree 2: <BC robust>: 2.00; <GNN robust>: 504.00; \n",
      "2022-09-08 20:08:28 (INFO): Degree 3: <BC robust>: 2.50; <GNN robust>: -1.00; \n",
      "2022-09-08 20:08:28 (INFO): Degree 4: <BC robust>: 2.50; <GNN robust>: 503.67; \n",
      "2022-09-08 20:08:28 (INFO): Degree 5: <BC robust>: 1.00; <GNN robust>: 502.00; \n",
      "2022-09-08 20:08:28 (INFO): Degree 6: <BC robust>: -1.00; <GNN robust>: -1.00; \n",
      "2022-09-08 20:08:28 (INFO): Degree 7: <BC robust>: 3.00; <GNN robust>: -1.00; \n",
      "2022-09-08 20:08:28 (INFO): Degree 0: Max(BC robust): -1.00; Max(GNN robust): -1.00; \n",
      "2022-09-08 20:08:28 (INFO): Degree 1: Max(BC robust): 1.00; Max(GNN robust): -1.00; \n",
      "2022-09-08 20:08:28 (INFO): Degree 2: Max(BC robust): 2.00; Max(GNN robust): 504.00; \n",
      "2022-09-08 20:08:28 (INFO): Degree 3: Max(BC robust): 3.00; Max(GNN robust): -1.00; \n",
      "2022-09-08 20:08:28 (INFO): Degree 4: Max(BC robust): 4.00; Max(GNN robust): 504.00; \n",
      "2022-09-08 20:08:28 (INFO): Degree 5: Max(BC robust): 1.00; Max(GNN robust): 502.00; \n",
      "2022-09-08 20:08:28 (INFO): Degree 6: Max(BC robust): -1.00; Max(GNN robust): -1.00; \n",
      "2022-09-08 20:08:28 (INFO): Degree 7: Max(BC robust): 3.00; Max(GNN robust): -1.00; \n",
      "2022-09-08 20:08:28 (INFO): Degree 0: Median(BC robust): -1.00; Median(GNN robust): -1.00; \n",
      "2022-09-08 20:08:28 (INFO): Degree 1: Median(BC robust): 1.00; Median(GNN robust): -1.00; \n",
      "2022-09-08 20:08:28 (INFO): Degree 2: Median(BC robust): 2.00; Median(GNN robust): 504.00; \n",
      "2022-09-08 20:08:28 (INFO): Degree 3: Median(BC robust): 2.50; Median(GNN robust): -1.00; \n",
      "2022-09-08 20:08:28 (INFO): Degree 4: Median(BC robust): 2.50; Median(GNN robust): 504.00; \n",
      "2022-09-08 20:08:28 (INFO): Degree 5: Median(BC robust): 1.00; Median(GNN robust): 502.00; \n",
      "2022-09-08 20:08:28 (INFO): Degree 6: Median(BC robust): -1.00; Median(GNN robust): -1.00; \n",
      "2022-09-08 20:08:28 (INFO): Degree 7: Median(BC robust): 3.00; Median(GNN robust): -1.00; \n",
      "2022-09-08 20:08:28 (INFO): Degree 0: <GNN wrt BC robust>: -1.00/-1.00. <GNN in wrt BC setting>: -1.00\n",
      "2022-09-08 20:08:28 (INFO): Degree 1: <GNN wrt BC robust>: -1.00/-1.00. <GNN in wrt BC setting>: -1.00\n",
      "2022-09-08 20:08:28 (INFO): Degree 2: <GNN wrt BC robust>: 2.00/2.00. <GNN in wrt BC setting>: 504.00\n",
      "2022-09-08 20:08:28 (INFO): Degree 3: <GNN wrt BC robust>: -1.00/-1.00. <GNN in wrt BC setting>: -1.00\n",
      "2022-09-08 20:08:28 (INFO): Degree 4: <GNN wrt BC robust>: 3.00/3.00. <GNN in wrt BC setting>: 503.67\n",
      "2022-09-08 20:08:28 (INFO): Degree 5: <GNN wrt BC robust>: 1.00/1.00. <GNN in wrt BC setting>: 502.00\n"
     ]
    }
   ],
   "source": [
    "importlib.reload(exp_eval_robustness)\n",
    "importlib.reload(exp_train)\n",
    "#result = exp_train.run(data_params, model_params, train_params, verbosity_params, other_params, seed, None)\n",
    "result = exp_eval_robustness.run(data_params, model_params, train_params, attack_params, verbosity_params, other_params, seed, None)"
   ]
  },
  {
   "cell_type": "code",
   "execution_count": 6,
   "metadata": {},
   "outputs": [
    {
     "name": "stderr",
     "output_type": "stream",
     "text": [
      "2022-09-07 18:16:15 (INFO): Starting experiment exp_eval_robustness with configuration:\n",
      "2022-09-07 18:16:15 (INFO): data_params: {'graph_model': 'CSBM', 'classes': 2, 'n': 1000, 'n_per_class_trn': 400, 'K': 5, 'sigma': 1, 'avg_within_class_degree': 3.16, 'avg_between_class_degree': 0.74, 'inductive_samples': 10}\n",
      "2022-09-07 18:16:15 (INFO): model_params: {'label': 'GAT', 'model': 'GAT', 'dropout': 0.0, 'n_heads': 8, 'n_features_per_head': 8, 'dropout_neighbourhood': 0.0, 'use_label_propagation': False}\n",
      "2022-09-07 18:16:15 (INFO): train_params: {'lr': 0.1, 'weight_decay': 0.001, 'patience': 300, 'max_epochs': 3000, 'inductive': True}\n",
      "2022-09-07 18:16:15 (INFO): attack_params: {'attack': 'l2', 'surrogate_model_params': {'label': 'LinearGCN', 'model': 'LinearGCN', 'n_filter': 64, 'dropout': 0.5}, 'surrogate_train_params': {'lr': 0.1, 'weight_decay': 0.01, 'patience': 300, 'max_epochs': 3000}}\n",
      "2022-09-07 18:16:15 (INFO): verbosity_params: {'display_steps': 100, 'debug_lvl': 'info'}\n",
      "2022-09-07 18:16:15 (INFO): other_params: {'device': 0, 'allow_tf32': False, 'sacred_metrics': True}\n",
      "2022-09-07 18:16:15 (INFO): seed: 0\n",
      "2022-09-07 18:16:15 (INFO): db_collection: None\n",
      "2022-09-07 18:16:15 (INFO): Currently on gpu device cuda:0\n",
      "2022-09-07 18:16:16 (INFO): \n",
      "Epoch    0: loss_train: 0.83042, loss_val: 0.77066, acc_train: 0.48000, acc_val: 0.38000\n",
      "2022-09-07 18:16:17 (INFO): \n",
      "Epoch  100: loss_train: 0.28391, loss_val: 0.06228, acc_train: 0.85250, acc_val: 0.97500\n",
      "2022-09-07 18:16:18 (INFO): \n",
      "Epoch  200: loss_train: 0.28092, loss_val: 0.06015, acc_train: 0.85750, acc_val: 0.97500\n",
      "2022-09-07 18:16:18 (INFO): \n",
      "Epoch  300: loss_train: 0.28151, loss_val: 0.06537, acc_train: 0.86250, acc_val: 0.97000\n",
      "2022-09-07 18:16:19 (INFO): \n",
      "Epoch  400: loss_train: 0.30352, loss_val: 0.07007, acc_train: 0.84250, acc_val: 0.96000\n",
      "2022-09-07 18:16:20 (INFO): \n",
      "Epoch  500: loss_train: 0.28639, loss_val: 0.06131, acc_train: 0.84375, acc_val: 0.98000\n",
      "2022-09-07 18:16:21 (INFO): \n",
      "Epoch  600: loss_train: 0.27567, loss_val: 0.07622, acc_train: 0.86000, acc_val: 0.97000\n",
      "2022-09-07 18:16:21 (INFO): \n",
      "Epoch  336: loss_train: 0.30839, loss_val: 0.05093, acc_train: 0.83500, acc_val: 0.98000\n",
      "100%|██████████| 10/10 [00:09<00:00,  1.00it/s]\n",
      "2022-09-07 18:16:31 (INFO): Prediction Statistics:\n",
      "2022-09-07 18:16:31 (INFO): Count BC: 10.0 GNN: 10.0\n",
      "2022-09-07 18:16:31 (INFO): Count Structure BC: 10.0 Feature BC: 10.0\n",
      "2022-09-07 18:16:31 (INFO): Count BC and GNN: 10.0\n",
      "2022-09-07 18:16:31 (INFO): Count BC not GNN: 0.0 GNN not BC: 0.0\n",
      "2022-09-07 18:16:31 (INFO): Robustness Statistics:\n",
      "2022-09-07 18:16:31 (INFO): BC more robust than GNN: 3.0\n",
      "2022-09-07 18:16:31 (INFO): BC & GNN equal robustness: 0.0\n",
      "2022-09-07 18:16:31 (INFO): BC less robust than GNN: 7.0\n",
      "2022-09-07 18:16:31 (INFO): Degree 0: <BC robust>: -1.00; <GNN robust>: -1.00; \n",
      "2022-09-07 18:16:31 (INFO): Degree 1: <BC robust>: 8.00; <GNN robust>: 1.00; \n",
      "2022-09-07 18:16:31 (INFO): Degree 2: <BC robust>: 12.00; <GNN robust>: 504.00; \n",
      "2022-09-07 18:16:31 (INFO): Degree 3: <BC robust>: 12.00; <GNN robust>: 85.50; \n",
      "2022-09-07 18:16:31 (INFO): Degree 4: <BC robust>: 10.75; <GNN robust>: 151.00; \n",
      "2022-09-07 18:16:31 (INFO): Degree 5: <BC robust>: 12.00; <GNN robust>: 5.00; \n",
      "2022-09-07 18:16:31 (INFO): Degree 6: <BC robust>: -1.00; <GNN robust>: -1.00; \n",
      "2022-09-07 18:16:31 (INFO): Degree 7: <BC robust>: 12.00; <GNN robust>: 62.00; \n",
      "2022-09-07 18:16:31 (INFO): Degree 0: Max(BC robust): -1.00; Max(GNN robust): -1.00; \n",
      "2022-09-07 18:16:31 (INFO): Degree 1: Max(BC robust): 8.00; Max(GNN robust): 1.00; \n",
      "2022-09-07 18:16:31 (INFO): Degree 2: Max(BC robust): 12.00; Max(GNN robust): 504.00; \n",
      "2022-09-07 18:16:31 (INFO): Degree 3: Max(BC robust): 14.00; Max(GNN robust): 115.00; \n",
      "2022-09-07 18:16:31 (INFO): Degree 4: Max(BC robust): 14.00; Max(GNN robust): 504.00; \n",
      "2022-09-07 18:16:31 (INFO): Degree 5: Max(BC robust): 12.00; Max(GNN robust): 5.00; \n",
      "2022-09-07 18:16:31 (INFO): Degree 6: Max(BC robust): -1.00; Max(GNN robust): -1.00; \n",
      "2022-09-07 18:16:31 (INFO): Degree 7: Max(BC robust): 12.00; Max(GNN robust): 62.00; \n",
      "2022-09-07 18:16:31 (INFO): Degree 0: Median(BC robust): -1.00; Median(GNN robust): -1.00; \n",
      "2022-09-07 18:16:31 (INFO): Degree 1: Median(BC robust): 8.00; Median(GNN robust): 1.00; \n",
      "2022-09-07 18:16:31 (INFO): Degree 2: Median(BC robust): 12.00; Median(GNN robust): 504.00; \n",
      "2022-09-07 18:16:31 (INFO): Degree 3: Median(BC robust): 12.00; Median(GNN robust): 85.50; \n",
      "2022-09-07 18:16:31 (INFO): Degree 4: Median(BC robust): 10.50; Median(GNN robust): 45.50; \n",
      "2022-09-07 18:16:31 (INFO): Degree 5: Median(BC robust): 12.00; Median(GNN robust): 5.00; \n",
      "2022-09-07 18:16:31 (INFO): Degree 6: Median(BC robust): -1.00; Median(GNN robust): -1.00; \n",
      "2022-09-07 18:16:31 (INFO): Degree 7: Median(BC robust): 12.00; Median(GNN robust): 62.00; \n",
      "2022-09-07 18:16:31 (INFO): Degree 0: <GNN wrt BC robust>: -1.00/-1.00. <GNN in wrt BC setting>: -1.00\n",
      "2022-09-07 18:16:31 (INFO): Degree 1: <GNN wrt BC robust>: 1.00/8.00. <GNN in wrt BC setting>: 1.00\n",
      "2022-09-07 18:16:31 (INFO): Degree 2: <GNN wrt BC robust>: 12.00/12.00. <GNN in wrt BC setting>: 504.00\n",
      "2022-09-07 18:16:31 (INFO): Degree 3: <GNN wrt BC robust>: 12.00/12.00. <GNN in wrt BC setting>: 85.50\n",
      "2022-09-07 18:16:31 (INFO): Degree 4: <GNN wrt BC robust>: 10.25/10.75. <GNN in wrt BC setting>: 151.00\n",
      "2022-09-07 18:16:31 (INFO): Degree 5: <GNN wrt BC robust>: 5.00/12.00. <GNN in wrt BC setting>: 5.00\n",
      "2022-09-07 18:16:31 (INFO): Degree 6: <GNN wrt BC robust>: -1.00/-1.00. <GNN in wrt BC setting>: -1.00\n",
      "2022-09-07 18:16:31 (INFO): Degree 7: <GNN wrt BC robust>: 12.00/12.00. <GNN in wrt BC setting>: 62.00\n"
     ]
    }
   ],
   "source": [
    "importlib.reload(exp_eval_robustness)\n",
    "importlib.reload(exp_train)\n",
    "#result = exp_train.run(data_params, model_params, train_params, verbosity_params, other_params, seed, None)\n",
    "result = exp_eval_robustness.run(data_params, model_params, train_params, attack_params, verbosity_params, other_params, seed, None)"
   ]
  },
  {
   "cell_type": "code",
   "execution_count": 12,
   "metadata": {},
   "outputs": [
    {
     "name": "stderr",
     "output_type": "stream",
     "text": [
      "2022-09-06 14:57:49 (INFO): \n",
      "Epoch    0: loss_train: 0.70049, loss_val: 0.69125, acc_train: 0.51250, acc_val: 0.54000\n",
      "2022-09-06 14:57:49 (INFO): \n",
      "Epoch  100: loss_train: 0.66957, loss_val: 0.70510, acc_train: 0.59875, acc_val: 0.55000\n",
      "2022-09-06 14:57:50 (INFO): \n",
      "Epoch  200: loss_train: 0.69992, loss_val: 0.69783, acc_train: 0.57000, acc_val: 0.59000\n",
      "2022-09-06 14:57:50 (INFO): \n",
      "Epoch  300: loss_train: 0.67012, loss_val: 0.70146, acc_train: 0.59500, acc_val: 0.53000\n",
      "2022-09-06 14:57:51 (INFO): \n",
      "Epoch  400: loss_train: 0.67534, loss_val: 0.70552, acc_train: 0.57750, acc_val: 0.53000\n",
      "2022-09-06 14:57:51 (INFO): \n",
      "Epoch  500: loss_train: 0.69036, loss_val: 0.70550, acc_train: 0.58875, acc_val: 0.53500\n",
      "2022-09-06 14:57:51 (INFO): \n",
      "Epoch  600: loss_train: 0.67120, loss_val: 0.70989, acc_train: 0.60250, acc_val: 0.53000\n",
      "2022-09-06 14:57:52 (INFO): \n",
      "Epoch  700: loss_train: 0.68360, loss_val: 0.70071, acc_train: 0.56875, acc_val: 0.53500\n",
      "2022-09-06 14:57:52 (INFO): \n",
      "Epoch  430: loss_train: 0.67145, loss_val: 0.68283, acc_train: 0.59750, acc_val: 0.58500\n"
     ]
    }
   ],
   "source": [
    "from src.data import split\n",
    "from src.models import create_model\n",
    "from src.train import train_inductive, train_transductive\n",
    "\n",
    "model_params = dict(\n",
    "    label=\"GCN\",\n",
    "    model=\"LinearGCN\",\n",
    "    n_filter=64,\n",
    "    dropout=0.5,\n",
    "    use_label_propagation=False,\n",
    ")\n",
    "train_params = dict(\n",
    "    lr=0.1,\n",
    "    weight_decay=1e-3,\n",
    "    patience=300,\n",
    "    max_epochs=3000,\n",
    "    inductive=True,\n",
    ")\n",
    "_run = None\n",
    "device = torch.device(f\"cuda:{0}\")\n",
    "\n",
    "# Sample Graph\n",
    "graph_model = create_graph_model(data_params)\n",
    "X_np, A_np, y_np = graph_model.sample(data_params[\"n\"], seed)\n",
    "X = torch.tensor(X_np, dtype=torch.float32, device=device)\n",
    "A = torch.tensor(A_np, dtype=torch.float32, device=device)\n",
    "y = torch.tensor(y_np, device=device)\n",
    "split_trn, split_val = split(y_np, data_params)\n",
    "\n",
    "# Create Model\n",
    "model_params_trn = dict(**model_params, \n",
    "                        n_features=X_np.shape[1], \n",
    "                        n_classes=data_params[\"classes\"])\n",
    "model = create_model(model_params_trn).to(device)\n",
    "#logging.info(model)\n",
    "\n",
    "# Train Model\n",
    "if train_params[\"inductive\"]:\n",
    "    train = train_inductive\n",
    "else:\n",
    "    train = train_transductive\n",
    "trn_tracker = train(model, None, X, A, y, split_trn, split_val, train_params,\n",
    "                    verbosity_params, _run)"
   ]
  },
  {
   "cell_type": "code",
   "execution_count": 16,
   "metadata": {},
   "outputs": [
    {
     "data": {
      "text/plain": [
       "src.models.gcn.DenseGCN"
      ]
     },
     "execution_count": 16,
     "metadata": {},
     "output_type": "execute_result"
    }
   ],
   "source": [
    "type(model)"
   ]
  },
  {
   "cell_type": "code",
   "execution_count": 18,
   "metadata": {},
   "outputs": [
    {
     "data": {
      "text/plain": [
       "True"
      ]
     },
     "execution_count": 18,
     "metadata": {},
     "output_type": "execute_result"
    }
   ],
   "source": [
    "from src.models.gcn import DenseGCN\n",
    "isinstance(model, DenseGCN)"
   ]
  },
  {
   "cell_type": "code",
   "execution_count": 22,
   "metadata": {},
   "outputs": [
    {
     "data": {
      "text/plain": [
       "True"
      ]
     },
     "execution_count": 22,
     "metadata": {},
     "output_type": "execute_result"
    }
   ],
   "source": [
    "isinstance(model.activation, torch.nn.Identity)"
   ]
  },
  {
   "cell_type": "code",
   "execution_count": 25,
   "metadata": {},
   "outputs": [
    {
     "data": {
      "text/plain": [
       "Parameter containing:\n",
       "tensor([[-0.2845, -0.1751,  0.0541,  ...,  0.3195,  0.0939,  0.0529],\n",
       "        [-0.0133, -0.1708,  0.0041,  ..., -0.0677, -0.3852, -0.0863],\n",
       "        [ 0.0237, -0.1400,  0.0761,  ..., -0.0926, -0.1117, -0.0352],\n",
       "        ...,\n",
       "        [-0.1547, -0.6180,  0.0105,  ..., -0.4443, -0.1026, -0.1262],\n",
       "        [-0.0155,  0.1586,  0.4082,  ...,  0.2353, -0.1754, -0.0009],\n",
       "        [-0.1066, -0.2037, -0.0348,  ..., -0.1079, -0.1091, -0.2001]],\n",
       "       device='cuda:0', requires_grad=True)"
      ]
     },
     "execution_count": 25,
     "metadata": {},
     "output_type": "execute_result"
    }
   ],
   "source": [
    "model.layers[0][0]._linear.weight"
   ]
  },
  {
   "cell_type": "code",
   "execution_count": 26,
   "metadata": {},
   "outputs": [],
   "source": [
    "model_params = dict(\n",
    "    label=\"SGC\",\n",
    "    model=\"SGC\",\n",
    "    K=2,\n",
    "    use_label_propagation=False,\n",
    ")\n",
    "model_params_trn = dict(**model_params, \n",
    "                        n_features=X_np.shape[1], \n",
    "                        n_classes=data_params[\"classes\"])\n",
    "sgc = create_model(model_params_trn).to(device)"
   ]
  },
  {
   "cell_type": "code",
   "execution_count": 45,
   "metadata": {},
   "outputs": [
    {
     "data": {
      "text/plain": [
       "DenseGraphConvolution(\n",
       "  (_linear): Linear(in_features=21, out_features=64, bias=False)\n",
       ")"
      ]
     },
     "execution_count": 45,
     "metadata": {},
     "output_type": "execute_result"
    }
   ],
   "source": [
    "model.layers[0][0]"
   ]
  },
  {
   "cell_type": "code",
   "execution_count": 39,
   "metadata": {},
   "outputs": [
    {
     "data": {
      "text/plain": [
       "<bound method Module.parameters of SGC(\n",
       "  (sgc): SGConv(21, 2, K=2)\n",
       ")>"
      ]
     },
     "execution_count": 39,
     "metadata": {},
     "output_type": "execute_result"
    }
   ],
   "source": [
    "sgc.parameters"
   ]
  },
  {
   "cell_type": "code",
   "execution_count": 15,
   "metadata": {},
   "outputs": [
    {
     "ename": "KeyError",
     "evalue": "'CUBLAS_WORKSPACE_CONFIG'",
     "output_type": "error",
     "traceback": [
      "\u001b[0;31m---------------------------------------------------------------------------\u001b[0m",
      "\u001b[0;31mKeyError\u001b[0m                                  Traceback (most recent call last)",
      "\u001b[0;32m/tmp/ipykernel_3778094/1329080253.py\u001b[0m in \u001b[0;36m<module>\u001b[0;34m\u001b[0m\n\u001b[1;32m      1\u001b[0m \u001b[0;32mimport\u001b[0m \u001b[0mos\u001b[0m\u001b[0;34m\u001b[0m\u001b[0;34m\u001b[0m\u001b[0m\n\u001b[0;32m----> 2\u001b[0;31m \u001b[0mos\u001b[0m\u001b[0;34m.\u001b[0m\u001b[0menviron\u001b[0m\u001b[0;34m[\u001b[0m\u001b[0;34m\"CUBLAS_WORKSPACE_CONFIG\"\u001b[0m\u001b[0;34m]\u001b[0m\u001b[0;34m\u001b[0m\u001b[0;34m\u001b[0m\u001b[0m\n\u001b[0m",
      "\u001b[0;32m~/miniconda3/envs/py397/lib/python3.9/os.py\u001b[0m in \u001b[0;36m__getitem__\u001b[0;34m(self, key)\u001b[0m\n\u001b[1;32m    677\u001b[0m         \u001b[0;32mexcept\u001b[0m \u001b[0mKeyError\u001b[0m\u001b[0;34m:\u001b[0m\u001b[0;34m\u001b[0m\u001b[0;34m\u001b[0m\u001b[0m\n\u001b[1;32m    678\u001b[0m             \u001b[0;31m# raise KeyError with the original key value\u001b[0m\u001b[0;34m\u001b[0m\u001b[0;34m\u001b[0m\u001b[0m\n\u001b[0;32m--> 679\u001b[0;31m             \u001b[0;32mraise\u001b[0m \u001b[0mKeyError\u001b[0m\u001b[0;34m(\u001b[0m\u001b[0mkey\u001b[0m\u001b[0;34m)\u001b[0m \u001b[0;32mfrom\u001b[0m \u001b[0;32mNone\u001b[0m\u001b[0;34m\u001b[0m\u001b[0;34m\u001b[0m\u001b[0m\n\u001b[0m\u001b[1;32m    680\u001b[0m         \u001b[0;32mreturn\u001b[0m \u001b[0mself\u001b[0m\u001b[0;34m.\u001b[0m\u001b[0mdecodevalue\u001b[0m\u001b[0;34m(\u001b[0m\u001b[0mvalue\u001b[0m\u001b[0;34m)\u001b[0m\u001b[0;34m\u001b[0m\u001b[0;34m\u001b[0m\u001b[0m\n\u001b[1;32m    681\u001b[0m \u001b[0;34m\u001b[0m\u001b[0m\n",
      "\u001b[0;31mKeyError\u001b[0m: 'CUBLAS_WORKSPACE_CONFIG'"
     ]
    }
   ],
   "source": [
    "import os\n",
    "os.environ[\"CUBLAS_WORKSPACE_CONFIG\"]"
   ]
  },
  {
   "cell_type": "code",
   "execution_count": 9,
   "metadata": {},
   "outputs": [
    {
     "name": "stderr",
     "output_type": "stream",
     "text": [
      "2022-08-10 14:11:26 (INFO): Starting experiment exp_eval_robustness with configuration:\n",
      "2022-08-10 14:11:26 (INFO): data_params: {'graph_model': 'CSBM', 'classes': 2, 'n': 1000, 'n_per_class_trn': 400, 'K': 0.5, 'sigma': 1, 'avg_within_class_degree': 3.0, 'avg_between_class_degree': 1.0, 'inductive_samples': 1000}\n",
      "2022-08-10 14:11:26 (INFO): model_params: {'label': 'GCN', 'model': 'DenseGCN', 'n_filters': 64}\n",
      "2022-08-10 14:11:26 (INFO): train_params: {'lr': 0.01, 'weight_decay': 0.001, 'patience': 300, 'max_epochs': 3000, 'inductive': True}\n",
      "2022-08-10 14:11:26 (INFO): attack_params: {'attack': 'l2'}\n",
      "2022-08-10 14:11:26 (INFO): verbosity_params: {'display_steps': 100, 'debug_lvl': 'info'}\n",
      "2022-08-10 14:11:26 (INFO): other_params: {'device': 0, 'allow_tf32': False, 'sacred_metrics': True}\n",
      "2022-08-10 14:11:26 (INFO): seed: 1\n",
      "2022-08-10 14:11:26 (INFO): db_collection: None\n",
      "2022-08-10 14:11:26 (INFO): Currently on gpu device cuda:0\n",
      "2022-08-10 14:11:27 (INFO): \n",
      "Epoch    0: loss_train: 0.70102, loss_val: 0.69805, acc_train: 0.47250, acc_val: 0.49500\n",
      "2022-08-10 14:11:27 (INFO): \n",
      "Epoch  100: loss_train: 0.41914, loss_val: 0.58875, acc_train: 0.80500, acc_val: 0.68500\n",
      "2022-08-10 14:11:27 (INFO): \n",
      "Epoch  200: loss_train: 0.41618, loss_val: 0.60138, acc_train: 0.80000, acc_val: 0.70000\n",
      "2022-08-10 14:11:28 (INFO): \n",
      "Epoch  300: loss_train: 0.40287, loss_val: 0.60636, acc_train: 0.81750, acc_val: 0.68500\n",
      "2022-08-10 14:11:28 (INFO): \n",
      "Epoch   66: loss_train: 0.47474, loss_val: 0.58023, acc_train: 0.77750, acc_val: 0.68500\n",
      "2022-08-10 14:11:50 (INFO): Prediction Statistics:\n",
      "2022-08-10 14:11:50 (INFO): Count BC: 861.0 GNN: 694.0\n",
      "2022-08-10 14:11:50 (INFO): Count Structure BC: 855.0 Feature BC: 590.0\n",
      "2022-08-10 14:11:50 (INFO): Count BC and GNN: 640.0\n",
      "2022-08-10 14:11:50 (INFO): Count BC not GNN: 221.0 GNN not BC: 54.0\n",
      "2022-08-10 14:11:50 (INFO): Robustness Statistics:\n",
      "2022-08-10 14:11:50 (INFO): BC more robust than GNN: 175.0\n",
      "2022-08-10 14:11:50 (INFO): BC & GNN equal robustness: 101.0\n",
      "2022-08-10 14:11:50 (INFO): BC less robust than GNN: 364.0\n",
      "2022-08-10 14:11:50 (INFO): Degree 0: <BC robust>: 0.12; <GNN robust>: 1.17; \n",
      "2022-08-10 14:11:50 (INFO): Degree 1: <BC robust>: 0.65; <GNN robust>: 2.40; \n",
      "2022-08-10 14:11:50 (INFO): Degree 2: <BC robust>: 1.17; <GNN robust>: 3.83; \n",
      "2022-08-10 14:11:50 (INFO): Degree 3: <BC robust>: 1.54; <GNN robust>: 2.71; \n",
      "2022-08-10 14:11:50 (INFO): Degree 4: <BC robust>: 2.01; <GNN robust>: 4.02; \n",
      "2022-08-10 14:11:50 (INFO): Degree 5: <BC robust>: 2.73; <GNN robust>: 5.47; \n",
      "2022-08-10 14:11:50 (INFO): Degree 6: <BC robust>: 2.79; <GNN robust>: 5.42; \n",
      "2022-08-10 14:11:50 (INFO): Degree 7: <BC robust>: 3.24; <GNN robust>: 6.22; \n",
      "2022-08-10 14:11:50 (INFO): Degree 8: <BC robust>: 3.94; <GNN robust>: 6.43; \n",
      "2022-08-10 14:11:50 (INFO): Degree 9: <BC robust>: 3.45; <GNN robust>: 3.22; \n",
      "2022-08-10 14:11:50 (INFO): Degree 10: <BC robust>: 7.80; <GNN robust>: 12.00; \n",
      "2022-08-10 14:11:50 (INFO): Degree 0: Max(BC robust): 1.00; Max(GNN robust): 6.00; \n",
      "2022-08-10 14:11:50 (INFO): Degree 1: Max(BC robust): 2.00; Max(GNN robust): 20.00; \n",
      "2022-08-10 14:11:50 (INFO): Degree 2: Max(BC robust): 3.00; Max(GNN robust): 21.00; \n",
      "2022-08-10 14:11:50 (INFO): Degree 3: Max(BC robust): 4.00; Max(GNN robust): 17.00; \n",
      "2022-08-10 14:11:50 (INFO): Degree 4: Max(BC robust): 5.00; Max(GNN robust): 16.00; \n",
      "2022-08-10 14:11:50 (INFO): Degree 5: Max(BC robust): 6.00; Max(GNN robust): 27.00; \n",
      "2022-08-10 14:11:50 (INFO): Degree 6: Max(BC robust): 6.00; Max(GNN robust): 35.00; \n",
      "2022-08-10 14:11:50 (INFO): Degree 7: Max(BC robust): 7.00; Max(GNN robust): 33.00; \n",
      "2022-08-10 14:11:50 (INFO): Degree 8: Max(BC robust): 8.00; Max(GNN robust): 21.00; \n",
      "2022-08-10 14:11:50 (INFO): Degree 9: Max(BC robust): 7.00; Max(GNN robust): 8.00; \n",
      "2022-08-10 14:11:50 (INFO): Degree 10: Max(BC robust): 10.00; Max(GNN robust): 27.00; \n",
      "2022-08-10 14:11:50 (INFO): Degree 0: Median(BC robust): 0.00; Median(GNN robust): 0.00; \n",
      "2022-08-10 14:11:50 (INFO): Degree 1: Median(BC robust): 1.00; Median(GNN robust): 1.00; \n",
      "2022-08-10 14:11:50 (INFO): Degree 2: Median(BC robust): 1.00; Median(GNN robust): 2.00; \n",
      "2022-08-10 14:11:50 (INFO): Degree 3: Median(BC robust): 1.00; Median(GNN robust): 2.00; \n",
      "2022-08-10 14:11:50 (INFO): Degree 4: Median(BC robust): 2.00; Median(GNN robust): 3.00; \n",
      "2022-08-10 14:11:50 (INFO): Degree 5: Median(BC robust): 3.00; Median(GNN robust): 4.00; \n",
      "2022-08-10 14:11:50 (INFO): Degree 6: Median(BC robust): 3.00; Median(GNN robust): 4.00; \n",
      "2022-08-10 14:11:50 (INFO): Degree 7: Median(BC robust): 3.00; Median(GNN robust): 4.00; \n",
      "2022-08-10 14:11:50 (INFO): Degree 8: Median(BC robust): 4.00; Median(GNN robust): 5.00; \n",
      "2022-08-10 14:11:50 (INFO): Degree 9: Median(BC robust): 3.00; Median(GNN robust): 3.00; \n",
      "2022-08-10 14:11:50 (INFO): Degree 10: Median(BC robust): 8.00; Median(GNN robust): 12.00; \n",
      "2022-08-10 14:11:50 (INFO): Degree 0: <GNN wrt BC robust>: 0.17/0.17. <GNN in wrt BC setting>: 1.17\n",
      "2022-08-10 14:11:50 (INFO): Degree 1: <GNN wrt BC robust>: 0.54/0.74. <GNN in wrt BC setting>: 2.64\n",
      "2022-08-10 14:11:50 (INFO): Degree 2: <GNN wrt BC robust>: 0.99/1.25. <GNN in wrt BC setting>: 4.11\n",
      "2022-08-10 14:11:50 (INFO): Degree 3: <GNN wrt BC robust>: 1.12/1.71. <GNN in wrt BC setting>: 2.81\n",
      "2022-08-10 14:11:50 (INFO): Degree 4: <GNN wrt BC robust>: 1.65/2.08. <GNN in wrt BC setting>: 4.12\n",
      "2022-08-10 14:11:50 (INFO): Degree 5: <GNN wrt BC robust>: 2.28/2.98. <GNN in wrt BC setting>: 5.54\n",
      "2022-08-10 14:11:50 (INFO): Degree 6: <GNN wrt BC robust>: 2.46/2.93. <GNN in wrt BC setting>: 5.66\n",
      "2022-08-10 14:11:50 (INFO): Degree 7: <GNN wrt BC robust>: 2.73/3.70. <GNN in wrt BC setting>: 6.27\n",
      "2022-08-10 14:11:50 (INFO): Degree 8: <GNN wrt BC robust>: 3.41/4.19. <GNN in wrt BC setting>: 6.67\n",
      "2022-08-10 14:11:50 (INFO): Degree 9: <GNN wrt BC robust>: 2.11/3.44. <GNN in wrt BC setting>: 3.22\n",
      "2022-08-10 14:11:50 (INFO): Degree 10: <GNN wrt BC robust>: 6.00/7.80. <GNN in wrt BC setting>: 12.00\n"
     ]
    }
   ],
   "source": [
    "data_params[\"sigma\"] = 1\n",
    "seed = 1\n",
    "\n",
    "result = exp_eval_robustness.run(data_params, model_params, train_params, attack_params, verbosity_params, other_params, seed, None)"
   ]
  },
  {
   "cell_type": "code",
   "execution_count": 21,
   "metadata": {},
   "outputs": [],
   "source": [
    "from src.data import calc_balanced_sample"
   ]
  },
  {
   "cell_type": "code",
   "execution_count": 22,
   "metadata": {},
   "outputs": [
    {
     "name": "stdout",
     "output_type": "stream",
     "text": [
      "[10 25 25]\n"
     ]
    }
   ],
   "source": [
    "class_counts = [10, 100, 100]\n",
    "n_samples = 60\n",
    "print(calc_balanced_sample(class_counts, n_samples))"
   ]
  },
  {
   "cell_type": "code",
   "execution_count": 35,
   "metadata": {},
   "outputs": [],
   "source": [
    "from src.utils import accuracy"
   ]
  },
  {
   "cell_type": "code",
   "execution_count": 7,
   "metadata": {},
   "outputs": [
    {
     "data": {
      "text/plain": [
       "tensor(1)"
      ]
     },
     "execution_count": 7,
     "metadata": {},
     "output_type": "execute_result"
    }
   ],
   "source": [
    "logits = torch.Tensor([[0.8, 0.2], [0.1, 0.9]])\n",
    "labels = torch.Tensor([0, 1])\n",
    "logits.argmax(1)[1]"
   ]
  },
  {
   "cell_type": "code",
   "execution_count": null,
   "metadata": {},
   "outputs": [],
   "source": []
  }
 ],
 "metadata": {
  "kernelspec": {
   "display_name": "Python 3.9.7 ('py397')",
   "language": "python",
   "name": "python3"
  },
  "language_info": {
   "codemirror_mode": {
    "name": "ipython",
    "version": 3
   },
   "file_extension": ".py",
   "mimetype": "text/x-python",
   "name": "python",
   "nbconvert_exporter": "python",
   "pygments_lexer": "ipython3",
   "version": "3.9.7"
  },
  "orig_nbformat": 4,
  "vscode": {
   "interpreter": {
    "hash": "c4e45668083cbb37b7048c0587d1e2fbbeab0bbf8f83b3643c89a090a0af4084"
   }
  }
 },
 "nbformat": 4,
 "nbformat_minor": 2
}
