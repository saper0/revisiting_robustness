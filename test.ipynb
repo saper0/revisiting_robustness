{
 "cells": [
  {
   "cell_type": "code",
   "execution_count": 9,
   "metadata": {},
   "outputs": [
    {
     "name": "stdout",
     "output_type": "stream",
     "text": [
      "The autoreload extension is already loaded. To reload it, use:\n",
      "  %reload_ext autoreload\n"
     ]
    }
   ],
   "source": [
    "# Reload modules automatically\n",
    "# https://ipython.readthedocs.io/en/stable/config/extensions/autoreload.html\n",
    "%load_ext autoreload\n",
    "%autoreload 2"
   ]
  },
  {
   "cell_type": "code",
   "execution_count": 11,
   "metadata": {},
   "outputs": [
    {
     "name": "stderr",
     "output_type": "stream",
     "text": [
      "WARNING:root:Cuda kernels could not loaded -> no CUDA support!\n",
      "WARNING:root:The OGB package is out of date. Your version is 1.3.2, while the latest version is 1.3.3.\n"
     ]
    }
   ],
   "source": [
    "import importlib\n",
    "from src.graph_models import create_graph_model\n",
    "import numpy as np\n",
    "import torch\n",
    "import exp_eval_robustness"
   ]
  },
  {
   "cell_type": "code",
   "execution_count": 14,
   "metadata": {},
   "outputs": [
    {
     "name": "stderr",
     "output_type": "stream",
     "text": [
      "2022-08-05 18:20:10 (INFO): Starting experiment exp_eval_robustness with configuration:\n",
      "2022-08-05 18:20:10 (INFO): data_params: {'graph_model': 'CSBM', 'classes': 2, 'n': 1000, 'n_per_class_trn': 400, 'K': 1, 'sigma': 0.1, 'avg_within_class_degree': 3.0, 'avg_between_class_degree': 1.0, 'inductive_samples': 1000}\n",
      "2022-08-05 18:20:10 (INFO): model_params: {'label': 'GCN', 'model': 'DenseGCN', 'n_filters': 64}\n",
      "2022-08-05 18:20:10 (INFO): train_params: {'lr': 0.01, 'weight_decay': 0.001, 'patience': 300, 'max_epochs': 3000, 'inductive': True}\n",
      "2022-08-05 18:20:10 (INFO): verbosity_params: {'display_steps': 100, 'debug_lvl': 'info'}\n",
      "2022-08-05 18:20:10 (INFO): other_params: {'device': 0, 'allow_tf32': False, 'sacred_metrics': True}\n",
      "2022-08-05 18:20:10 (INFO): seed: 1\n",
      "2022-08-05 18:20:10 (INFO): db_collection: None\n",
      "2022-08-05 18:20:10 (INFO): Currently on gpu device cuda:0\n",
      "2022-08-05 18:20:10 (INFO): \n",
      "Epoch    0: loss_train: 0.69378, loss_val: 0.69365, acc_train: 0.46750, acc_val: 0.46000\n",
      "2022-08-05 18:20:11 (INFO): \n",
      "Epoch  100: loss_train: 0.45145, loss_val: 0.47879, acc_train: 0.79375, acc_val: 0.80000\n",
      "2022-08-05 18:20:11 (INFO): \n",
      "Epoch  200: loss_train: 0.42806, loss_val: 0.47431, acc_train: 0.81000, acc_val: 0.80000\n",
      "2022-08-05 18:20:11 (INFO): \n",
      "Epoch  300: loss_train: 0.41343, loss_val: 0.47569, acc_train: 0.81750, acc_val: 0.79500\n",
      "2022-08-05 18:20:12 (INFO): \n",
      "Epoch  400: loss_train: 0.41510, loss_val: 0.47766, acc_train: 0.82000, acc_val: 0.80000\n",
      "2022-08-05 18:20:12 (INFO): \n",
      "Epoch  500: loss_train: 0.41935, loss_val: 0.47719, acc_train: 0.82125, acc_val: 0.79000\n",
      "2022-08-05 18:20:12 (INFO): \n",
      "Epoch  208: loss_train: 0.43032, loss_val: 0.47309, acc_train: 0.80000, acc_val: 0.80000\n",
      "2022-08-05 18:20:23 (INFO): Prediction Statistics:\n",
      "2022-08-05 18:20:23 (INFO): Count BC: 878.0 GNN: 778.0\n",
      "2022-08-05 18:20:23 (INFO): Count Structure BC: 855.0 Feature BC: 690.0\n",
      "2022-08-05 18:20:23 (INFO): Count BC and GNN: 738.0\n",
      "2022-08-05 18:20:23 (INFO): Count BC not GNN: 140.0 GNN not BC: 40.0\n"
     ]
    }
   ],
   "source": [
    "importlib.reload(exp_eval_robustness)\n",
    "data_params = dict(\n",
    "    graph_model = 'CSBM',\n",
    "    classes = 2,\n",
    "    n = 1000,\n",
    "    n_per_class_trn = 400,\n",
    "    K = 1,\n",
    "    sigma = 0.1,\n",
    "    avg_within_class_degree = 1.5 * 2,\n",
    "    avg_between_class_degree = 0.5 * 2,\n",
    "    inductive_samples = 1000\n",
    ")\n",
    "\n",
    "model_params = dict(\n",
    "    label=\"GCN\",\n",
    "    model=\"DenseGCN\",\n",
    "    n_filters=64,\n",
    ")\n",
    "\n",
    "train_params = dict(\n",
    "    lr=1e-2,\n",
    "    weight_decay=1e-3,\n",
    "    patience=300,\n",
    "    max_epochs=3000,\n",
    "    inductive=True,\n",
    ")\n",
    "\n",
    "verbosity_params = dict(\n",
    "    display_steps = 100,\n",
    "    debug_lvl = \"info\"\n",
    ")  \n",
    "\n",
    "other_params = dict(\n",
    "    device = 0,\n",
    "    allow_tf32 = False,\n",
    "    sacred_metrics = True\n",
    ")\n",
    "\n",
    "seed = 1\n",
    "\n",
    "exp_eval_robustness.run(data_params, model_params, train_params, verbosity_params, other_params, seed, None)"
   ]
  },
  {
   "cell_type": "code",
   "execution_count": 34,
   "metadata": {},
   "outputs": [
    {
     "data": {
      "text/plain": [
       "array([0, 1])"
      ]
     },
     "execution_count": 34,
     "metadata": {},
     "output_type": "execute_result"
    }
   ],
   "source": [
    "np.setdiff1d([0,1], [2,3])"
   ]
  },
  {
   "cell_type": "code",
   "execution_count": 21,
   "metadata": {},
   "outputs": [],
   "source": [
    "from src.data import calc_balanced_sample"
   ]
  },
  {
   "cell_type": "code",
   "execution_count": 22,
   "metadata": {},
   "outputs": [
    {
     "name": "stdout",
     "output_type": "stream",
     "text": [
      "[10 25 25]\n"
     ]
    }
   ],
   "source": [
    "class_counts = [10, 100, 100]\n",
    "n_samples = 60\n",
    "print(calc_balanced_sample(class_counts, n_samples))"
   ]
  },
  {
   "cell_type": "code",
   "execution_count": 35,
   "metadata": {},
   "outputs": [],
   "source": [
    "from src.utils import accuracy"
   ]
  },
  {
   "cell_type": "code",
   "execution_count": 7,
   "metadata": {},
   "outputs": [
    {
     "data": {
      "text/plain": [
       "tensor(1)"
      ]
     },
     "execution_count": 7,
     "metadata": {},
     "output_type": "execute_result"
    }
   ],
   "source": [
    "logits = torch.Tensor([[0.8, 0.2], [0.1, 0.9]])\n",
    "labels = torch.Tensor([0, 1])\n",
    "logits.argmax(1)[1]"
   ]
  },
  {
   "cell_type": "code",
   "execution_count": null,
   "metadata": {},
   "outputs": [],
   "source": []
  }
 ],
 "metadata": {
  "kernelspec": {
   "display_name": "Python 3.9.7 ('py397')",
   "language": "python",
   "name": "python3"
  },
  "language_info": {
   "codemirror_mode": {
    "name": "ipython",
    "version": 3
   },
   "file_extension": ".py",
   "mimetype": "text/x-python",
   "name": "python",
   "nbconvert_exporter": "python",
   "pygments_lexer": "ipython3",
   "version": "3.9.7"
  },
  "orig_nbformat": 4,
  "vscode": {
   "interpreter": {
    "hash": "c4e45668083cbb37b7048c0587d1e2fbbeab0bbf8f83b3643c89a090a0af4084"
   }
  }
 },
 "nbformat": 4,
 "nbformat_minor": 2
}
