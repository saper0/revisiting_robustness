{
 "cells": [
  {
   "cell_type": "code",
   "execution_count": 1,
   "metadata": {},
   "outputs": [],
   "source": [
    "# Reload modules automatically\n",
    "# https://ipython.readthedocs.io/en/stable/config/extensions/autoreload.html\n",
    "%load_ext autoreload\n",
    "%autoreload 2"
   ]
  },
  {
   "cell_type": "code",
   "execution_count": 2,
   "metadata": {},
   "outputs": [
    {
     "name": "stderr",
     "output_type": "stream",
     "text": [
      "WARNING:root:Cuda kernels could not loaded -> no CUDA support!\n",
      "WARNING:root:The OGB package is out of date. Your version is 1.3.2, while the latest version is 1.3.4.\n"
     ]
    }
   ],
   "source": [
    "import importlib\n",
    "from src.graph_models import create_graph_model\n",
    "import numpy as np\n",
    "import torch\n",
    "import exp_eval_robustness\n",
    "import exp_train\n",
    "from torch_sparse import SparseTensor"
   ]
  },
  {
   "cell_type": "code",
   "execution_count": 32,
   "metadata": {},
   "outputs": [
    {
     "name": "stderr",
     "output_type": "stream",
     "text": [
      "2022-08-26 14:14:07 (INFO): Starting experiment exp_eval_robustness with configuration:\n",
      "2022-08-26 14:14:07 (INFO): data_params: {'graph_model': 'CSBM', 'classes': 2, 'n': 1000, 'n_per_class_trn': 400, 'K': 0.1, 'sigma': 1, 'avg_within_class_degree': 3.16, 'avg_between_class_degree': 0.74, 'inductive_samples': 100}\n",
      "2022-08-26 14:14:07 (INFO): model_params: {'label': 'GAT', 'model': 'GAT', 'n_filter': 64, 'n_heads': 8, 'n_features_per_head': 8, 'dropout': 0.0, 'dropout_neighbourhood': 0.0, 'use_label_propagation': False}\n",
      "2022-08-26 14:14:07 (INFO): train_params: {'lr': 0.01, 'weight_decay': 0.0001, 'patience': 300, 'max_epochs': 3000, 'inductive': True}\n",
      "2022-08-26 14:14:07 (INFO): attack_params: {'attack': 'random'}\n",
      "2022-08-26 14:14:07 (INFO): verbosity_params: {'display_steps': 100, 'debug_lvl': 'info'}\n",
      "2022-08-26 14:14:07 (INFO): other_params: {'device': 0, 'allow_tf32': False, 'sacred_metrics': True}\n",
      "2022-08-26 14:14:07 (INFO): seed: 0\n",
      "2022-08-26 14:14:07 (INFO): db_collection: None\n",
      "2022-08-26 14:14:07 (INFO): Currently on gpu device cuda:0\n",
      "2022-08-26 14:14:07 (INFO): \n",
      "Epoch    0: loss_train: 0.78446, loss_val: 0.72958, acc_train: 0.51000, acc_val: 0.48000\n",
      "2022-08-26 14:14:08 (INFO): \n",
      "Epoch  100: loss_train: 0.55965, loss_val: 0.60681, acc_train: 0.70250, acc_val: 0.70000\n",
      "2022-08-26 14:14:09 (INFO): \n",
      "Epoch  200: loss_train: 0.47668, loss_val: 0.55824, acc_train: 0.76125, acc_val: 0.76500\n",
      "2022-08-26 14:14:10 (INFO): \n",
      "Epoch  300: loss_train: 0.44926, loss_val: 0.55434, acc_train: 0.78125, acc_val: 0.74000\n",
      "2022-08-26 14:14:11 (INFO): \n",
      "Epoch  400: loss_train: 0.42363, loss_val: 0.56243, acc_train: 0.77250, acc_val: 0.75500\n",
      "2022-08-26 14:14:12 (INFO): \n",
      "Epoch  500: loss_train: 0.42571, loss_val: 0.54839, acc_train: 0.78125, acc_val: 0.76000\n",
      "2022-08-26 14:14:13 (INFO): \n",
      "Epoch  600: loss_train: 0.41331, loss_val: 0.55620, acc_train: 0.76750, acc_val: 0.75000\n",
      "2022-08-26 14:14:14 (INFO): \n",
      "Epoch  700: loss_train: 0.41407, loss_val: 0.55568, acc_train: 0.78625, acc_val: 0.77500\n",
      "2022-08-26 14:14:15 (INFO): \n",
      "Epoch  800: loss_train: 0.41898, loss_val: 0.53938, acc_train: 0.78000, acc_val: 0.73500\n",
      "2022-08-26 14:14:16 (INFO): \n",
      "Epoch  900: loss_train: 0.42852, loss_val: 0.60381, acc_train: 0.76625, acc_val: 0.72500\n",
      "2022-08-26 14:14:17 (INFO): \n",
      "Epoch 1000: loss_train: 0.40493, loss_val: 0.55197, acc_train: 0.78875, acc_val: 0.75500\n",
      "2022-08-26 14:14:18 (INFO): \n",
      "Epoch 1100: loss_train: 0.39411, loss_val: 0.58631, acc_train: 0.78250, acc_val: 0.68000\n",
      "2022-08-26 14:14:19 (INFO): \n",
      "Epoch 1200: loss_train: 0.39561, loss_val: 0.59341, acc_train: 0.81625, acc_val: 0.69500\n",
      "2022-08-26 14:14:19 (INFO): \n",
      "Epoch  920: loss_train: 0.40709, loss_val: 0.52928, acc_train: 0.81250, acc_val: 0.74000\n",
      "2022-08-26 14:14:19 (INFO): Testing Trained Model + Label Propagation if specified:\n",
      "2022-08-26 14:14:19 (INFO): \n",
      "Epoch    0: loss_train: 0.25191, loss_val: 0.52956, acc_train: 0.93375, acc_val: 0.73000\n",
      "2022-08-26 14:14:24 (INFO): Prediction Statistics:\n",
      "2022-08-26 14:14:24 (INFO): Count BC: 89.0 GNN: 76.0\n",
      "2022-08-26 14:14:24 (INFO): Count Structure BC: 88.0 Feature BC: 57.0\n",
      "2022-08-26 14:14:24 (INFO): Count BC and GNN: 71.0\n",
      "2022-08-26 14:14:24 (INFO): Count BC not GNN: 18.0 GNN not BC: 5.0\n",
      "2022-08-26 14:14:24 (INFO): Robustness Statistics:\n",
      "2022-08-26 14:14:24 (INFO): BC more robust than GNN: 24.0\n",
      "2022-08-26 14:14:24 (INFO): BC & GNN equal robustness: 7.0\n",
      "2022-08-26 14:14:24 (INFO): BC less robust than GNN: 40.0\n",
      "2022-08-26 14:14:24 (INFO): Degree 0: <BC robust>: 0.00; <GNN robust>: 3.00; \n",
      "2022-08-26 14:14:24 (INFO): Degree 1: <BC robust>: 0.86; <GNN robust>: 85.17; \n",
      "2022-08-26 14:14:24 (INFO): Degree 2: <BC robust>: 1.31; <GNN robust>: 3.31; \n",
      "2022-08-26 14:14:24 (INFO): Degree 3: <BC robust>: 1.85; <GNN robust>: 3.88; \n",
      "2022-08-26 14:14:24 (INFO): Degree 4: <BC robust>: 1.89; <GNN robust>: 2.79; \n",
      "2022-08-26 14:14:24 (INFO): Degree 5: <BC robust>: 2.73; <GNN robust>: 6.64; \n",
      "2022-08-26 14:14:24 (INFO): Degree 6: <BC robust>: 3.67; <GNN robust>: 9.55; \n",
      "2022-08-26 14:14:24 (INFO): Degree 7: <BC robust>: -1.00; <GNN robust>: -1.00; \n",
      "2022-08-26 14:14:24 (INFO): Degree 8: <BC robust>: 5.50; <GNN robust>: 13.50; \n",
      "2022-08-26 14:14:24 (INFO): Degree 9: <BC robust>: -1.00; <GNN robust>: -1.00; \n",
      "2022-08-26 14:14:24 (INFO): Degree 10: <BC robust>: 4.00; <GNN robust>: 4.00; \n",
      "2022-08-26 14:14:24 (INFO): Degree 0: Max(BC robust): 0.00; Max(GNN robust): 5.00; \n",
      "2022-08-26 14:14:24 (INFO): Degree 1: Max(BC robust): 1.00; Max(GNN robust): 504.00; \n",
      "2022-08-26 14:14:24 (INFO): Degree 2: Max(BC robust): 2.00; Max(GNN robust): 11.00; \n",
      "2022-08-26 14:14:24 (INFO): Degree 3: Max(BC robust): 3.00; Max(GNN robust): 14.00; \n",
      "2022-08-26 14:14:24 (INFO): Degree 4: Max(BC robust): 4.00; Max(GNN robust): 12.00; \n",
      "2022-08-26 14:14:24 (INFO): Degree 5: Max(BC robust): 5.00; Max(GNN robust): 23.00; \n",
      "2022-08-26 14:14:24 (INFO): Degree 6: Max(BC robust): 6.00; Max(GNN robust): 22.00; \n",
      "2022-08-26 14:14:24 (INFO): Degree 7: Max(BC robust): -1.00; Max(GNN robust): -1.00; \n",
      "2022-08-26 14:14:24 (INFO): Degree 8: Max(BC robust): 6.00; Max(GNN robust): 20.00; \n",
      "2022-08-26 14:14:24 (INFO): Degree 9: Max(BC robust): -1.00; Max(GNN robust): -1.00; \n",
      "2022-08-26 14:14:24 (INFO): Degree 10: Max(BC robust): 4.00; Max(GNN robust): 4.00; \n",
      "2022-08-26 14:14:24 (INFO): Degree 0: Median(BC robust): 0.00; Median(GNN robust): 3.00; \n",
      "2022-08-26 14:14:24 (INFO): Degree 1: Median(BC robust): 1.00; Median(GNN robust): 0.50; \n",
      "2022-08-26 14:14:24 (INFO): Degree 2: Median(BC robust): 1.00; Median(GNN robust): 2.00; \n",
      "2022-08-26 14:14:24 (INFO): Degree 3: Median(BC robust): 2.00; Median(GNN robust): 2.50; \n",
      "2022-08-26 14:14:24 (INFO): Degree 4: Median(BC robust): 2.00; Median(GNN robust): 1.50; \n",
      "2022-08-26 14:14:24 (INFO): Degree 5: Median(BC robust): 3.00; Median(GNN robust): 5.00; \n",
      "2022-08-26 14:14:24 (INFO): Degree 6: Median(BC robust): 3.50; Median(GNN robust): 11.00; \n",
      "2022-08-26 14:14:24 (INFO): Degree 7: Median(BC robust): -1.00; Median(GNN robust): -1.00; \n",
      "2022-08-26 14:14:24 (INFO): Degree 8: Median(BC robust): 5.50; Median(GNN robust): 13.50; \n",
      "2022-08-26 14:14:24 (INFO): Degree 9: Median(BC robust): -1.00; Median(GNN robust): -1.00; \n",
      "2022-08-26 14:14:24 (INFO): Degree 10: Median(BC robust): 4.00; Median(GNN robust): 4.00; \n",
      "2022-08-26 14:14:24 (INFO): Degree 0: <GNN wrt BC robust>: 0.00/0.00. <GNN in wrt BC setting>: 5.00\n",
      "2022-08-26 14:14:24 (INFO): Degree 1: <GNN wrt BC robust>: 0.60/0.80. <GNN in wrt BC setting>: 102.20\n",
      "2022-08-26 14:14:24 (INFO): Degree 2: <GNN wrt BC robust>: 0.82/1.45. <GNN in wrt BC setting>: 3.09\n",
      "2022-08-26 14:14:24 (INFO): Degree 3: <GNN wrt BC robust>: 1.00/2.00. <GNN in wrt BC setting>: 4.00\n",
      "2022-08-26 14:14:24 (INFO): Degree 4: <GNN wrt BC robust>: 1.00/2.14. <GNN in wrt BC setting>: 2.79\n",
      "2022-08-26 14:14:24 (INFO): Degree 5: <GNN wrt BC robust>: 1.91/2.64. <GNN in wrt BC setting>: 6.64\n",
      "2022-08-26 14:14:24 (INFO): Degree 6: <GNN wrt BC robust>: 2.91/3.64. <GNN in wrt BC setting>: 9.55\n",
      "2022-08-26 14:14:24 (INFO): Degree 7: <GNN wrt BC robust>: -1.00/-1.00. <GNN in wrt BC setting>: -1.00\n",
      "2022-08-26 14:14:24 (INFO): Degree 8: <GNN wrt BC robust>: 5.50/5.50. <GNN in wrt BC setting>: 13.50\n",
      "2022-08-26 14:14:24 (INFO): Degree 9: <GNN wrt BC robust>: -1.00/-1.00. <GNN in wrt BC setting>: -1.00\n",
      "2022-08-26 14:14:24 (INFO): Degree 10: <GNN wrt BC robust>: 4.00/4.00. <GNN in wrt BC setting>: 4.00\n"
     ]
    }
   ],
   "source": [
    "importlib.reload(exp_eval_robustness)\n",
    "importlib.reload(exp_train)\n",
    "data_params = dict(\n",
    "    graph_model = 'CSBM',\n",
    "    classes = 2,\n",
    "    n = 1000,\n",
    "    n_per_class_trn = 400,\n",
    "    K = 0.1,\n",
    "    sigma = 1,\n",
    "    avg_within_class_degree = 1.58 * 2,\n",
    "    avg_between_class_degree = 0.37 * 2,\n",
    "    inductive_samples = 100\n",
    ")\n",
    "\n",
    "model_params = dict(\n",
    "    label=\"GAT\",\n",
    "    model=\"GAT\",\n",
    "    n_filter=64,\n",
    "    n_heads=8,\n",
    "    n_features_per_head=8,\n",
    "    dropout=0.0,\n",
    "    dropout_neighbourhood=0.0,\n",
    "    use_label_propagation=False,\n",
    ")\n",
    "\n",
    "train_params = dict(\n",
    "    lr=1e-2,\n",
    "    weight_decay=1e-4,\n",
    "    patience=300,\n",
    "    max_epochs=3000,\n",
    "    inductive=True,\n",
    ")\n",
    "\n",
    "attack_params = dict(\n",
    "    attack = \"l2-weak\"\n",
    ")\n",
    "\n",
    "verbosity_params = dict(\n",
    "    display_steps = 100,\n",
    "    debug_lvl = \"info\"\n",
    ")  \n",
    "\n",
    "other_params = dict(\n",
    "    device = 0,\n",
    "    allow_tf32 = False,\n",
    "    sacred_metrics = True\n",
    ")\n",
    "\n",
    "seed = 0\n",
    "\n",
    "#result = exp_train.run(data_params, model_params, train_params, verbosity_params, other_params, seed, None)\n",
    "result = exp_eval_robustness.run(data_params, model_params, train_params, attack_params, verbosity_params, other_params, seed, None)"
   ]
  },
  {
   "cell_type": "code",
   "execution_count": 5,
   "metadata": {},
   "outputs": [
    {
     "data": {
      "text/plain": [
       "array([1])"
      ]
     },
     "execution_count": 5,
     "metadata": {},
     "output_type": "execute_result"
    }
   ],
   "source": [
    "a = np.array([1,2])\n",
    "a[:]"
   ]
  },
  {
   "cell_type": "code",
   "execution_count": 15,
   "metadata": {},
   "outputs": [
    {
     "ename": "KeyError",
     "evalue": "'CUBLAS_WORKSPACE_CONFIG'",
     "output_type": "error",
     "traceback": [
      "\u001b[0;31m---------------------------------------------------------------------------\u001b[0m",
      "\u001b[0;31mKeyError\u001b[0m                                  Traceback (most recent call last)",
      "\u001b[0;32m/tmp/ipykernel_3778094/1329080253.py\u001b[0m in \u001b[0;36m<module>\u001b[0;34m\u001b[0m\n\u001b[1;32m      1\u001b[0m \u001b[0;32mimport\u001b[0m \u001b[0mos\u001b[0m\u001b[0;34m\u001b[0m\u001b[0;34m\u001b[0m\u001b[0m\n\u001b[0;32m----> 2\u001b[0;31m \u001b[0mos\u001b[0m\u001b[0;34m.\u001b[0m\u001b[0menviron\u001b[0m\u001b[0;34m[\u001b[0m\u001b[0;34m\"CUBLAS_WORKSPACE_CONFIG\"\u001b[0m\u001b[0;34m]\u001b[0m\u001b[0;34m\u001b[0m\u001b[0;34m\u001b[0m\u001b[0m\n\u001b[0m",
      "\u001b[0;32m~/miniconda3/envs/py397/lib/python3.9/os.py\u001b[0m in \u001b[0;36m__getitem__\u001b[0;34m(self, key)\u001b[0m\n\u001b[1;32m    677\u001b[0m         \u001b[0;32mexcept\u001b[0m \u001b[0mKeyError\u001b[0m\u001b[0;34m:\u001b[0m\u001b[0;34m\u001b[0m\u001b[0;34m\u001b[0m\u001b[0m\n\u001b[1;32m    678\u001b[0m             \u001b[0;31m# raise KeyError with the original key value\u001b[0m\u001b[0;34m\u001b[0m\u001b[0;34m\u001b[0m\u001b[0m\n\u001b[0;32m--> 679\u001b[0;31m             \u001b[0;32mraise\u001b[0m \u001b[0mKeyError\u001b[0m\u001b[0;34m(\u001b[0m\u001b[0mkey\u001b[0m\u001b[0;34m)\u001b[0m \u001b[0;32mfrom\u001b[0m \u001b[0;32mNone\u001b[0m\u001b[0;34m\u001b[0m\u001b[0;34m\u001b[0m\u001b[0m\n\u001b[0m\u001b[1;32m    680\u001b[0m         \u001b[0;32mreturn\u001b[0m \u001b[0mself\u001b[0m\u001b[0;34m.\u001b[0m\u001b[0mdecodevalue\u001b[0m\u001b[0;34m(\u001b[0m\u001b[0mvalue\u001b[0m\u001b[0;34m)\u001b[0m\u001b[0;34m\u001b[0m\u001b[0;34m\u001b[0m\u001b[0m\n\u001b[1;32m    681\u001b[0m \u001b[0;34m\u001b[0m\u001b[0m\n",
      "\u001b[0;31mKeyError\u001b[0m: 'CUBLAS_WORKSPACE_CONFIG'"
     ]
    }
   ],
   "source": [
    "import os\n",
    "os.environ[\"CUBLAS_WORKSPACE_CONFIG\"]"
   ]
  },
  {
   "cell_type": "code",
   "execution_count": 9,
   "metadata": {},
   "outputs": [
    {
     "name": "stderr",
     "output_type": "stream",
     "text": [
      "2022-08-10 14:11:26 (INFO): Starting experiment exp_eval_robustness with configuration:\n",
      "2022-08-10 14:11:26 (INFO): data_params: {'graph_model': 'CSBM', 'classes': 2, 'n': 1000, 'n_per_class_trn': 400, 'K': 0.5, 'sigma': 1, 'avg_within_class_degree': 3.0, 'avg_between_class_degree': 1.0, 'inductive_samples': 1000}\n",
      "2022-08-10 14:11:26 (INFO): model_params: {'label': 'GCN', 'model': 'DenseGCN', 'n_filters': 64}\n",
      "2022-08-10 14:11:26 (INFO): train_params: {'lr': 0.01, 'weight_decay': 0.001, 'patience': 300, 'max_epochs': 3000, 'inductive': True}\n",
      "2022-08-10 14:11:26 (INFO): attack_params: {'attack': 'l2'}\n",
      "2022-08-10 14:11:26 (INFO): verbosity_params: {'display_steps': 100, 'debug_lvl': 'info'}\n",
      "2022-08-10 14:11:26 (INFO): other_params: {'device': 0, 'allow_tf32': False, 'sacred_metrics': True}\n",
      "2022-08-10 14:11:26 (INFO): seed: 1\n",
      "2022-08-10 14:11:26 (INFO): db_collection: None\n",
      "2022-08-10 14:11:26 (INFO): Currently on gpu device cuda:0\n",
      "2022-08-10 14:11:27 (INFO): \n",
      "Epoch    0: loss_train: 0.70102, loss_val: 0.69805, acc_train: 0.47250, acc_val: 0.49500\n",
      "2022-08-10 14:11:27 (INFO): \n",
      "Epoch  100: loss_train: 0.41914, loss_val: 0.58875, acc_train: 0.80500, acc_val: 0.68500\n",
      "2022-08-10 14:11:27 (INFO): \n",
      "Epoch  200: loss_train: 0.41618, loss_val: 0.60138, acc_train: 0.80000, acc_val: 0.70000\n",
      "2022-08-10 14:11:28 (INFO): \n",
      "Epoch  300: loss_train: 0.40287, loss_val: 0.60636, acc_train: 0.81750, acc_val: 0.68500\n",
      "2022-08-10 14:11:28 (INFO): \n",
      "Epoch   66: loss_train: 0.47474, loss_val: 0.58023, acc_train: 0.77750, acc_val: 0.68500\n",
      "2022-08-10 14:11:50 (INFO): Prediction Statistics:\n",
      "2022-08-10 14:11:50 (INFO): Count BC: 861.0 GNN: 694.0\n",
      "2022-08-10 14:11:50 (INFO): Count Structure BC: 855.0 Feature BC: 590.0\n",
      "2022-08-10 14:11:50 (INFO): Count BC and GNN: 640.0\n",
      "2022-08-10 14:11:50 (INFO): Count BC not GNN: 221.0 GNN not BC: 54.0\n",
      "2022-08-10 14:11:50 (INFO): Robustness Statistics:\n",
      "2022-08-10 14:11:50 (INFO): BC more robust than GNN: 175.0\n",
      "2022-08-10 14:11:50 (INFO): BC & GNN equal robustness: 101.0\n",
      "2022-08-10 14:11:50 (INFO): BC less robust than GNN: 364.0\n",
      "2022-08-10 14:11:50 (INFO): Degree 0: <BC robust>: 0.12; <GNN robust>: 1.17; \n",
      "2022-08-10 14:11:50 (INFO): Degree 1: <BC robust>: 0.65; <GNN robust>: 2.40; \n",
      "2022-08-10 14:11:50 (INFO): Degree 2: <BC robust>: 1.17; <GNN robust>: 3.83; \n",
      "2022-08-10 14:11:50 (INFO): Degree 3: <BC robust>: 1.54; <GNN robust>: 2.71; \n",
      "2022-08-10 14:11:50 (INFO): Degree 4: <BC robust>: 2.01; <GNN robust>: 4.02; \n",
      "2022-08-10 14:11:50 (INFO): Degree 5: <BC robust>: 2.73; <GNN robust>: 5.47; \n",
      "2022-08-10 14:11:50 (INFO): Degree 6: <BC robust>: 2.79; <GNN robust>: 5.42; \n",
      "2022-08-10 14:11:50 (INFO): Degree 7: <BC robust>: 3.24; <GNN robust>: 6.22; \n",
      "2022-08-10 14:11:50 (INFO): Degree 8: <BC robust>: 3.94; <GNN robust>: 6.43; \n",
      "2022-08-10 14:11:50 (INFO): Degree 9: <BC robust>: 3.45; <GNN robust>: 3.22; \n",
      "2022-08-10 14:11:50 (INFO): Degree 10: <BC robust>: 7.80; <GNN robust>: 12.00; \n",
      "2022-08-10 14:11:50 (INFO): Degree 0: Max(BC robust): 1.00; Max(GNN robust): 6.00; \n",
      "2022-08-10 14:11:50 (INFO): Degree 1: Max(BC robust): 2.00; Max(GNN robust): 20.00; \n",
      "2022-08-10 14:11:50 (INFO): Degree 2: Max(BC robust): 3.00; Max(GNN robust): 21.00; \n",
      "2022-08-10 14:11:50 (INFO): Degree 3: Max(BC robust): 4.00; Max(GNN robust): 17.00; \n",
      "2022-08-10 14:11:50 (INFO): Degree 4: Max(BC robust): 5.00; Max(GNN robust): 16.00; \n",
      "2022-08-10 14:11:50 (INFO): Degree 5: Max(BC robust): 6.00; Max(GNN robust): 27.00; \n",
      "2022-08-10 14:11:50 (INFO): Degree 6: Max(BC robust): 6.00; Max(GNN robust): 35.00; \n",
      "2022-08-10 14:11:50 (INFO): Degree 7: Max(BC robust): 7.00; Max(GNN robust): 33.00; \n",
      "2022-08-10 14:11:50 (INFO): Degree 8: Max(BC robust): 8.00; Max(GNN robust): 21.00; \n",
      "2022-08-10 14:11:50 (INFO): Degree 9: Max(BC robust): 7.00; Max(GNN robust): 8.00; \n",
      "2022-08-10 14:11:50 (INFO): Degree 10: Max(BC robust): 10.00; Max(GNN robust): 27.00; \n",
      "2022-08-10 14:11:50 (INFO): Degree 0: Median(BC robust): 0.00; Median(GNN robust): 0.00; \n",
      "2022-08-10 14:11:50 (INFO): Degree 1: Median(BC robust): 1.00; Median(GNN robust): 1.00; \n",
      "2022-08-10 14:11:50 (INFO): Degree 2: Median(BC robust): 1.00; Median(GNN robust): 2.00; \n",
      "2022-08-10 14:11:50 (INFO): Degree 3: Median(BC robust): 1.00; Median(GNN robust): 2.00; \n",
      "2022-08-10 14:11:50 (INFO): Degree 4: Median(BC robust): 2.00; Median(GNN robust): 3.00; \n",
      "2022-08-10 14:11:50 (INFO): Degree 5: Median(BC robust): 3.00; Median(GNN robust): 4.00; \n",
      "2022-08-10 14:11:50 (INFO): Degree 6: Median(BC robust): 3.00; Median(GNN robust): 4.00; \n",
      "2022-08-10 14:11:50 (INFO): Degree 7: Median(BC robust): 3.00; Median(GNN robust): 4.00; \n",
      "2022-08-10 14:11:50 (INFO): Degree 8: Median(BC robust): 4.00; Median(GNN robust): 5.00; \n",
      "2022-08-10 14:11:50 (INFO): Degree 9: Median(BC robust): 3.00; Median(GNN robust): 3.00; \n",
      "2022-08-10 14:11:50 (INFO): Degree 10: Median(BC robust): 8.00; Median(GNN robust): 12.00; \n",
      "2022-08-10 14:11:50 (INFO): Degree 0: <GNN wrt BC robust>: 0.17/0.17. <GNN in wrt BC setting>: 1.17\n",
      "2022-08-10 14:11:50 (INFO): Degree 1: <GNN wrt BC robust>: 0.54/0.74. <GNN in wrt BC setting>: 2.64\n",
      "2022-08-10 14:11:50 (INFO): Degree 2: <GNN wrt BC robust>: 0.99/1.25. <GNN in wrt BC setting>: 4.11\n",
      "2022-08-10 14:11:50 (INFO): Degree 3: <GNN wrt BC robust>: 1.12/1.71. <GNN in wrt BC setting>: 2.81\n",
      "2022-08-10 14:11:50 (INFO): Degree 4: <GNN wrt BC robust>: 1.65/2.08. <GNN in wrt BC setting>: 4.12\n",
      "2022-08-10 14:11:50 (INFO): Degree 5: <GNN wrt BC robust>: 2.28/2.98. <GNN in wrt BC setting>: 5.54\n",
      "2022-08-10 14:11:50 (INFO): Degree 6: <GNN wrt BC robust>: 2.46/2.93. <GNN in wrt BC setting>: 5.66\n",
      "2022-08-10 14:11:50 (INFO): Degree 7: <GNN wrt BC robust>: 2.73/3.70. <GNN in wrt BC setting>: 6.27\n",
      "2022-08-10 14:11:50 (INFO): Degree 8: <GNN wrt BC robust>: 3.41/4.19. <GNN in wrt BC setting>: 6.67\n",
      "2022-08-10 14:11:50 (INFO): Degree 9: <GNN wrt BC robust>: 2.11/3.44. <GNN in wrt BC setting>: 3.22\n",
      "2022-08-10 14:11:50 (INFO): Degree 10: <GNN wrt BC robust>: 6.00/7.80. <GNN in wrt BC setting>: 12.00\n"
     ]
    }
   ],
   "source": [
    "data_params[\"sigma\"] = 1\n",
    "seed = 1\n",
    "\n",
    "result = exp_eval_robustness.run(data_params, model_params, train_params, attack_params, verbosity_params, other_params, seed, None)"
   ]
  },
  {
   "cell_type": "code",
   "execution_count": 21,
   "metadata": {},
   "outputs": [],
   "source": [
    "from src.data import calc_balanced_sample"
   ]
  },
  {
   "cell_type": "code",
   "execution_count": 22,
   "metadata": {},
   "outputs": [
    {
     "name": "stdout",
     "output_type": "stream",
     "text": [
      "[10 25 25]\n"
     ]
    }
   ],
   "source": [
    "class_counts = [10, 100, 100]\n",
    "n_samples = 60\n",
    "print(calc_balanced_sample(class_counts, n_samples))"
   ]
  },
  {
   "cell_type": "code",
   "execution_count": 35,
   "metadata": {},
   "outputs": [],
   "source": [
    "from src.utils import accuracy"
   ]
  },
  {
   "cell_type": "code",
   "execution_count": 7,
   "metadata": {},
   "outputs": [
    {
     "data": {
      "text/plain": [
       "tensor(1)"
      ]
     },
     "execution_count": 7,
     "metadata": {},
     "output_type": "execute_result"
    }
   ],
   "source": [
    "logits = torch.Tensor([[0.8, 0.2], [0.1, 0.9]])\n",
    "labels = torch.Tensor([0, 1])\n",
    "logits.argmax(1)[1]"
   ]
  },
  {
   "cell_type": "code",
   "execution_count": null,
   "metadata": {},
   "outputs": [],
   "source": []
  }
 ],
 "metadata": {
  "kernelspec": {
   "display_name": "Python 3.9.7 ('py397')",
   "language": "python",
   "name": "python3"
  },
  "language_info": {
   "codemirror_mode": {
    "name": "ipython",
    "version": 3
   },
   "file_extension": ".py",
   "mimetype": "text/x-python",
   "name": "python",
   "nbconvert_exporter": "python",
   "pygments_lexer": "ipython3",
   "version": "3.9.7"
  },
  "orig_nbformat": 4,
  "vscode": {
   "interpreter": {
    "hash": "c4e45668083cbb37b7048c0587d1e2fbbeab0bbf8f83b3643c89a090a0af4084"
   }
  }
 },
 "nbformat": 4,
 "nbformat_minor": 2
}
