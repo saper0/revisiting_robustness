{
 "cells": [
  {
   "cell_type": "code",
   "execution_count": 1,
   "metadata": {},
   "outputs": [],
   "source": [
    "# Reload modules automatically\n",
    "# https://ipython.readthedocs.io/en/stable/config/extensions/autoreload.html\n",
    "%load_ext autoreload\n",
    "%autoreload 2"
   ]
  },
  {
   "cell_type": "code",
   "execution_count": 2,
   "metadata": {},
   "outputs": [
    {
     "name": "stderr",
     "output_type": "stream",
     "text": [
      "WARNING:root:Cuda kernels could not loaded -> no CUDA support!\n",
      "WARNING:root:The OGB package is out of date. Your version is 1.3.2, while the latest version is 1.3.4.\n"
     ]
    }
   ],
   "source": [
    "import importlib\n",
    "from src.graph_models import create_graph_model\n",
    "import numpy as np\n",
    "import torch\n",
    "import exp_eval_robustness\n",
    "import exp_train\n",
    "from torch_sparse import SparseTensor"
   ]
  },
  {
   "cell_type": "code",
   "execution_count": 37,
   "metadata": {},
   "outputs": [],
   "source": [
    "data_params = dict(\n",
    "    graph_model = 'CSBM',\n",
    "    classes = 2,\n",
    "    n = 1000,\n",
    "    n_per_class_trn = 400,\n",
    "    K = 5,\n",
    "    sigma = 1,\n",
    "    avg_within_class_degree = 1.58 * 2,\n",
    "    avg_between_class_degree = 0.37 * 2,\n",
    "    inductive_samples = 10\n",
    ")\n",
    "\n",
    "model_params = dict(\n",
    "    label=\"LinearGCN\",\n",
    "    model=\"LinearGCN\",\n",
    "    n_filter=64,\n",
    "    dropout=0.5,\n",
    "    use_label_propagation=False,\n",
    ")\n",
    "\n",
    "train_params = dict(\n",
    "    lr=0.1,\n",
    "    weight_decay=1e-4,\n",
    "    patience=300,\n",
    "    max_epochs=3000,\n",
    "    inductive=True,\n",
    ")\n",
    "\n",
    "attack_params = dict(\n",
    "    attack = \"nettack\"\n",
    ")\n",
    "\n",
    "verbosity_params = dict(\n",
    "    display_steps = 100,\n",
    "    debug_lvl = \"info\"\n",
    ")  \n",
    "\n",
    "other_params = dict(\n",
    "    device = 0,\n",
    "    allow_tf32 = False,\n",
    "    sacred_metrics = True\n",
    ")\n",
    "\n",
    "seed = 0"
   ]
  },
  {
   "cell_type": "code",
   "execution_count": 38,
   "metadata": {},
   "outputs": [
    {
     "name": "stderr",
     "output_type": "stream",
     "text": [
      "2022-09-06 17:09:25 (INFO): Starting experiment exp_eval_robustness with configuration:\n",
      "2022-09-06 17:09:25 (INFO): data_params: {'graph_model': 'CSBM', 'classes': 2, 'n': 1000, 'n_per_class_trn': 400, 'K': 5, 'sigma': 1, 'avg_within_class_degree': 3.16, 'avg_between_class_degree': 0.74, 'inductive_samples': 10}\n",
      "2022-09-06 17:09:25 (INFO): model_params: {'label': 'LinearGCN', 'model': 'LinearGCN', 'n_filter': 64, 'dropout': 0.5, 'use_label_propagation': False}\n",
      "2022-09-06 17:09:25 (INFO): train_params: {'lr': 0.1, 'weight_decay': 0.0001, 'patience': 300, 'max_epochs': 3000, 'inductive': True}\n",
      "2022-09-06 17:09:25 (INFO): attack_params: {'attack': 'nettack'}\n",
      "2022-09-06 17:09:25 (INFO): verbosity_params: {'display_steps': 100, 'debug_lvl': 'info'}\n",
      "2022-09-06 17:09:25 (INFO): other_params: {'device': 0, 'allow_tf32': False, 'sacred_metrics': True}\n",
      "2022-09-06 17:09:25 (INFO): seed: 0\n",
      "2022-09-06 17:09:25 (INFO): db_collection: None\n",
      "2022-09-06 17:09:25 (INFO): Currently on gpu device cuda:0\n",
      "2022-09-06 17:09:25 (INFO): \n",
      "Epoch    0: loss_train: 0.58043, loss_val: 0.57102, acc_train: 0.81250, acc_val: 0.89000\n",
      "2022-09-06 17:09:26 (INFO): \n",
      "Epoch  100: loss_train: 0.10030, loss_val: 0.14892, acc_train: 0.96000, acc_val: 0.93500\n",
      "2022-09-06 17:09:26 (INFO): \n",
      "Epoch  200: loss_train: 0.10432, loss_val: 0.14514, acc_train: 0.95500, acc_val: 0.94000\n",
      "2022-09-06 17:09:27 (INFO): \n",
      "Epoch  300: loss_train: 0.09987, loss_val: 0.14465, acc_train: 0.96125, acc_val: 0.94000\n",
      "2022-09-06 17:09:27 (INFO): \n",
      "Epoch   27: loss_train: 0.14989, loss_val: 0.13133, acc_train: 0.93000, acc_val: 0.92500\n",
      "2022-09-06 17:09:27 (INFO): Testing Trained Model + Label Propagation if specified:\n",
      "2022-09-06 17:09:27 (INFO): \n",
      "Epoch    0: loss_train: 0.08684, loss_val: 0.13933, acc_train: 0.96500, acc_val: 0.93000\n",
      "  0%|          | 0/10 [00:00<?, ?it/s]"
     ]
    },
    {
     "name": "stdout",
     "output_type": "stream",
     "text": [
      "Deg: 4; true_class: 0\n",
      "Bayes_sep: 1; GNN_sep: 1\n",
      "Loss before attack: 9.8170\n",
      "Loss after attack: 4.8922\n",
      "Edge Added: (1000, 211); Classes: (0, 1), Feature Distance: 10.105\n",
      "Bayes_sep: 1; GNN_sep: 1\n",
      "Loss before attack: 4.8922\n",
      "Loss after attack: 1.9262\n",
      "Edge Added: (1000, 1); Classes: (0, 1), Feature Distance: 10.354\n",
      "Bayes_sep: 1; GNN_sep: 1\n",
      "Loss before attack: 0.7578\n",
      "Loss after attack: -1.5035\n",
      "Edge Added: (1000, 648); Classes: (0, 1), Feature Distance: 8.282\n",
      "Bayes_sep: 1; GNN_sep: 0\n",
      "Loss before attack: -1.5035\n",
      "Loss after attack: -3.1694\n",
      "Edge Added: (1000, 481); Classes: (0, 1), Feature Distance: 9.000\n",
      "Bayes_sep: 1; GNN_sep: 0\n",
      "Loss before attack: -3.9182\n",
      "Loss after attack: -5.3208\n",
      "Edge Added: (1000, 550); Classes: (0, 1), Feature Distance: 8.198\n",
      "Bayes_sep: 1; GNN_sep: 0\n",
      "Loss before attack: -5.3208\n",
      "Loss after attack: -6.5397\n",
      "Edge Removed: (1000, 400); Classes: (0, 0), Feature Distance: 7.239\n",
      "Bayes_sep: 1; GNN_sep: 0\n",
      "Loss before attack: -8.0998\n",
      "Loss after attack: -9.4322\n",
      "Edge Removed: (1000, 979); Classes: (0, 0), Feature Distance: 6.077\n",
      "Bayes_sep: 1; GNN_sep: 0\n",
      "Loss before attack: -10.6674\n",
      "Loss after attack: -12.2760\n",
      "Edge Removed: (1000, 163); Classes: (0, 0), Feature Distance: 7.201\n",
      "Bayes_sep: 1; GNN_sep: 0\n",
      "Loss before attack: -12.6211\n"
     ]
    },
    {
     "name": "stderr",
     "output_type": "stream",
     "text": [
      " 10%|█         | 1/10 [00:00<00:07,  1.15it/s]"
     ]
    },
    {
     "name": "stdout",
     "output_type": "stream",
     "text": [
      "Loss after attack: -14.6832\n",
      "Edge Removed: (1000, 958); Classes: (0, 0), Feature Distance: 5.279\n",
      "Bayes_sep: 1; GNN_sep: 0\n",
      "Loss before attack: -15.2398\n",
      "Loss after attack: -15.7202\n",
      "Edge Added: (1000, 476); Classes: (0, 1), Feature Distance: 9.594\n",
      "Bayes_sep: 1; GNN_sep: 0\n",
      "Loss before attack: -16.4698\n",
      "Loss after attack: -16.8458\n",
      "Edge Added: (1000, 290); Classes: (0, 1), Feature Distance: 9.289\n",
      "Deg: 4; true_class: 0\n",
      "Bayes_sep: 1; GNN_sep: 1\n",
      "Loss before attack: 13.3086\n",
      "Loss after attack: 8.4497\n",
      "Edge Added: (1000, 211); Classes: (0, 1), Feature Distance: 8.978\n",
      "Bayes_sep: 1; GNN_sep: 1\n",
      "Loss before attack: 8.4497\n",
      "Loss after attack: 5.3550\n",
      "Edge Added: (1000, 1); Classes: (0, 1), Feature Distance: 10.159\n",
      "Bayes_sep: 1; GNN_sep: 1\n",
      "Loss before attack: 4.1865\n",
      "Loss after attack: 2.0004\n",
      "Edge Added: (1000, 648); Classes: (0, 1), Feature Distance: 9.081\n",
      "Bayes_sep: 1; GNN_sep: 1\n",
      "Loss before attack: 2.0004\n",
      "Loss after attack: -0.0019\n",
      "Edge Removed: (1000, 699); Classes: (0, 0), Feature Distance: 5.799\n",
      "Bayes_sep: 1; GNN_sep: 0\n",
      "Loss before attack: -0.7349\n",
      "Loss after attack: -2.3903\n",
      "Edge Added: (1000, 481); Classes: (0, 1), Feature Distance: 9.495\n",
      "Bayes_sep: 1; GNN_sep: 0\n",
      "Loss before attack: -3.1844\n",
      "Loss after attack: -4.8154\n",
      "Edge Removed: (1000, 125); Classes: (0, 0), Feature Distance: 7.972\n",
      "Bayes_sep: 1; GNN_sep: 0\n",
      "Loss before attack: -5.7837\n",
      "Loss after attack: -7.6170\n",
      "Edge Removed: (1000, 978); Classes: (0, 0), Feature Distance: 6.811\n",
      "Bayes_sep: 1; GNN_sep: 0\n",
      "Loss before attack: -8.9230\n",
      "Loss after attack: -10.9681\n",
      "Edge Removed: (1000, 538); Classes: (0, 0), Feature Distance: 6.980\n",
      "Bayes_sep: 1; GNN_sep: 0\n",
      "Loss before attack: -11.8455\n",
      "Loss after attack: -12.3884\n",
      "Edge Added: (1000, 476); Classes: (0, 1), Feature Distance: 9.353\n",
      "Bayes_sep: 1; GNN_sep: 0\n",
      "Loss before attack: -13.1980\n",
      "Loss after attack: -13.5910\n",
      "Edge Added: (1000, 700); Classes: (0, 1), Feature Distance: 7.476\n",
      "Bayes_sep: 1; GNN_sep: 0\n",
      "Loss before attack: -12.8727\n",
      "Loss after attack: -13.3389\n",
      "Edge Added: (1000, 290); Classes: (0, 1), Feature Distance: 10.289\n",
      "Bayes_sep: 1; GNN_sep: 0\n",
      "Loss before attack: -14.0961\n",
      "Loss after attack: -14.4737\n",
      "Edge Added: (1000, 550); Classes: (0, 1), Feature Distance: 8.641\n",
      "Bayes_sep: 1; GNN_sep: 0\n",
      "Loss before attack: -14.4737\n",
      "Loss after attack: -15.0997\n",
      "Edge Removed: (1000, 700); Classes: (0, 1), Feature Distance: 7.476\n",
      "Bayes_sep: 1; GNN_sep: 0\n",
      "Loss before attack: -14.6742\n",
      "Loss after attack: -15.0183\n",
      "Edge Added: (1000, 938); Classes: (0, 1), Feature Distance: 8.582\n",
      "Bayes_sep: 1; GNN_sep: 0\n",
      "Loss before attack: -15.2059\n",
      "Loss after attack: -15.4430\n",
      "Edge Added: (1000, 731); Classes: (0, 1), Feature Distance: 9.897\n",
      "Bayes_sep: 1; GNN_sep: 0\n",
      "Loss before attack: -16.1335\n"
     ]
    },
    {
     "name": "stderr",
     "output_type": "stream",
     "text": [
      " 20%|██        | 2/10 [00:02<00:08,  1.08s/it]"
     ]
    },
    {
     "name": "stdout",
     "output_type": "stream",
     "text": [
      "Loss after attack: -16.3322\n",
      "Edge Added: (1000, 760); Classes: (0, 1), Feature Distance: 9.058\n",
      "Bayes_sep: 1; GNN_sep: 0\n",
      "Loss before attack: -16.6568\n",
      "Loss after attack: -16.8495\n",
      "Edge Added: (1000, 560); Classes: (0, 1), Feature Distance: 8.154\n",
      "Deg: 5; true_class: 0\n",
      "Bayes_sep: 1; GNN_sep: 1\n",
      "Loss before attack: 5.1339\n",
      "Loss after attack: 1.7003\n",
      "Edge Added: (1000, 211); Classes: (0, 1), Feature Distance: 9.388\n",
      "Bayes_sep: 1; GNN_sep: 1\n",
      "Loss before attack: 1.7003\n",
      "Loss after attack: -0.4587\n",
      "Edge Added: (1000, 1); Classes: (0, 1), Feature Distance: 9.767\n",
      "Bayes_sep: 1; GNN_sep: 0\n",
      "Loss before attack: -1.5516\n",
      "Loss after attack: -3.1696\n",
      "Edge Added: (1000, 648); Classes: (0, 1), Feature Distance: 7.839\n",
      "Bayes_sep: 1; GNN_sep: 0\n",
      "Loss before attack: -3.1696\n",
      "Loss after attack: -4.5816\n",
      "Edge Added: (1000, 319); Classes: (0, 1), Feature Distance: 10.680\n",
      "Bayes_sep: 1; GNN_sep: 0\n",
      "Loss before attack: -3.5235\n",
      "Loss after attack: -4.8191\n",
      "Edge Removed: (1000, 227); Classes: (0, 0), Feature Distance: 5.559\n",
      "Bayes_sep: 1; GNN_sep: 0\n",
      "Loss before attack: -5.7326\n",
      "Loss after attack: -6.9371\n",
      "Edge Removed: (1000, 820); Classes: (0, 0), Feature Distance: 6.199\n",
      "Bayes_sep: 1; GNN_sep: 0\n",
      "Loss before attack: -7.2687\n",
      "Loss after attack: -8.4862\n",
      "Edge Removed: (1000, 199); Classes: (0, 0), Feature Distance: 7.345\n",
      "Bayes_sep: 1; GNN_sep: 0\n",
      "Loss before attack: -9.9676\n",
      "Loss after attack: -10.8076\n",
      "Edge Added: (1000, 481); Classes: (0, 1), Feature Distance: 10.129\n",
      "Bayes_sep: 1; GNN_sep: 0\n",
      "Loss before attack: -11.6017\n",
      "Loss after attack: -12.3183\n",
      "Edge Removed: (1000, 375); Classes: (0, 1), Feature Distance: 8.552\n",
      "Bayes_sep: 1; GNN_sep: 0\n",
      "Loss before attack: -11.2840\n",
      "Loss after attack: -11.9508\n",
      "Edge Removed: (1000, 255); Classes: (0, 1), Feature Distance: 9.109\n",
      "Bayes_sep: 1; GNN_sep: 0\n",
      "Loss before attack: -11.7919\n",
      "Loss after attack: -12.3642\n",
      "Edge Added: (1000, 476); Classes: (0, 1), Feature Distance: 9.184\n",
      "Bayes_sep: 1; GNN_sep: 0\n",
      "Loss before attack: -13.1137\n",
      "Loss after attack: -13.5763\n",
      "Edge Added: (1000, 700); Classes: (0, 1), Feature Distance: 8.109\n",
      "Bayes_sep: 1; GNN_sep: 0\n",
      "Loss before attack: -12.9044\n",
      "Loss after attack: -13.4035\n",
      "Edge Added: (1000, 290); Classes: (0, 1), Feature Distance: 11.446\n",
      "Bayes_sep: 1; GNN_sep: 0\n",
      "Loss before attack: -14.1174\n",
      "Loss after attack: -14.5810\n",
      "Edge Added: (1000, 550); Classes: (0, 1), Feature Distance: 8.154\n",
      "Bayes_sep: 1; GNN_sep: 0\n",
      "Loss before attack: -14.5810\n",
      "Loss after attack: -15.1118\n",
      "Edge Removed: (1000, 700); Classes: (0, 1), Feature Distance: 8.109\n",
      "Bayes_sep: 1; GNN_sep: 0\n",
      "Loss before attack: -14.7107\n",
      "Loss after attack: -15.0715\n",
      "Edge Added: (1000, 938); Classes: (0, 1), Feature Distance: 9.005\n",
      "Bayes_sep: 1; GNN_sep: 0\n",
      "Loss before attack: -15.2495\n",
      "Loss after attack: -15.5308\n",
      "Edge Added: (1000, 731); Classes: (0, 1), Feature Distance: 9.612\n",
      "Bayes_sep: 1; GNN_sep: 0\n",
      "Loss before attack: -16.1892\n",
      "Loss after attack: -16.4356\n",
      "Edge Added: (1000, 560); Classes: (0, 1), Feature Distance: 7.266\n",
      "Bayes_sep: 1; GNN_sep: 0\n",
      "Loss before attack: -16.4356\n"
     ]
    },
    {
     "name": "stderr",
     "output_type": "stream",
     "text": [
      " 30%|███       | 3/10 [00:03<00:09,  1.35s/it]"
     ]
    },
    {
     "name": "stdout",
     "output_type": "stream",
     "text": [
      "Loss after attack: -17.0667\n",
      "Edge Added: (1000, 331); Classes: (0, 1), Feature Distance: 9.053\n",
      "Deg: 4; true_class: 1\n",
      "Bayes_sep: 1; GNN_sep: 1\n",
      "Loss before attack: 3.7314\n",
      "Loss after attack: -0.2829\n",
      "Edge Added: (1000, 516); Classes: (1, 0), Feature Distance: 9.050\n",
      "Bayes_sep: 1; GNN_sep: 0\n",
      "Loss before attack: -0.2829\n",
      "Loss after attack: -2.8875\n",
      "Edge Added: (1000, 17); Classes: (1, 0), Feature Distance: 8.088\n",
      "Bayes_sep: 1; GNN_sep: 0\n",
      "Loss before attack: -2.8875\n",
      "Loss after attack: -5.0102\n",
      "Edge Added: (1000, 751); Classes: (1, 0), Feature Distance: 8.228\n",
      "Bayes_sep: 1; GNN_sep: 0\n",
      "Loss before attack: -5.0102\n",
      "Loss after attack: -6.8999\n",
      "Edge Removed: (1000, 331); Classes: (1, 1), Feature Distance: 6.937\n",
      "Bayes_sep: 1; GNN_sep: 0\n",
      "Loss before attack: -6.5384\n",
      "Loss after attack: -8.2982\n",
      "Edge Removed: (1000, 541); Classes: (1, 1), Feature Distance: 6.459\n",
      "Bayes_sep: 1; GNN_sep: 0\n",
      "Loss before attack: -9.1444\n"
     ]
    },
    {
     "name": "stderr",
     "output_type": "stream",
     "text": [
      " 40%|████      | 4/10 [00:04<00:06,  1.08s/it]"
     ]
    },
    {
     "name": "stdout",
     "output_type": "stream",
     "text": [
      "Loss after attack: -10.6035\n",
      "Edge Removed: (1000, 127); Classes: (1, 1), Feature Distance: 7.009\n",
      "Bayes_sep: 1; GNN_sep: 0\n",
      "Loss before attack: -11.3461\n",
      "Loss after attack: -12.5388\n",
      "Edge Added: (1000, 762); Classes: (1, 0), Feature Distance: 8.791\n",
      "Bayes_sep: 1; GNN_sep: 0\n",
      "Loss before attack: -12.8758\n",
      "Loss after attack: -13.8302\n",
      "Edge Added: (1000, 960); Classes: (1, 0), Feature Distance: 9.247\n",
      "Bayes_sep: 1; GNN_sep: 0\n",
      "Loss before attack: -14.6620\n",
      "Loss after attack: -15.4963\n",
      "Edge Added: (1000, 915); Classes: (1, 0), Feature Distance: 7.824\n",
      "Deg: 3; true_class: 1\n",
      "Bayes_sep: 1; GNN_sep: 1\n",
      "Loss before attack: 10.1688\n",
      "Loss after attack: 5.1610\n",
      "Edge Added: (1000, 516); Classes: (1, 0), Feature Distance: 9.882\n",
      "Bayes_sep: 1; GNN_sep: 1\n",
      "Loss before attack: 5.1610\n",
      "Loss after attack: 2.1128\n",
      "Edge Added: (1000, 17); Classes: (1, 0), Feature Distance: 7.972\n",
      "Bayes_sep: 1; GNN_sep: 1\n",
      "Loss before attack: 2.1128\n",
      "Loss after attack: -0.2668\n",
      "Edge Added: (1000, 751); Classes: (1, 0), Feature Distance: 8.266\n",
      "Bayes_sep: 1; GNN_sep: 0\n",
      "Loss before attack: -0.2668\n",
      "Loss after attack: -2.1225\n",
      "Edge Added: (1000, 920); Classes: (1, 0), Feature Distance: 10.041\n",
      "Bayes_sep: 1; GNN_sep: 0\n",
      "Loss before attack: -1.3875\n",
      "Loss after attack: -2.9882\n",
      "Edge Added: (1000, 762); Classes: (1, 0), Feature Distance: 9.675\n",
      "Bayes_sep: 1; GNN_sep: 0\n",
      "Loss before attack: -3.2634\n",
      "Loss after attack: -4.7305\n",
      "Edge Added: (1000, 972); Classes: (1, 0), Feature Distance: 7.939\n",
      "Bayes_sep: 1; GNN_sep: 0\n",
      "Loss before attack: -3.6534\n",
      "Loss after attack: -4.9915\n",
      "Edge Removed: (1000, 501); Classes: (1, 1), Feature Distance: 5.565\n",
      "Bayes_sep: 1; GNN_sep: 0\n",
      "Loss before attack: -5.6739\n",
      "Loss after attack: -6.8622\n",
      "Edge Added: (1000, 960); Classes: (1, 0), Feature Distance: 10.148\n",
      "Bayes_sep: 1; GNN_sep: 0\n",
      "Loss before attack: -7.5582\n",
      "Loss after attack: -8.6689\n",
      "Edge Removed: (1000, 244); Classes: (1, 1), Feature Distance: 6.418\n",
      "Bayes_sep: 1; GNN_sep: 0\n",
      "Loss before attack: -9.4205\n",
      "Loss after attack: -10.7171\n",
      "Edge Removed: (1000, 685); Classes: (1, 1), Feature Distance: 6.743\n",
      "Bayes_sep: 1; GNN_sep: 0\n",
      "Loss before attack: -12.1345\n",
      "Loss after attack: -13.1177\n",
      "Edge Added: (1000, 915); Classes: (1, 0), Feature Distance: 8.165\n",
      "Bayes_sep: 1; GNN_sep: 0\n",
      "Loss before attack: -11.0602\n",
      "Loss after attack: -11.8483\n",
      "Edge Added: (1000, 794); Classes: (1, 0), Feature Distance: 10.706\n",
      "Bayes_sep: 1; GNN_sep: 0\n",
      "Loss before attack: -12.7968\n",
      "Loss after attack: -13.4869\n",
      "Edge Added: (1000, 89); Classes: (1, 0), Feature Distance: 8.620\n",
      "Bayes_sep: 1; GNN_sep: 0\n",
      "Loss before attack: -13.4869\n",
      "Loss after attack: -14.1596\n",
      "Edge Added: (1000, 662); Classes: (1, 0), Feature Distance: 8.423\n",
      "Bayes_sep: 1; GNN_sep: 0\n",
      "Loss before attack: -14.1596\n"
     ]
    },
    {
     "name": "stderr",
     "output_type": "stream",
     "text": [
      " 50%|█████     | 5/10 [00:05<00:05,  1.14s/it]"
     ]
    },
    {
     "name": "stdout",
     "output_type": "stream",
     "text": [
      "Loss after attack: -14.8211\n",
      "Edge Added: (1000, 114); Classes: (1, 0), Feature Distance: 7.698\n",
      "Deg: 7; true_class: 1\n",
      "Bayes_sep: 1; GNN_sep: 1\n",
      "Loss before attack: 5.7537\n",
      "Loss after attack: 3.0241\n",
      "Edge Added: (1000, 516); Classes: (1, 0), Feature Distance: 8.451\n",
      "Bayes_sep: 1; GNN_sep: 1\n",
      "Loss before attack: 3.0241\n",
      "Loss after attack: 1.0730\n",
      "Edge Added: (1000, 17); Classes: (1, 0), Feature Distance: 8.517\n",
      "Bayes_sep: 1; GNN_sep: 1\n",
      "Loss before attack: 1.0730\n",
      "Loss after attack: -0.6357\n",
      "Edge Added: (1000, 751); Classes: (1, 0), Feature Distance: 8.669\n",
      "Bayes_sep: 1; GNN_sep: 0\n",
      "Loss before attack: -0.6357\n",
      "Loss after attack: -2.0428\n",
      "Edge Added: (1000, 920); Classes: (1, 0), Feature Distance: 8.958\n",
      "Bayes_sep: 1; GNN_sep: 0\n",
      "Loss before attack: -1.4427\n",
      "Loss after attack: -2.7154\n",
      "Edge Added: (1000, 762); Classes: (1, 0), Feature Distance: 9.568\n",
      "Bayes_sep: 1; GNN_sep: 0\n",
      "Loss before attack: -2.9444\n",
      "Loss after attack: -4.2176\n",
      "Edge Added: (1000, 972); Classes: (1, 0), Feature Distance: 8.922\n",
      "Bayes_sep: 1; GNN_sep: 0\n",
      "Loss before attack: -3.3073\n",
      "Loss after attack: -4.4025\n",
      "Edge Added: (1000, 89); Classes: (1, 0), Feature Distance: 8.384\n",
      "Bayes_sep: 1; GNN_sep: 0\n",
      "Loss before attack: -4.4025\n",
      "Loss after attack: -5.4183\n",
      "Edge Added: (1000, 662); Classes: (1, 0), Feature Distance: 7.516\n",
      "Bayes_sep: 1; GNN_sep: 0\n",
      "Loss before attack: -5.4183\n",
      "Loss after attack: -6.3814\n",
      "Edge Added: (1000, 114); Classes: (1, 0), Feature Distance: 7.666\n",
      "Bayes_sep: 1; GNN_sep: 0\n",
      "Loss before attack: -6.3814\n",
      "Loss after attack: -7.5369\n",
      "Edge Added: (1000, 434); Classes: (1, 0), Feature Distance: 7.940\n",
      "Bayes_sep: 1; GNN_sep: 0\n",
      "Loss before attack: -7.2232\n",
      "Loss after attack: -8.0839\n",
      "Edge Added: (1000, 960); Classes: (1, 0), Feature Distance: 9.903\n",
      "Bayes_sep: 1; GNN_sep: 0\n",
      "Loss before attack: -8.5888\n"
     ]
    },
    {
     "name": "stderr",
     "output_type": "stream",
     "text": [
      " 60%|██████    | 6/10 [00:07<00:04,  1.25s/it]"
     ]
    },
    {
     "name": "stdout",
     "output_type": "stream",
     "text": [
      "Loss after attack: -9.3888\n",
      "Edge Added: (1000, 798); Classes: (1, 0), Feature Distance: 8.845\n",
      "Bayes_sep: 1; GNN_sep: 0\n",
      "Loss before attack: -9.9606\n",
      "Loss after attack: -10.7347\n",
      "Edge Removed: (1000, 9); Classes: (1, 1), Feature Distance: 5.277\n",
      "Deg: 4; true_class: 0\n",
      "Bayes_sep: 1; GNN_sep: 1\n",
      "Loss before attack: 6.1674\n",
      "Loss after attack: 2.2967\n",
      "Edge Added: (1000, 211); Classes: (0, 1), Feature Distance: 9.294\n",
      "Bayes_sep: 1; GNN_sep: 1\n",
      "Loss before attack: 2.2967\n",
      "Loss after attack: -0.0979\n",
      "Edge Added: (1000, 1); Classes: (0, 1), Feature Distance: 9.977\n",
      "Bayes_sep: 1; GNN_sep: 0\n",
      "Loss before attack: -1.2663\n",
      "Loss after attack: -2.9216\n",
      "Edge Added: (1000, 648); Classes: (0, 1), Feature Distance: 8.427\n",
      "Bayes_sep: 1; GNN_sep: 0\n",
      "Loss before attack: -2.9216\n",
      "Loss after attack: -4.2877\n",
      "Edge Removed: (1000, 297); Classes: (0, 0), Feature Distance: 6.942\n",
      "Bayes_sep: 1; GNN_sep: 0\n",
      "Loss before attack: -5.8126\n",
      "Loss after attack: -7.1901\n",
      "Edge Removed: (1000, 630); Classes: (0, 0), Feature Distance: 7.844\n",
      "Bayes_sep: 1; GNN_sep: 0\n",
      "Loss before attack: -8.4347\n",
      "Loss after attack: -10.0959\n",
      "Edge Removed: (1000, 955); Classes: (0, 0), Feature Distance: 6.543\n",
      "Bayes_sep: 1; GNN_sep: 0\n",
      "Loss before attack: -10.2056\n",
      "Loss after attack: -11.4553\n",
      "Edge Removed: (1000, 800); Classes: (0, 1), Feature Distance: 8.932\n",
      "Bayes_sep: 1; GNN_sep: 0\n",
      "Loss before attack: -9.8092\n",
      "Loss after attack: -10.7693\n",
      "Edge Added: (1000, 481); Classes: (0, 1), Feature Distance: 9.215\n",
      "Bayes_sep: 1; GNN_sep: 0\n",
      "Loss before attack: -11.7738\n",
      "Loss after attack: -12.3192\n",
      "Edge Added: (1000, 476); Classes: (0, 1), Feature Distance: 8.945\n",
      "Bayes_sep: 1; GNN_sep: 0\n",
      "Loss before attack: -13.1287\n",
      "Loss after attack: -13.5255\n",
      "Edge Added: (1000, 700); Classes: (0, 1), Feature Distance: 7.803\n",
      "Bayes_sep: 1; GNN_sep: 0\n",
      "Loss before attack: -12.8071\n",
      "Loss after attack: -13.2739\n",
      "Edge Added: (1000, 290); Classes: (0, 1), Feature Distance: 9.313\n",
      "Bayes_sep: 1; GNN_sep: 0\n",
      "Loss before attack: -14.0311\n",
      "Loss after attack: -14.4056\n",
      "Edge Added: (1000, 550); Classes: (0, 1), Feature Distance: 8.130\n",
      "Bayes_sep: 1; GNN_sep: 0\n",
      "Loss before attack: -14.4056\n",
      "Loss after attack: -15.0288\n",
      "Edge Removed: (1000, 700); Classes: (0, 1), Feature Distance: 7.803\n",
      "Bayes_sep: 1; GNN_sep: 0\n",
      "Loss before attack: -14.6033\n"
     ]
    },
    {
     "name": "stderr",
     "output_type": "stream",
     "text": [
      " 70%|███████   | 7/10 [00:08<00:03,  1.22s/it]"
     ]
    },
    {
     "name": "stdout",
     "output_type": "stream",
     "text": [
      "Loss after attack: -14.9520\n",
      "Edge Added: (1000, 938); Classes: (0, 1), Feature Distance: 9.051\n",
      "Bayes_sep: 1; GNN_sep: 0\n",
      "Loss before attack: -15.1396\n",
      "Loss after attack: -15.3771\n",
      "Edge Added: (1000, 731); Classes: (0, 1), Feature Distance: 9.241\n",
      "Bayes_sep: 1; GNN_sep: 0\n",
      "Loss before attack: -16.0676\n",
      "Loss after attack: -16.2666\n",
      "Edge Added: (1000, 760); Classes: (0, 1), Feature Distance: 8.632\n",
      "Deg: 3; true_class: 1\n",
      "Bayes_sep: 1; GNN_sep: 1\n",
      "Loss before attack: 9.9540\n",
      "Loss after attack: 4.8025\n",
      "Edge Added: (1000, 516); Classes: (1, 0), Feature Distance: 9.278\n",
      "Bayes_sep: 1; GNN_sep: 1\n",
      "Loss before attack: 4.8025\n",
      "Loss after attack: 1.6606\n",
      "Edge Added: (1000, 17); Classes: (1, 0), Feature Distance: 7.620\n",
      "Bayes_sep: 1; GNN_sep: 1\n",
      "Loss before attack: 1.6606\n",
      "Loss after attack: -0.7846\n",
      "Edge Added: (1000, 751); Classes: (1, 0), Feature Distance: 9.435\n",
      "Bayes_sep: 1; GNN_sep: 0\n",
      "Loss before attack: -0.7846\n",
      "Loss after attack: -2.6505\n",
      "Edge Added: (1000, 762); Classes: (1, 0), Feature Distance: 9.063\n",
      "Bayes_sep: 1; GNN_sep: 0\n",
      "Loss before attack: -2.9424\n",
      "Loss after attack: -4.5491\n",
      "Edge Added: (1000, 972); Classes: (1, 0), Feature Distance: 8.963\n",
      "Bayes_sep: 1; GNN_sep: 0\n",
      "Loss before attack: -3.4137\n",
      "Loss after attack: -5.4192\n",
      "Edge Added: (1000, 920); Classes: (1, 0), Feature Distance: 8.870\n",
      "Bayes_sep: 1; GNN_sep: 0\n",
      "Loss before attack: -4.1584\n",
      "Loss after attack: -5.4340\n",
      "Edge Added: (1000, 960); Classes: (1, 0), Feature Distance: 9.407\n",
      "Bayes_sep: 1; GNN_sep: 0\n",
      "Loss before attack: -6.0976\n",
      "Loss after attack: -7.4090\n",
      "Edge Added: (1000, 915); Classes: (1, 0), Feature Distance: 8.687\n",
      "Bayes_sep: 1; GNN_sep: 0\n",
      "Loss before attack: -5.6271\n",
      "Loss after attack: -6.7340\n",
      "Edge Added: (1000, 662); Classes: (1, 0), Feature Distance: 7.868\n",
      "Bayes_sep: 1; GNN_sep: 0\n",
      "Loss before attack: -6.7340\n"
     ]
    },
    {
     "name": "stderr",
     "output_type": "stream",
     "text": [
      " 80%|████████  | 8/10 [00:09<00:02,  1.20s/it]"
     ]
    },
    {
     "name": "stdout",
     "output_type": "stream",
     "text": [
      "Loss after attack: -7.7949\n",
      "Edge Removed: (1000, 906); Classes: (1, 1), Feature Distance: 7.666\n",
      "Bayes_sep: 1; GNN_sep: 0\n",
      "Loss before attack: -7.8627\n",
      "Loss after attack: -8.8665\n",
      "Edge Added: (1000, 114); Classes: (1, 0), Feature Distance: 7.835\n",
      "Deg: 2; true_class: 0\n",
      "Bayes_sep: 1; GNN_sep: 1\n",
      "Loss before attack: 6.5250\n",
      "Loss after attack: 0.4360\n",
      "Edge Added: (1000, 211); Classes: (0, 1), Feature Distance: 9.548\n",
      "Bayes_sep: 1; GNN_sep: 1\n",
      "Loss before attack: 0.4360\n",
      "Loss after attack: -2.7381\n",
      "Edge Added: (1000, 1); Classes: (0, 1), Feature Distance: 9.677\n",
      "Bayes_sep: 1; GNN_sep: 0\n",
      "Loss before attack: -4.1207\n",
      "Loss after attack: -5.9409\n",
      "Edge Removed: (1000, 615); Classes: (0, 0), Feature Distance: 6.440\n",
      "Bayes_sep: 1; GNN_sep: 0\n",
      "Loss before attack: -6.0678\n",
      "Loss after attack: -7.8568\n",
      "Edge Removed: (1000, 378); Classes: (0, 0), Feature Distance: 6.920\n",
      "Bayes_sep: 1; GNN_sep: 0\n",
      "Loss before attack: -9.1746\n",
      "Loss after attack: -10.3969\n",
      "Edge Added: (1000, 481); Classes: (0, 1), Feature Distance: 9.176\n",
      "Bayes_sep: 1; GNN_sep: 0\n",
      "Loss before attack: -11.5200\n",
      "Loss after attack: -12.2069\n",
      "Edge Added: (1000, 648); Classes: (0, 1), Feature Distance: 9.428\n",
      "Bayes_sep: 1; GNN_sep: 0\n",
      "Loss before attack: -12.2069\n",
      "Loss after attack: -12.7380\n",
      "Edge Added: (1000, 476); Classes: (0, 1), Feature Distance: 9.943\n",
      "Bayes_sep: 1; GNN_sep: 0\n",
      "Loss before attack: -13.5476\n",
      "Loss after attack: -13.9317\n",
      "Edge Added: (1000, 290); Classes: (0, 1), Feature Distance: 9.384\n",
      "Bayes_sep: 1; GNN_sep: 0\n",
      "Loss before attack: -14.7412\n",
      "Loss after attack: -15.0957\n",
      "Edge Added: (1000, 700); Classes: (0, 1), Feature Distance: 8.292\n",
      "Bayes_sep: 1; GNN_sep: 0\n",
      "Loss before attack: -14.4238\n",
      "Loss after attack: -14.8173\n",
      "Edge Added: (1000, 550); Classes: (0, 1), Feature Distance: 8.438\n",
      "Bayes_sep: 1; GNN_sep: 0\n",
      "Loss before attack: -14.8173\n",
      "Loss after attack: -15.4577\n",
      "Edge Removed: (1000, 700); Classes: (0, 1), Feature Distance: 8.292\n",
      "Bayes_sep: 1; GNN_sep: 0\n",
      "Loss before attack: -15.0322\n",
      "Loss after attack: -15.3529\n",
      "Edge Added: (1000, 938); Classes: (0, 1), Feature Distance: 8.313\n",
      "Bayes_sep: 1; GNN_sep: 0\n",
      "Loss before attack: -15.5406\n",
      "Loss after attack: -15.7754\n",
      "Edge Added: (1000, 731); Classes: (0, 1), Feature Distance: 9.502\n",
      "Bayes_sep: 1; GNN_sep: 0\n",
      "Loss before attack: -16.4659\n",
      "Loss after attack: -16.6629\n",
      "Edge Added: (1000, 760); Classes: (0, 1), Feature Distance: 9.260\n",
      "Bayes_sep: 1; GNN_sep: 0\n",
      "Loss before attack: -16.9875\n"
     ]
    },
    {
     "name": "stderr",
     "output_type": "stream",
     "text": [
      " 90%|█████████ | 9/10 [00:10<00:01,  1.13s/it]"
     ]
    },
    {
     "name": "stdout",
     "output_type": "stream",
     "text": [
      "Loss after attack: -17.1923\n",
      "Edge Added: (1000, 560); Classes: (0, 1), Feature Distance: 7.940\n",
      "Deg: 1; true_class: 0\n",
      "Bayes_sep: 1; GNN_sep: 1\n",
      "Loss before attack: 8.2371\n",
      "Loss after attack: -0.6896\n",
      "Edge Added: (1000, 211); Classes: (0, 1), Feature Distance: 10.419\n",
      "Bayes_sep: 1; GNN_sep: 0\n",
      "Loss before attack: -0.6896\n",
      "Loss after attack: -4.3977\n",
      "Edge Added: (1000, 1); Classes: (0, 1), Feature Distance: 10.350\n",
      "Bayes_sep: 1; GNN_sep: 0\n",
      "Loss before attack: -5.9434\n",
      "Loss after attack: -8.6535\n",
      "Edge Removed: (1000, 993); Classes: (0, 0), Feature Distance: 8.538\n",
      "Bayes_sep: 1; GNN_sep: 0\n",
      "Loss before attack: -10.4017\n",
      "Loss after attack: -11.5174\n",
      "Edge Added: (1000, 648); Classes: (0, 1), Feature Distance: 7.861\n",
      "Bayes_sep: 1; GNN_sep: 0\n",
      "Loss before attack: -11.5174\n",
      "Loss after attack: -12.3804\n",
      "Edge Added: (1000, 481); Classes: (0, 1), Feature Distance: 9.528\n",
      "Bayes_sep: 1; GNN_sep: 0\n",
      "Loss before attack: -13.3849\n",
      "Loss after attack: -13.8775\n",
      "Edge Added: (1000, 476); Classes: (0, 1), Feature Distance: 10.093\n",
      "Bayes_sep: 1; GNN_sep: 0\n",
      "Loss before attack: -14.6871\n"
     ]
    },
    {
     "name": "stderr",
     "output_type": "stream",
     "text": [
      "100%|██████████| 10/10 [00:11<00:00,  1.10s/it]\n",
      "2022-09-06 17:09:38 (INFO): Prediction Statistics:\n",
      "2022-09-06 17:09:38 (INFO): Count BC: 10.0 GNN: 10.0\n",
      "2022-09-06 17:09:38 (INFO): Count Structure BC: 10.0 Feature BC: 10.0\n",
      "2022-09-06 17:09:38 (INFO): Count BC and GNN: 10.0\n",
      "2022-09-06 17:09:38 (INFO): Count BC not GNN: 0.0 GNN not BC: 0.0\n",
      "2022-09-06 17:09:38 (INFO): Robustness Statistics:\n",
      "2022-09-06 17:09:38 (INFO): BC more robust than GNN: 10.0\n",
      "2022-09-06 17:09:38 (INFO): BC & GNN equal robustness: 0.0\n",
      "2022-09-06 17:09:38 (INFO): BC less robust than GNN: 0.0\n",
      "2022-09-06 17:09:38 (INFO): Degree 0: <BC robust>: -1.00; <GNN robust>: -1.00; \n",
      "2022-09-06 17:09:38 (INFO): Degree 1: <BC robust>: 8.00; <GNN robust>: 0.00; \n",
      "2022-09-06 17:09:38 (INFO): Degree 2: <BC robust>: 14.00; <GNN robust>: 1.00; \n",
      "2022-09-06 17:09:38 (INFO): Degree 3: <BC robust>: 12.00; <GNN robust>: 2.00; \n",
      "2022-09-06 17:09:38 (INFO): Degree 4: <BC robust>: 12.25; <GNN robust>: 1.50; \n",
      "2022-09-06 17:09:38 (INFO): Degree 5: <BC robust>: 18.00; <GNN robust>: 1.00; \n",
      "2022-09-06 17:09:38 (INFO): Degree 6: <BC robust>: -1.00; <GNN robust>: -1.00; \n",
      "2022-09-06 17:09:38 (INFO): Degree 7: <BC robust>: 12.00; <GNN robust>: 2.00; \n",
      "2022-09-06 17:09:38 (INFO): Degree 0: Max(BC robust): -1.00; Max(GNN robust): -1.00; \n",
      "2022-09-06 17:09:38 (INFO): Degree 1: Max(BC robust): 8.00; Max(GNN robust): 0.00; \n",
      "2022-09-06 17:09:38 (INFO): Degree 2: Max(BC robust): 14.00; Max(GNN robust): 1.00; \n",
      "2022-09-06 17:09:38 (INFO): Degree 3: Max(BC robust): 14.00; Max(GNN robust): 2.00; \n",
      "2022-09-06 17:09:38 (INFO): Degree 4: Max(BC robust): 16.00; Max(GNN robust): 3.00; \n",
      "2022-09-06 17:09:38 (INFO): Degree 5: Max(BC robust): 18.00; Max(GNN robust): 1.00; \n",
      "2022-09-06 17:09:38 (INFO): Degree 6: Max(BC robust): -1.00; Max(GNN robust): -1.00; \n",
      "2022-09-06 17:09:38 (INFO): Degree 7: Max(BC robust): 12.00; Max(GNN robust): 2.00; \n",
      "2022-09-06 17:09:38 (INFO): Degree 0: Median(BC robust): -1.00; Median(GNN robust): -1.00; \n",
      "2022-09-06 17:09:38 (INFO): Degree 1: Median(BC robust): 8.00; Median(GNN robust): 0.00; \n",
      "2022-09-06 17:09:38 (INFO): Degree 2: Median(BC robust): 14.00; Median(GNN robust): 1.00; \n",
      "2022-09-06 17:09:38 (INFO): Degree 3: Median(BC robust): 12.00; Median(GNN robust): 2.00; \n",
      "2022-09-06 17:09:38 (INFO): Degree 4: Median(BC robust): 12.50; Median(GNN robust): 1.50; \n",
      "2022-09-06 17:09:38 (INFO): Degree 5: Median(BC robust): 18.00; Median(GNN robust): 1.00; \n",
      "2022-09-06 17:09:38 (INFO): Degree 6: Median(BC robust): -1.00; Median(GNN robust): -1.00; \n",
      "2022-09-06 17:09:38 (INFO): Degree 7: Median(BC robust): 12.00; Median(GNN robust): 2.00; \n",
      "2022-09-06 17:09:38 (INFO): Degree 0: <GNN wrt BC robust>: -1.00/-1.00. <GNN in wrt BC setting>: -1.00\n",
      "2022-09-06 17:09:38 (INFO): Degree 1: <GNN wrt BC robust>: 0.00/8.00. <GNN in wrt BC setting>: 0.00\n",
      "2022-09-06 17:09:38 (INFO): Degree 2: <GNN wrt BC robust>: 1.00/14.00. <GNN in wrt BC setting>: 1.00\n",
      "2022-09-06 17:09:38 (INFO): Degree 3: <GNN wrt BC robust>: 2.00/12.00. <GNN in wrt BC setting>: 2.00\n",
      "2022-09-06 17:09:38 (INFO): Degree 4: <GNN wrt BC robust>: 1.50/12.25. <GNN in wrt BC setting>: 1.50\n",
      "2022-09-06 17:09:38 (INFO): Degree 5: <GNN wrt BC robust>: 1.00/18.00. <GNN in wrt BC setting>: 1.00\n",
      "2022-09-06 17:09:38 (INFO): Degree 6: <GNN wrt BC robust>: -1.00/-1.00. <GNN in wrt BC setting>: -1.00\n",
      "2022-09-06 17:09:38 (INFO): Degree 7: <GNN wrt BC robust>: 2.00/12.00. <GNN in wrt BC setting>: 2.00\n"
     ]
    },
    {
     "name": "stdout",
     "output_type": "stream",
     "text": [
      "Loss after attack: -15.0479\n",
      "Edge Added: (1000, 290); Classes: (0, 1), Feature Distance: 10.529\n",
      "Bayes_sep: 1; GNN_sep: 0\n",
      "Loss before attack: -15.8574\n",
      "Loss after attack: -16.1991\n",
      "Edge Added: (1000, 550); Classes: (0, 1), Feature Distance: 7.680\n",
      "Bayes_sep: 1; GNN_sep: 0\n",
      "Loss before attack: -16.1991\n",
      "Loss after attack: -16.4437\n",
      "Edge Added: (1000, 938); Classes: (0, 1), Feature Distance: 9.143\n"
     ]
    }
   ],
   "source": [
    "importlib.reload(exp_eval_robustness)\n",
    "importlib.reload(exp_train)\n",
    "#result = exp_train.run(data_params, model_params, train_params, verbosity_params, other_params, seed, None)\n",
    "result = exp_eval_robustness.run(data_params, model_params, train_params, attack_params, verbosity_params, other_params, seed, None)"
   ]
  },
  {
   "cell_type": "code",
   "execution_count": 12,
   "metadata": {},
   "outputs": [
    {
     "name": "stderr",
     "output_type": "stream",
     "text": [
      "2022-09-06 14:57:49 (INFO): \n",
      "Epoch    0: loss_train: 0.70049, loss_val: 0.69125, acc_train: 0.51250, acc_val: 0.54000\n",
      "2022-09-06 14:57:49 (INFO): \n",
      "Epoch  100: loss_train: 0.66957, loss_val: 0.70510, acc_train: 0.59875, acc_val: 0.55000\n",
      "2022-09-06 14:57:50 (INFO): \n",
      "Epoch  200: loss_train: 0.69992, loss_val: 0.69783, acc_train: 0.57000, acc_val: 0.59000\n",
      "2022-09-06 14:57:50 (INFO): \n",
      "Epoch  300: loss_train: 0.67012, loss_val: 0.70146, acc_train: 0.59500, acc_val: 0.53000\n",
      "2022-09-06 14:57:51 (INFO): \n",
      "Epoch  400: loss_train: 0.67534, loss_val: 0.70552, acc_train: 0.57750, acc_val: 0.53000\n",
      "2022-09-06 14:57:51 (INFO): \n",
      "Epoch  500: loss_train: 0.69036, loss_val: 0.70550, acc_train: 0.58875, acc_val: 0.53500\n",
      "2022-09-06 14:57:51 (INFO): \n",
      "Epoch  600: loss_train: 0.67120, loss_val: 0.70989, acc_train: 0.60250, acc_val: 0.53000\n",
      "2022-09-06 14:57:52 (INFO): \n",
      "Epoch  700: loss_train: 0.68360, loss_val: 0.70071, acc_train: 0.56875, acc_val: 0.53500\n",
      "2022-09-06 14:57:52 (INFO): \n",
      "Epoch  430: loss_train: 0.67145, loss_val: 0.68283, acc_train: 0.59750, acc_val: 0.58500\n"
     ]
    }
   ],
   "source": [
    "from src.data import split\n",
    "from src.models import create_model\n",
    "from src.train import train_inductive, train_transductive\n",
    "\n",
    "model_params = dict(\n",
    "    label=\"GCN\",\n",
    "    model=\"LinearGCN\",\n",
    "    n_filter=64,\n",
    "    dropout=0.5,\n",
    "    use_label_propagation=False,\n",
    ")\n",
    "train_params = dict(\n",
    "    lr=0.1,\n",
    "    weight_decay=1e-3,\n",
    "    patience=300,\n",
    "    max_epochs=3000,\n",
    "    inductive=True,\n",
    ")\n",
    "_run = None\n",
    "device = torch.device(f\"cuda:{0}\")\n",
    "\n",
    "# Sample Graph\n",
    "graph_model = create_graph_model(data_params)\n",
    "X_np, A_np, y_np = graph_model.sample(data_params[\"n\"], seed)\n",
    "X = torch.tensor(X_np, dtype=torch.float32, device=device)\n",
    "A = torch.tensor(A_np, dtype=torch.float32, device=device)\n",
    "y = torch.tensor(y_np, device=device)\n",
    "split_trn, split_val = split(y_np, data_params)\n",
    "\n",
    "# Create Model\n",
    "model_params_trn = dict(**model_params, \n",
    "                        n_features=X_np.shape[1], \n",
    "                        n_classes=data_params[\"classes\"])\n",
    "model = create_model(model_params_trn).to(device)\n",
    "#logging.info(model)\n",
    "\n",
    "# Train Model\n",
    "if train_params[\"inductive\"]:\n",
    "    train = train_inductive\n",
    "else:\n",
    "    train = train_transductive\n",
    "trn_tracker = train(model, None, X, A, y, split_trn, split_val, train_params,\n",
    "                    verbosity_params, _run)"
   ]
  },
  {
   "cell_type": "code",
   "execution_count": 16,
   "metadata": {},
   "outputs": [
    {
     "data": {
      "text/plain": [
       "src.models.gcn.DenseGCN"
      ]
     },
     "execution_count": 16,
     "metadata": {},
     "output_type": "execute_result"
    }
   ],
   "source": [
    "type(model)"
   ]
  },
  {
   "cell_type": "code",
   "execution_count": 18,
   "metadata": {},
   "outputs": [
    {
     "data": {
      "text/plain": [
       "True"
      ]
     },
     "execution_count": 18,
     "metadata": {},
     "output_type": "execute_result"
    }
   ],
   "source": [
    "from src.models.gcn import DenseGCN\n",
    "isinstance(model, DenseGCN)"
   ]
  },
  {
   "cell_type": "code",
   "execution_count": 22,
   "metadata": {},
   "outputs": [
    {
     "data": {
      "text/plain": [
       "True"
      ]
     },
     "execution_count": 22,
     "metadata": {},
     "output_type": "execute_result"
    }
   ],
   "source": [
    "isinstance(model.activation, torch.nn.Identity)"
   ]
  },
  {
   "cell_type": "code",
   "execution_count": 25,
   "metadata": {},
   "outputs": [
    {
     "data": {
      "text/plain": [
       "Parameter containing:\n",
       "tensor([[-0.2845, -0.1751,  0.0541,  ...,  0.3195,  0.0939,  0.0529],\n",
       "        [-0.0133, -0.1708,  0.0041,  ..., -0.0677, -0.3852, -0.0863],\n",
       "        [ 0.0237, -0.1400,  0.0761,  ..., -0.0926, -0.1117, -0.0352],\n",
       "        ...,\n",
       "        [-0.1547, -0.6180,  0.0105,  ..., -0.4443, -0.1026, -0.1262],\n",
       "        [-0.0155,  0.1586,  0.4082,  ...,  0.2353, -0.1754, -0.0009],\n",
       "        [-0.1066, -0.2037, -0.0348,  ..., -0.1079, -0.1091, -0.2001]],\n",
       "       device='cuda:0', requires_grad=True)"
      ]
     },
     "execution_count": 25,
     "metadata": {},
     "output_type": "execute_result"
    }
   ],
   "source": [
    "model.layers[0][0]._linear.weight"
   ]
  },
  {
   "cell_type": "code",
   "execution_count": 26,
   "metadata": {},
   "outputs": [],
   "source": [
    "model_params = dict(\n",
    "    label=\"SGC\",\n",
    "    model=\"SGC\",\n",
    "    K=2,\n",
    "    use_label_propagation=False,\n",
    ")\n",
    "model_params_trn = dict(**model_params, \n",
    "                        n_features=X_np.shape[1], \n",
    "                        n_classes=data_params[\"classes\"])\n",
    "sgc = create_model(model_params_trn).to(device)"
   ]
  },
  {
   "cell_type": "code",
   "execution_count": 45,
   "metadata": {},
   "outputs": [
    {
     "data": {
      "text/plain": [
       "DenseGraphConvolution(\n",
       "  (_linear): Linear(in_features=21, out_features=64, bias=False)\n",
       ")"
      ]
     },
     "execution_count": 45,
     "metadata": {},
     "output_type": "execute_result"
    }
   ],
   "source": [
    "model.layers[0][0]"
   ]
  },
  {
   "cell_type": "code",
   "execution_count": 39,
   "metadata": {},
   "outputs": [
    {
     "data": {
      "text/plain": [
       "<bound method Module.parameters of SGC(\n",
       "  (sgc): SGConv(21, 2, K=2)\n",
       ")>"
      ]
     },
     "execution_count": 39,
     "metadata": {},
     "output_type": "execute_result"
    }
   ],
   "source": [
    "sgc.parameters"
   ]
  },
  {
   "cell_type": "code",
   "execution_count": 15,
   "metadata": {},
   "outputs": [
    {
     "ename": "KeyError",
     "evalue": "'CUBLAS_WORKSPACE_CONFIG'",
     "output_type": "error",
     "traceback": [
      "\u001b[0;31m---------------------------------------------------------------------------\u001b[0m",
      "\u001b[0;31mKeyError\u001b[0m                                  Traceback (most recent call last)",
      "\u001b[0;32m/tmp/ipykernel_3778094/1329080253.py\u001b[0m in \u001b[0;36m<module>\u001b[0;34m\u001b[0m\n\u001b[1;32m      1\u001b[0m \u001b[0;32mimport\u001b[0m \u001b[0mos\u001b[0m\u001b[0;34m\u001b[0m\u001b[0;34m\u001b[0m\u001b[0m\n\u001b[0;32m----> 2\u001b[0;31m \u001b[0mos\u001b[0m\u001b[0;34m.\u001b[0m\u001b[0menviron\u001b[0m\u001b[0;34m[\u001b[0m\u001b[0;34m\"CUBLAS_WORKSPACE_CONFIG\"\u001b[0m\u001b[0;34m]\u001b[0m\u001b[0;34m\u001b[0m\u001b[0;34m\u001b[0m\u001b[0m\n\u001b[0m",
      "\u001b[0;32m~/miniconda3/envs/py397/lib/python3.9/os.py\u001b[0m in \u001b[0;36m__getitem__\u001b[0;34m(self, key)\u001b[0m\n\u001b[1;32m    677\u001b[0m         \u001b[0;32mexcept\u001b[0m \u001b[0mKeyError\u001b[0m\u001b[0;34m:\u001b[0m\u001b[0;34m\u001b[0m\u001b[0;34m\u001b[0m\u001b[0m\n\u001b[1;32m    678\u001b[0m             \u001b[0;31m# raise KeyError with the original key value\u001b[0m\u001b[0;34m\u001b[0m\u001b[0;34m\u001b[0m\u001b[0m\n\u001b[0;32m--> 679\u001b[0;31m             \u001b[0;32mraise\u001b[0m \u001b[0mKeyError\u001b[0m\u001b[0;34m(\u001b[0m\u001b[0mkey\u001b[0m\u001b[0;34m)\u001b[0m \u001b[0;32mfrom\u001b[0m \u001b[0;32mNone\u001b[0m\u001b[0;34m\u001b[0m\u001b[0;34m\u001b[0m\u001b[0m\n\u001b[0m\u001b[1;32m    680\u001b[0m         \u001b[0;32mreturn\u001b[0m \u001b[0mself\u001b[0m\u001b[0;34m.\u001b[0m\u001b[0mdecodevalue\u001b[0m\u001b[0;34m(\u001b[0m\u001b[0mvalue\u001b[0m\u001b[0;34m)\u001b[0m\u001b[0;34m\u001b[0m\u001b[0;34m\u001b[0m\u001b[0m\n\u001b[1;32m    681\u001b[0m \u001b[0;34m\u001b[0m\u001b[0m\n",
      "\u001b[0;31mKeyError\u001b[0m: 'CUBLAS_WORKSPACE_CONFIG'"
     ]
    }
   ],
   "source": [
    "import os\n",
    "os.environ[\"CUBLAS_WORKSPACE_CONFIG\"]"
   ]
  },
  {
   "cell_type": "code",
   "execution_count": 9,
   "metadata": {},
   "outputs": [
    {
     "name": "stderr",
     "output_type": "stream",
     "text": [
      "2022-08-10 14:11:26 (INFO): Starting experiment exp_eval_robustness with configuration:\n",
      "2022-08-10 14:11:26 (INFO): data_params: {'graph_model': 'CSBM', 'classes': 2, 'n': 1000, 'n_per_class_trn': 400, 'K': 0.5, 'sigma': 1, 'avg_within_class_degree': 3.0, 'avg_between_class_degree': 1.0, 'inductive_samples': 1000}\n",
      "2022-08-10 14:11:26 (INFO): model_params: {'label': 'GCN', 'model': 'DenseGCN', 'n_filters': 64}\n",
      "2022-08-10 14:11:26 (INFO): train_params: {'lr': 0.01, 'weight_decay': 0.001, 'patience': 300, 'max_epochs': 3000, 'inductive': True}\n",
      "2022-08-10 14:11:26 (INFO): attack_params: {'attack': 'l2'}\n",
      "2022-08-10 14:11:26 (INFO): verbosity_params: {'display_steps': 100, 'debug_lvl': 'info'}\n",
      "2022-08-10 14:11:26 (INFO): other_params: {'device': 0, 'allow_tf32': False, 'sacred_metrics': True}\n",
      "2022-08-10 14:11:26 (INFO): seed: 1\n",
      "2022-08-10 14:11:26 (INFO): db_collection: None\n",
      "2022-08-10 14:11:26 (INFO): Currently on gpu device cuda:0\n",
      "2022-08-10 14:11:27 (INFO): \n",
      "Epoch    0: loss_train: 0.70102, loss_val: 0.69805, acc_train: 0.47250, acc_val: 0.49500\n",
      "2022-08-10 14:11:27 (INFO): \n",
      "Epoch  100: loss_train: 0.41914, loss_val: 0.58875, acc_train: 0.80500, acc_val: 0.68500\n",
      "2022-08-10 14:11:27 (INFO): \n",
      "Epoch  200: loss_train: 0.41618, loss_val: 0.60138, acc_train: 0.80000, acc_val: 0.70000\n",
      "2022-08-10 14:11:28 (INFO): \n",
      "Epoch  300: loss_train: 0.40287, loss_val: 0.60636, acc_train: 0.81750, acc_val: 0.68500\n",
      "2022-08-10 14:11:28 (INFO): \n",
      "Epoch   66: loss_train: 0.47474, loss_val: 0.58023, acc_train: 0.77750, acc_val: 0.68500\n",
      "2022-08-10 14:11:50 (INFO): Prediction Statistics:\n",
      "2022-08-10 14:11:50 (INFO): Count BC: 861.0 GNN: 694.0\n",
      "2022-08-10 14:11:50 (INFO): Count Structure BC: 855.0 Feature BC: 590.0\n",
      "2022-08-10 14:11:50 (INFO): Count BC and GNN: 640.0\n",
      "2022-08-10 14:11:50 (INFO): Count BC not GNN: 221.0 GNN not BC: 54.0\n",
      "2022-08-10 14:11:50 (INFO): Robustness Statistics:\n",
      "2022-08-10 14:11:50 (INFO): BC more robust than GNN: 175.0\n",
      "2022-08-10 14:11:50 (INFO): BC & GNN equal robustness: 101.0\n",
      "2022-08-10 14:11:50 (INFO): BC less robust than GNN: 364.0\n",
      "2022-08-10 14:11:50 (INFO): Degree 0: <BC robust>: 0.12; <GNN robust>: 1.17; \n",
      "2022-08-10 14:11:50 (INFO): Degree 1: <BC robust>: 0.65; <GNN robust>: 2.40; \n",
      "2022-08-10 14:11:50 (INFO): Degree 2: <BC robust>: 1.17; <GNN robust>: 3.83; \n",
      "2022-08-10 14:11:50 (INFO): Degree 3: <BC robust>: 1.54; <GNN robust>: 2.71; \n",
      "2022-08-10 14:11:50 (INFO): Degree 4: <BC robust>: 2.01; <GNN robust>: 4.02; \n",
      "2022-08-10 14:11:50 (INFO): Degree 5: <BC robust>: 2.73; <GNN robust>: 5.47; \n",
      "2022-08-10 14:11:50 (INFO): Degree 6: <BC robust>: 2.79; <GNN robust>: 5.42; \n",
      "2022-08-10 14:11:50 (INFO): Degree 7: <BC robust>: 3.24; <GNN robust>: 6.22; \n",
      "2022-08-10 14:11:50 (INFO): Degree 8: <BC robust>: 3.94; <GNN robust>: 6.43; \n",
      "2022-08-10 14:11:50 (INFO): Degree 9: <BC robust>: 3.45; <GNN robust>: 3.22; \n",
      "2022-08-10 14:11:50 (INFO): Degree 10: <BC robust>: 7.80; <GNN robust>: 12.00; \n",
      "2022-08-10 14:11:50 (INFO): Degree 0: Max(BC robust): 1.00; Max(GNN robust): 6.00; \n",
      "2022-08-10 14:11:50 (INFO): Degree 1: Max(BC robust): 2.00; Max(GNN robust): 20.00; \n",
      "2022-08-10 14:11:50 (INFO): Degree 2: Max(BC robust): 3.00; Max(GNN robust): 21.00; \n",
      "2022-08-10 14:11:50 (INFO): Degree 3: Max(BC robust): 4.00; Max(GNN robust): 17.00; \n",
      "2022-08-10 14:11:50 (INFO): Degree 4: Max(BC robust): 5.00; Max(GNN robust): 16.00; \n",
      "2022-08-10 14:11:50 (INFO): Degree 5: Max(BC robust): 6.00; Max(GNN robust): 27.00; \n",
      "2022-08-10 14:11:50 (INFO): Degree 6: Max(BC robust): 6.00; Max(GNN robust): 35.00; \n",
      "2022-08-10 14:11:50 (INFO): Degree 7: Max(BC robust): 7.00; Max(GNN robust): 33.00; \n",
      "2022-08-10 14:11:50 (INFO): Degree 8: Max(BC robust): 8.00; Max(GNN robust): 21.00; \n",
      "2022-08-10 14:11:50 (INFO): Degree 9: Max(BC robust): 7.00; Max(GNN robust): 8.00; \n",
      "2022-08-10 14:11:50 (INFO): Degree 10: Max(BC robust): 10.00; Max(GNN robust): 27.00; \n",
      "2022-08-10 14:11:50 (INFO): Degree 0: Median(BC robust): 0.00; Median(GNN robust): 0.00; \n",
      "2022-08-10 14:11:50 (INFO): Degree 1: Median(BC robust): 1.00; Median(GNN robust): 1.00; \n",
      "2022-08-10 14:11:50 (INFO): Degree 2: Median(BC robust): 1.00; Median(GNN robust): 2.00; \n",
      "2022-08-10 14:11:50 (INFO): Degree 3: Median(BC robust): 1.00; Median(GNN robust): 2.00; \n",
      "2022-08-10 14:11:50 (INFO): Degree 4: Median(BC robust): 2.00; Median(GNN robust): 3.00; \n",
      "2022-08-10 14:11:50 (INFO): Degree 5: Median(BC robust): 3.00; Median(GNN robust): 4.00; \n",
      "2022-08-10 14:11:50 (INFO): Degree 6: Median(BC robust): 3.00; Median(GNN robust): 4.00; \n",
      "2022-08-10 14:11:50 (INFO): Degree 7: Median(BC robust): 3.00; Median(GNN robust): 4.00; \n",
      "2022-08-10 14:11:50 (INFO): Degree 8: Median(BC robust): 4.00; Median(GNN robust): 5.00; \n",
      "2022-08-10 14:11:50 (INFO): Degree 9: Median(BC robust): 3.00; Median(GNN robust): 3.00; \n",
      "2022-08-10 14:11:50 (INFO): Degree 10: Median(BC robust): 8.00; Median(GNN robust): 12.00; \n",
      "2022-08-10 14:11:50 (INFO): Degree 0: <GNN wrt BC robust>: 0.17/0.17. <GNN in wrt BC setting>: 1.17\n",
      "2022-08-10 14:11:50 (INFO): Degree 1: <GNN wrt BC robust>: 0.54/0.74. <GNN in wrt BC setting>: 2.64\n",
      "2022-08-10 14:11:50 (INFO): Degree 2: <GNN wrt BC robust>: 0.99/1.25. <GNN in wrt BC setting>: 4.11\n",
      "2022-08-10 14:11:50 (INFO): Degree 3: <GNN wrt BC robust>: 1.12/1.71. <GNN in wrt BC setting>: 2.81\n",
      "2022-08-10 14:11:50 (INFO): Degree 4: <GNN wrt BC robust>: 1.65/2.08. <GNN in wrt BC setting>: 4.12\n",
      "2022-08-10 14:11:50 (INFO): Degree 5: <GNN wrt BC robust>: 2.28/2.98. <GNN in wrt BC setting>: 5.54\n",
      "2022-08-10 14:11:50 (INFO): Degree 6: <GNN wrt BC robust>: 2.46/2.93. <GNN in wrt BC setting>: 5.66\n",
      "2022-08-10 14:11:50 (INFO): Degree 7: <GNN wrt BC robust>: 2.73/3.70. <GNN in wrt BC setting>: 6.27\n",
      "2022-08-10 14:11:50 (INFO): Degree 8: <GNN wrt BC robust>: 3.41/4.19. <GNN in wrt BC setting>: 6.67\n",
      "2022-08-10 14:11:50 (INFO): Degree 9: <GNN wrt BC robust>: 2.11/3.44. <GNN in wrt BC setting>: 3.22\n",
      "2022-08-10 14:11:50 (INFO): Degree 10: <GNN wrt BC robust>: 6.00/7.80. <GNN in wrt BC setting>: 12.00\n"
     ]
    }
   ],
   "source": [
    "data_params[\"sigma\"] = 1\n",
    "seed = 1\n",
    "\n",
    "result = exp_eval_robustness.run(data_params, model_params, train_params, attack_params, verbosity_params, other_params, seed, None)"
   ]
  },
  {
   "cell_type": "code",
   "execution_count": 21,
   "metadata": {},
   "outputs": [],
   "source": [
    "from src.data import calc_balanced_sample"
   ]
  },
  {
   "cell_type": "code",
   "execution_count": 22,
   "metadata": {},
   "outputs": [
    {
     "name": "stdout",
     "output_type": "stream",
     "text": [
      "[10 25 25]\n"
     ]
    }
   ],
   "source": [
    "class_counts = [10, 100, 100]\n",
    "n_samples = 60\n",
    "print(calc_balanced_sample(class_counts, n_samples))"
   ]
  },
  {
   "cell_type": "code",
   "execution_count": 35,
   "metadata": {},
   "outputs": [],
   "source": [
    "from src.utils import accuracy"
   ]
  },
  {
   "cell_type": "code",
   "execution_count": 7,
   "metadata": {},
   "outputs": [
    {
     "data": {
      "text/plain": [
       "tensor(1)"
      ]
     },
     "execution_count": 7,
     "metadata": {},
     "output_type": "execute_result"
    }
   ],
   "source": [
    "logits = torch.Tensor([[0.8, 0.2], [0.1, 0.9]])\n",
    "labels = torch.Tensor([0, 1])\n",
    "logits.argmax(1)[1]"
   ]
  },
  {
   "cell_type": "code",
   "execution_count": null,
   "metadata": {},
   "outputs": [],
   "source": []
  }
 ],
 "metadata": {
  "kernelspec": {
   "display_name": "Python 3.9.7 ('py397')",
   "language": "python",
   "name": "python3"
  },
  "language_info": {
   "codemirror_mode": {
    "name": "ipython",
    "version": 3
   },
   "file_extension": ".py",
   "mimetype": "text/x-python",
   "name": "python",
   "nbconvert_exporter": "python",
   "pygments_lexer": "ipython3",
   "version": "3.9.7"
  },
  "orig_nbformat": 4,
  "vscode": {
   "interpreter": {
    "hash": "c4e45668083cbb37b7048c0587d1e2fbbeab0bbf8f83b3643c89a090a0af4084"
   }
  }
 },
 "nbformat": 4,
 "nbformat_minor": 2
}
