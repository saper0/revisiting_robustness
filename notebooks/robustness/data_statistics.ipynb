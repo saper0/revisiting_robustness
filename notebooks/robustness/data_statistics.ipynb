{
 "cells": [
  {
   "cell_type": "code",
   "execution_count": 1,
   "metadata": {},
   "outputs": [],
   "source": [
    "# Reload modules automatically\n",
    "# https://ipython.readthedocs.io/en/stable/config/extensions/autoreload.html\n",
    "%load_ext autoreload\n",
    "%autoreload 2\n",
    "%matplotlib widget"
   ]
  },
  {
   "cell_type": "code",
   "execution_count": 2,
   "metadata": {},
   "outputs": [],
   "source": [
    "from utils import ExperimentManager\n",
    "\n",
    "import matplotlib.pyplot as plt\n",
    "import numpy as np\n",
    "\n",
    "gcn_exp = dict(\n",
    "    label = \"GCN\",\n",
    "    collection = \"rob_csbm_gcn\",\n",
    "    start_id = 1,\n",
    "    end_id = 320,\n",
    "    n_seeds = 10,\n",
    ")\n",
    "#This notebook is used to analyse the over- and under-robustness of models. \n",
    "Ks = [0.1, 0.5, 1.0, 1.5, 2.0, 3.0, 4.0, 5.0]\n",
    "\n",
    "experiments = [gcn_exp]\n",
    "experiment_manager = ExperimentManager(experiments)"
   ]
  },
  {
   "cell_type": "code",
   "execution_count": 10,
   "metadata": {},
   "outputs": [
    {
     "data": {
      "text/html": [
       "<div>\n",
       "<style scoped>\n",
       "    .dataframe tbody tr th:only-of-type {\n",
       "        vertical-align: middle;\n",
       "    }\n",
       "\n",
       "    .dataframe tbody tr th {\n",
       "        vertical-align: top;\n",
       "    }\n",
       "\n",
       "    .dataframe thead th {\n",
       "        text-align: right;\n",
       "    }\n",
       "</style>\n",
       "<table border=\"1\" class=\"dataframe\">\n",
       "  <thead>\n",
       "    <tr style=\"text-align: right;\">\n",
       "      <th></th>\n",
       "      <th>0.1</th>\n",
       "      <th>0.5</th>\n",
       "      <th>1.0</th>\n",
       "      <th>1.5</th>\n",
       "      <th>2.0</th>\n",
       "      <th>5.0</th>\n",
       "      <th>3.0</th>\n",
       "      <th>4.0</th>\n",
       "    </tr>\n",
       "  </thead>\n",
       "  <tbody>\n",
       "    <tr>\n",
       "      <th>c_acc_bayes_feature</th>\n",
       "      <td>50.8+-1.5</td>\n",
       "      <td>59.0+-1.5</td>\n",
       "      <td>68.4+-1.7</td>\n",
       "      <td>76.5+-1.8</td>\n",
       "      <td>83.4+-1.6</td>\n",
       "      <td>99.3+-0.3</td>\n",
       "      <td>92.6+-1.1</td>\n",
       "      <td>97.5+-0.6</td>\n",
       "    </tr>\n",
       "    <tr>\n",
       "      <th>c_acc_bayes_structure</th>\n",
       "      <td>89.8+-0.8</td>\n",
       "      <td>89.8+-0.8</td>\n",
       "      <td>89.8+-0.8</td>\n",
       "      <td>89.8+-0.8</td>\n",
       "      <td>89.8+-0.8</td>\n",
       "      <td>89.8+-0.8</td>\n",
       "      <td>89.8+-0.8</td>\n",
       "      <td>89.8+-0.8</td>\n",
       "    </tr>\n",
       "    <tr>\n",
       "      <th>c_acc_bayes</th>\n",
       "      <td>89.7+-0.6</td>\n",
       "      <td>90.3+-0.6</td>\n",
       "      <td>91.7+-0.3</td>\n",
       "      <td>93.1+-0.4</td>\n",
       "      <td>94.7+-0.5</td>\n",
       "      <td>99.8+-0.2</td>\n",
       "      <td>97.4+-0.6</td>\n",
       "      <td>99.0+-0.4</td>\n",
       "    </tr>\n",
       "  </tbody>\n",
       "</table>\n",
       "</div>"
      ],
      "text/plain": [
       "                             0.1        0.5        1.0        1.5        2.0  \\\n",
       "c_acc_bayes_feature    50.8+-1.5  59.0+-1.5  68.4+-1.7  76.5+-1.8  83.4+-1.6   \n",
       "c_acc_bayes_structure  89.8+-0.8  89.8+-0.8  89.8+-0.8  89.8+-0.8  89.8+-0.8   \n",
       "c_acc_bayes            89.7+-0.6  90.3+-0.6  91.7+-0.3  93.1+-0.4  94.7+-0.5   \n",
       "\n",
       "                             5.0        3.0        4.0  \n",
       "c_acc_bayes_feature    99.3+-0.3  92.6+-1.1  97.5+-0.6  \n",
       "c_acc_bayes_structure  89.8+-0.8  89.8+-0.8  89.8+-0.8  \n",
       "c_acc_bayes            99.8+-0.2  97.4+-0.6  99.0+-0.4  "
      ]
     },
     "execution_count": 10,
     "metadata": {},
     "output_type": "execute_result"
    }
   ],
   "source": [
    "experiment_manager.get_bc_performance(\"bayes_feature_separability\", \"l2-weak\", \n",
    "                                      \"GCN\", K_l = Ks) "
   ]
  },
  {
   "cell_type": "code",
   "execution_count": 13,
   "metadata": {},
   "outputs": [
    {
     "data": {
      "text/plain": [
       "21"
      ]
     },
     "execution_count": 13,
     "metadata": {},
     "output_type": "execute_result"
    }
   ],
   "source": [
    "import math\n",
    "n=1000\n",
    "round(n / math.log(n)**2)\n",
    "round(n / (math.log(n)**2))"
   ]
  },
  {
   "cell_type": "code",
   "execution_count": 29,
   "metadata": {},
   "outputs": [],
   "source": [
    "avg_within_class_degree = 1.58 * 2\n",
    "avg_between_class_degree = 0.37 * 2\n",
    "p = avg_within_class_degree * 2 / (n - 1)  * 100\n",
    "q = avg_between_class_degree * 2 / (n - 1) * 100"
   ]
  },
  {
   "cell_type": "code",
   "execution_count": 30,
   "metadata": {},
   "outputs": [
    {
     "data": {
      "text/plain": [
       "0.6326326326326326"
      ]
     },
     "execution_count": 30,
     "metadata": {},
     "output_type": "execute_result"
    }
   ],
   "source": [
    "p"
   ]
  },
  {
   "cell_type": "code",
   "execution_count": 31,
   "metadata": {},
   "outputs": [
    {
     "data": {
      "text/plain": [
       "0.14814814814814814"
      ]
     },
     "execution_count": 31,
     "metadata": {},
     "output_type": "execute_result"
    }
   ],
   "source": [
    "q"
   ]
  },
  {
   "cell_type": "code",
   "execution_count": null,
   "metadata": {},
   "outputs": [],
   "source": []
  }
 ],
 "metadata": {
  "kernelspec": {
   "display_name": "Python 3.9.7 ('py397')",
   "language": "python",
   "name": "python3"
  },
  "language_info": {
   "codemirror_mode": {
    "name": "ipython",
    "version": 3
   },
   "file_extension": ".py",
   "mimetype": "text/x-python",
   "name": "python",
   "nbconvert_exporter": "python",
   "pygments_lexer": "ipython3",
   "version": "3.9.7"
  },
  "orig_nbformat": 4,
  "vscode": {
   "interpreter": {
    "hash": "c4e45668083cbb37b7048c0587d1e2fbbeab0bbf8f83b3643c89a090a0af4084"
   }
  }
 },
 "nbformat": 4,
 "nbformat_minor": 2
}
