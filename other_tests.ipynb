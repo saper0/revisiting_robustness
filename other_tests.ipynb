{
 "cells": [
  {
   "cell_type": "code",
   "execution_count": 3,
   "metadata": {},
   "outputs": [],
   "source": [
    "# Reload modules automatically\n",
    "# https://ipython.readthedocs.io/en/stable/config/extensions/autoreload.html\n",
    "%load_ext autoreload\n",
    "%autoreload 2"
   ]
  },
  {
   "cell_type": "code",
   "execution_count": 4,
   "metadata": {},
   "outputs": [],
   "source": [
    "import scipy\n",
    "import numpy as np\n",
    "import torch\n",
    "from torch.nn import Linear\n",
    "import torch.nn.functional as F\n",
    "from torch_scatter import scatter_add\n",
    "from torch_geometric.datasets import Planetoid\n",
    "from torch_geometric.nn import MessagePassing\n",
    "from torch_geometric.utils import add_self_loops\n",
    "from src.graph_models.cba import CBA\n",
    "from src.graph_models import create_graph_model\n",
    "from collections import Counter\n",
    "import matplotlib.pyplot as plt\n"
   ]
  },
  {
   "cell_type": "code",
   "execution_count": 5,
   "metadata": {},
   "outputs": [],
   "source": [
    "def histplot_degree_distr(A, title=\"CORA\", max_plot_deg=None):\n",
    "    deg = np.sum(A, axis=1)\n",
    "    max_deg = np.max(deg)\n",
    "    print(f\"Average Degree: {np.sum(deg) / deg.shape[0]:.2f}\")\n",
    "    print(f\"Maximum Degree: {max_deg}\")\n",
    "    c = Counter(deg)\n",
    "    ordered_c = [c[i] if i in c else 0 for i in range(max_deg+1)]\n",
    "    fig, axs = plt.subplots(1, 1)\n",
    "    #print(ordered_c)\n",
    "    bins = [i for i in range(len(ordered_c)+1)] \n",
    "    #axs.hist(bins[:-1], bins, weights=ordered_c, color=\"blue\", rwidth=0.7, alpha=0.5)\n",
    "    axs.bar(bins[:-1], ordered_c, alpha=0.8)\n",
    "    #counts, bins = np.histogram(deg)\n",
    "    #axs.stairs(bins, counts)\n",
    "    if max_plot_deg is not None:\n",
    "        axs.set_xlim(left=0, right=max_plot_deg)\n",
    "    axs.set_ylabel(\"Number of Nodes\")\n",
    "    axs.set_xlabel(\"Node Degree\")\n",
    "    axs.set_title(title)\n",
    "    plt.show()"
   ]
  },
  {
   "cell_type": "code",
   "execution_count": 29,
   "metadata": {},
   "outputs": [
    {
     "name": "stdout",
     "output_type": "stream",
     "text": [
      "Average Degree: 3.97\n",
      "Maximum Degree: 60\n"
     ]
    },
    {
     "data": {
      "image/png": "[encoded data removed]",
      "text/plain": [
       "<Figure size 432x288 with 1 Axes>"
      ]
     },
     "metadata": {
      "needs_background": "light"
     },
     "output_type": "display_data"
    }
   ],
   "source": [
    "data_params = dict(\n",
    "    graph_model = 'CBA',\n",
    "    classes = 2,\n",
    "    n = 1000,\n",
    "    n_per_class_trn = 400,\n",
    "    K = 2,\n",
    "    sigma = 1,\n",
    "    m=2,\n",
    "    avg_within_class_degree = 1.58 * 2,\n",
    "    avg_between_class_degree = 0.37 * 2,\n",
    "    inductive_samples = 1000\n",
    ")\n",
    "graph_model = create_graph_model(data_params)\n",
    "X_np, A_np, y_np = graph_model.sample(data_params[\"n\"], 0)\n",
    "histplot_degree_distr(A_np, max_plot_deg=15, title=\"CSBM (CORA-Fit)\")"
   ]
  },
  {
   "cell_type": "code",
   "execution_count": 38,
   "metadata": {},
   "outputs": [
    {
     "name": "stdout",
     "output_type": "stream",
     "text": [
      "824 176\n",
      "806 194\n"
     ]
    }
   ],
   "source": [
    "n_id = 1000\n",
    "f_sep_y = 0\n",
    "f_sep_n = 0\n",
    "s_sep_y = 0\n",
    "s_sep_n = 0\n",
    "for i in range(1000):\n",
    "    X, A, y = graph_model.sample_conditional(1, X_np, A_np, y_np)\n",
    "    yes, no = graph_model.feature_separability(X, y, [n_id])\n",
    "    f_sep_y += yes\n",
    "    f_sep_n += no\n",
    "    yes, no = graph_model.structure_separability(A, y, [n_id])\n",
    "    s_sep_y += yes\n",
    "    s_sep_n += no\n",
    "print(f_sep_y, f_sep_n)\n",
    "print(s_sep_y, s_sep_n)\n",
    "    #graph_model.likelihood_separability(X, A, y, [n_id]))"
   ]
  },
  {
   "cell_type": "code",
   "execution_count": 24,
   "metadata": {},
   "outputs": [
    {
     "data": {
      "text/plain": [
       "-61.6149837502614"
      ]
     },
     "execution_count": 24,
     "metadata": {},
     "output_type": "execute_result"
    }
   ],
   "source": [
    "data_params = dict(\n",
    "    graph_model = 'CSBM',\n",
    "    classes = 2,\n",
    "    n = 1000,\n",
    "    n_per_class_trn = 400,\n",
    "    K = 2,\n",
    "    sigma = 1,\n",
    "    m=2,\n",
    "    avg_within_class_degree = 1.58 * 2,\n",
    "    avg_between_class_degree = 0.37 * 2,\n",
    "    inductive_samples = 1000\n",
    ")\n",
    "graph_model = create_graph_model(data_params)\n",
    "X_np, A_np, y_np = graph_model.sample(data_params[\"n\"], 0)"
   ]
  },
  {
   "cell_type": "code",
   "execution_count": 28,
   "metadata": {},
   "outputs": [
    {
     "data": {
      "text/plain": [
       "-54.06809646193423"
      ]
     },
     "execution_count": 28,
     "metadata": {},
     "output_type": "execute_result"
    }
   ],
   "source": [
    "n_id = 1000\n",
    "X, A, y = graph_model.sample_conditional(1, X_np, A_np, y_np)\n",
    "graph_model.loglikelihood(n_id, y[n_id], X, A, y)"
   ]
  },
  {
   "cell_type": "code",
   "execution_count": 16,
   "metadata": {},
   "outputs": [
    {
     "name": "stdout",
     "output_type": "stream",
     "text": [
      "Number of edges: 1983\n",
      "Average #edges per node: 3.966\n",
      "Average intra-connections per node: 3.166\n",
      "Average inter-connections per node: 0.8\n"
     ]
    }
   ],
   "source": [
    "n = 1000\n",
    "n_intra_edges = 0\n",
    "n_inter_edges = 0\n",
    "for i in range(n):\n",
    "    for j in range(i+1, n):\n",
    "        if y_np[i] == y_np[j]:\n",
    "            if A_np[i,j] == 1:\n",
    "                 n_intra_edges += 1\n",
    "        else:\n",
    "            if A_np[i,j] == 1:\n",
    "                 n_inter_edges += 1\n",
    "print(f\"Number of edges: {n_intra_edges + n_inter_edges}\")\n",
    "print(f\"Average #edges per node: {(n_intra_edges + n_inter_edges)*2/n}\")\n",
    "print(f\"Average intra-connections per node: {n_intra_edges *2/ n}\")\n",
    "print(f\"Average inter-connections per node: {n_inter_edges *2/ n}\")"
   ]
  },
  {
   "cell_type": "code",
   "execution_count": null,
   "metadata": {},
   "outputs": [],
   "source": [
    "data_params = dict(\n",
    "    graph_model = 'CSBM',\n",
    "    classes = 2,\n",
    "    n = 1000,\n",
    "    n_per_class_trn = 400,\n",
    "    K = 2,\n",
    "    sigma = 1,\n",
    "    avg_within_class_degree = 1.58 * 2,\n",
    "    avg_between_class_degree = 0.37 * 2,\n",
    "    inductive_samples = 1000\n",
    ")\n",
    "graph_model = create_graph_model(data_params)\n",
    "X_np, A_np, y_np = graph_model.sample(data_params[\"n\"], 0)\n",
    "X = torch.tensor(X_np, dtype=torch.float32, device=\"cuda:0\")\n",
    "A = torch.tensor(A_np, dtype=torch.float32, device=\"cuda:0\")\n",
    "y = torch.tensor(y_np, device=\"cuda:0\")\n",
    "adj = SparseTensor.from_dense(A)\n",
    "row, col, _ = adj.coo()\n",
    "print(row)\n",
    "print(col)\n",
    "print(torch.stack((row, col), dim=0))\n",
    "A.nonzero().t()"
   ]
  },
  {
   "cell_type": "code",
   "execution_count": 9,
   "metadata": {},
   "outputs": [
    {
     "name": "stdout",
     "output_type": "stream",
     "text": [
      "tensor([[   0,    0,    0,  ..., 2707, 2707, 2707],\n",
      "        [ 633, 1862, 2582,  ...,  598, 1473, 2706]])\n",
      "tensor([3., 3., 5.,  ..., 1., 4., 4.])\n",
      "inf\n",
      "torch.Size([2708])\n",
      "torch.Size([2708])\n",
      "torch.Size([2708, 7])\n",
      "tensor([[0, 0, 0,  ..., 0, 0, 0],\n",
      "        [0, 0, 0,  ..., 1, 0, 0],\n",
      "        [0, 0, 0,  ..., 1, 0, 0],\n",
      "        ...,\n",
      "        [0, 0, 0,  ..., 0, 0, 0],\n",
      "        [0, 0, 0,  ..., 0, 0, 0],\n",
      "        [0, 0, 0,  ..., 0, 0, 0]])\n"
     ]
    },
    {
     "data": {
      "text/plain": [
       "tensor([[0., 0., 0.],\n",
       "        [0., 0., 0.],\n",
       "        [0., 0., 0.]])"
      ]
     },
     "execution_count": 9,
     "metadata": {},
     "output_type": "execute_result"
    }
   ],
   "source": [
    "dataset = Planetoid(root='data', name='Cora')\n",
    "X = dataset.data.x\n",
    "y = dataset.data.y\n",
    "edge_index = dataset.data.edge_index\n",
    "print(edge_index)\n",
    "edge_weight = torch.ones((edge_index.size(1), ), device=edge_index.device)\n",
    "row, col = edge_index\n",
    "deg = scatter_add(edge_weight, col, dim=0, dim_size=X.size(0))\n",
    "print(deg)\n",
    "print(float(\"inf\"))\n",
    "print(y.shape)\n",
    "print(y.view(-1).shape)\n",
    "#y = F.one_hot(y).to(torch.float)\n",
    "#print(y.size())\n",
    "print(F.one_hot(y).shape)\n",
    "y_ = F.one_hot(y)\n",
    "print(y_)\n",
    "y_[[1,2]]\n",
    "torch.zeros((3,3))"
   ]
  },
  {
   "cell_type": "code",
   "execution_count": 56,
   "metadata": {},
   "outputs": [],
   "source": [
    "class GCN(MessagePassing):\n",
    "    def __init__(self, in_channels, out_channels, aggr: str = \"add\", \n",
    "                 flow: str = \"source_to_target\"):\n",
    "        super().__init__(aggr, flow)\n",
    "        self.lin = Linear(in_channels, out_channels, bias=False)\n",
    "\n",
    "    def forward(self, X, edge_index):\n",
    "        edge_index, _ = add_self_loops(edge_index, num_nodes=X.size(0))\n",
    "        X = self.lin(X)\n",
    "        return self.propagate(edge_index, X=X)\n",
    "\n",
    "    def message(self, X_j):\n",
    "        print(X_j.size())\n",
    "        print(X_j[:10, :5])\n",
    "        return X_j + 1\n",
    "\n",
    "    def update(self, aggr_out, X_j):\n",
    "        print(aggr_out.size())\n",
    "        return aggr_out * 100"
   ]
  },
  {
   "cell_type": "code",
   "execution_count": 57,
   "metadata": {},
   "outputs": [
    {
     "name": "stdout",
     "output_type": "stream",
     "text": [
      "torch.Size([13264, 10])\n",
      "tensor([[-0.0173,  0.0529,  0.0042,  0.0244,  0.1070],\n",
      "        [-0.0173,  0.0529,  0.0042,  0.0244,  0.1070],\n",
      "        [-0.0173,  0.0529,  0.0042,  0.0244,  0.1070],\n",
      "        [-0.0072,  0.1087,  0.0614,  0.0283,  0.0275],\n",
      "        [-0.0072,  0.1087,  0.0614,  0.0283,  0.0275],\n",
      "        [-0.0072,  0.1087,  0.0614,  0.0283,  0.0275],\n",
      "        [-0.0455,  0.0201, -0.0049,  0.0073,  0.0557],\n",
      "        [-0.0455,  0.0201, -0.0049,  0.0073,  0.0557],\n",
      "        [-0.0455,  0.0201, -0.0049,  0.0073,  0.0557],\n",
      "        [-0.0455,  0.0201, -0.0049,  0.0073,  0.0557]],\n",
      "       grad_fn=<SliceBackward0>)\n",
      "torch.Size([2708, 10])\n"
     ]
    },
    {
     "data": {
      "text/plain": [
       "tensor([[389.7239, 412.7906, 429.0812,  ..., 420.3212, 393.5004, 410.1242],\n",
       "        [389.2765, 397.4312, 409.7231,  ..., 387.7980, 379.2740, 417.0523],\n",
       "        [600.7773, 623.2421, 602.2294,  ..., 606.1293, 593.8380, 614.5193],\n",
       "        ...,\n",
       "        [202.6021, 203.6831, 204.2789,  ..., 216.3896, 203.2019, 191.3758],\n",
       "        [531.6699, 533.6844, 491.4141,  ..., 524.5166, 515.8243, 479.3176],\n",
       "        [516.1280, 524.0164, 496.5078,  ..., 513.3365, 534.8948, 487.5916]],\n",
       "       grad_fn=<MulBackward0>)"
      ]
     },
     "execution_count": 57,
     "metadata": {},
     "output_type": "execute_result"
    }
   ],
   "source": [
    "model = GCN(in_channels=dataset.data.x.size(1), out_channels=10)\n",
    "model.forward(dataset.data.x, dataset.data.edge_index)"
   ]
  },
  {
   "cell_type": "code",
   "execution_count": null,
   "metadata": {},
   "outputs": [],
   "source": []
  }
 ],
 "metadata": {
  "kernelspec": {
   "display_name": "Python 3.9.7 ('py397')",
   "language": "python",
   "name": "python3"
  },
  "language_info": {
   "codemirror_mode": {
    "name": "ipython",
    "version": 3
   },
   "file_extension": ".py",
   "mimetype": "text/x-python",
   "name": "python",
   "nbconvert_exporter": "python",
   "pygments_lexer": "ipython3",
   "version": "3.9.7"
  },
  "orig_nbformat": 4,
  "vscode": {
   "interpreter": {
    "hash": "c4e45668083cbb37b7048c0587d1e2fbbeab0bbf8f83b3643c89a090a0af4084"
   }
  }
 },
 "nbformat": 4,
 "nbformat_minor": 2
}
