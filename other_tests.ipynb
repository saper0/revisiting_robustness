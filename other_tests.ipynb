{
 "cells": [
  {
   "cell_type": "code",
   "execution_count": 2,
   "metadata": {},
   "outputs": [],
   "source": [
    "# Reload modules automatically\n",
    "# https://ipython.readthedocs.io/en/stable/config/extensions/autoreload.html\n",
    "%load_ext autoreload\n",
    "%autoreload 2"
   ]
  },
  {
   "cell_type": "code",
   "execution_count": 3,
   "metadata": {},
   "outputs": [],
   "source": [
    "import torch\n",
    "from torch.nn import Linear\n",
    "import torch.nn.functional as F\n",
    "from torch_scatter import scatter_add\n",
    "from torch_geometric.datasets import Planetoid\n",
    "from torch_geometric.nn import MessagePassing\n",
    "from torch_geometric.utils import add_self_loops\n"
   ]
  },
  {
   "cell_type": "code",
   "execution_count": null,
   "metadata": {},
   "outputs": [],
   "source": [
    "data_params = dict(\n",
    "    graph_model = 'CSBM',\n",
    "    classes = 2,\n",
    "    n = 1000,\n",
    "    n_per_class_trn = 400,\n",
    "    K = 2,\n",
    "    sigma = 1,\n",
    "    avg_within_class_degree = 1.58 * 2,\n",
    "    avg_between_class_degree = 0.37 * 2,\n",
    "    inductive_samples = 1000\n",
    ")\n",
    "graph_model = create_graph_model(data_params)\n",
    "X_np, A_np, y_np = graph_model.sample(data_params[\"n\"], 0)\n",
    "X = torch.tensor(X_np, dtype=torch.float32, device=\"cuda:0\")\n",
    "A = torch.tensor(A_np, dtype=torch.float32, device=\"cuda:0\")\n",
    "y = torch.tensor(y_np, device=\"cuda:0\")\n",
    "adj = SparseTensor.from_dense(A)\n",
    "row, col, _ = adj.coo()\n",
    "print(row)\n",
    "print(col)\n",
    "print(torch.stack((row, col), dim=0))\n",
    "A.nonzero().t()"
   ]
  },
  {
   "cell_type": "code",
   "execution_count": 9,
   "metadata": {},
   "outputs": [
    {
     "name": "stdout",
     "output_type": "stream",
     "text": [
      "tensor([[   0,    0,    0,  ..., 2707, 2707, 2707],\n",
      "        [ 633, 1862, 2582,  ...,  598, 1473, 2706]])\n",
      "tensor([3., 3., 5.,  ..., 1., 4., 4.])\n",
      "inf\n",
      "torch.Size([2708])\n",
      "torch.Size([2708])\n",
      "torch.Size([2708, 7])\n",
      "tensor([[0, 0, 0,  ..., 0, 0, 0],\n",
      "        [0, 0, 0,  ..., 1, 0, 0],\n",
      "        [0, 0, 0,  ..., 1, 0, 0],\n",
      "        ...,\n",
      "        [0, 0, 0,  ..., 0, 0, 0],\n",
      "        [0, 0, 0,  ..., 0, 0, 0],\n",
      "        [0, 0, 0,  ..., 0, 0, 0]])\n"
     ]
    },
    {
     "data": {
      "text/plain": [
       "tensor([[0., 0., 0.],\n",
       "        [0., 0., 0.],\n",
       "        [0., 0., 0.]])"
      ]
     },
     "execution_count": 9,
     "metadata": {},
     "output_type": "execute_result"
    }
   ],
   "source": [
    "dataset = Planetoid(root='data', name='Cora')\n",
    "X = dataset.data.x\n",
    "y = dataset.data.y\n",
    "edge_index = dataset.data.edge_index\n",
    "print(edge_index)\n",
    "edge_weight = torch.ones((edge_index.size(1), ), device=edge_index.device)\n",
    "row, col = edge_index\n",
    "deg = scatter_add(edge_weight, col, dim=0, dim_size=X.size(0))\n",
    "print(deg)\n",
    "print(float(\"inf\"))\n",
    "print(y.shape)\n",
    "print(y.view(-1).shape)\n",
    "#y = F.one_hot(y).to(torch.float)\n",
    "#print(y.size())\n",
    "print(F.one_hot(y).shape)\n",
    "y_ = F.one_hot(y)\n",
    "print(y_)\n",
    "y_[[1,2]]\n",
    "torch.zeros((3,3))"
   ]
  },
  {
   "cell_type": "code",
   "execution_count": 56,
   "metadata": {},
   "outputs": [],
   "source": [
    "class GCN(MessagePassing):\n",
    "    def __init__(self, in_channels, out_channels, aggr: str = \"add\", \n",
    "                 flow: str = \"source_to_target\"):\n",
    "        super().__init__(aggr, flow)\n",
    "        self.lin = Linear(in_channels, out_channels, bias=False)\n",
    "\n",
    "    def forward(self, X, edge_index):\n",
    "        edge_index, _ = add_self_loops(edge_index, num_nodes=X.size(0))\n",
    "        X = self.lin(X)\n",
    "        return self.propagate(edge_index, X=X)\n",
    "\n",
    "    def message(self, X_j):\n",
    "        print(X_j.size())\n",
    "        print(X_j[:10, :5])\n",
    "        return X_j + 1\n",
    "\n",
    "    def update(self, aggr_out, X_j):\n",
    "        print(aggr_out.size())\n",
    "        return aggr_out * 100"
   ]
  },
  {
   "cell_type": "code",
   "execution_count": 57,
   "metadata": {},
   "outputs": [
    {
     "name": "stdout",
     "output_type": "stream",
     "text": [
      "torch.Size([13264, 10])\n",
      "tensor([[-0.0173,  0.0529,  0.0042,  0.0244,  0.1070],\n",
      "        [-0.0173,  0.0529,  0.0042,  0.0244,  0.1070],\n",
      "        [-0.0173,  0.0529,  0.0042,  0.0244,  0.1070],\n",
      "        [-0.0072,  0.1087,  0.0614,  0.0283,  0.0275],\n",
      "        [-0.0072,  0.1087,  0.0614,  0.0283,  0.0275],\n",
      "        [-0.0072,  0.1087,  0.0614,  0.0283,  0.0275],\n",
      "        [-0.0455,  0.0201, -0.0049,  0.0073,  0.0557],\n",
      "        [-0.0455,  0.0201, -0.0049,  0.0073,  0.0557],\n",
      "        [-0.0455,  0.0201, -0.0049,  0.0073,  0.0557],\n",
      "        [-0.0455,  0.0201, -0.0049,  0.0073,  0.0557]],\n",
      "       grad_fn=<SliceBackward0>)\n",
      "torch.Size([2708, 10])\n"
     ]
    },
    {
     "data": {
      "text/plain": [
       "tensor([[389.7239, 412.7906, 429.0812,  ..., 420.3212, 393.5004, 410.1242],\n",
       "        [389.2765, 397.4312, 409.7231,  ..., 387.7980, 379.2740, 417.0523],\n",
       "        [600.7773, 623.2421, 602.2294,  ..., 606.1293, 593.8380, 614.5193],\n",
       "        ...,\n",
       "        [202.6021, 203.6831, 204.2789,  ..., 216.3896, 203.2019, 191.3758],\n",
       "        [531.6699, 533.6844, 491.4141,  ..., 524.5166, 515.8243, 479.3176],\n",
       "        [516.1280, 524.0164, 496.5078,  ..., 513.3365, 534.8948, 487.5916]],\n",
       "       grad_fn=<MulBackward0>)"
      ]
     },
     "execution_count": 57,
     "metadata": {},
     "output_type": "execute_result"
    }
   ],
   "source": [
    "model = GCN(in_channels=dataset.data.x.size(1), out_channels=10)\n",
    "model.forward(dataset.data.x, dataset.data.edge_index)"
   ]
  },
  {
   "cell_type": "code",
   "execution_count": null,
   "metadata": {},
   "outputs": [],
   "source": []
  }
 ],
 "metadata": {
  "kernelspec": {
   "display_name": "Python 3.9.7 ('py397')",
   "language": "python",
   "name": "python3"
  },
  "language_info": {
   "codemirror_mode": {
    "name": "ipython",
    "version": 3
   },
   "file_extension": ".py",
   "mimetype": "text/x-python",
   "name": "python",
   "nbconvert_exporter": "python",
   "pygments_lexer": "ipython3",
   "version": "3.9.7"
  },
  "orig_nbformat": 4,
  "vscode": {
   "interpreter": {
    "hash": "c4e45668083cbb37b7048c0587d1e2fbbeab0bbf8f83b3643c89a090a0af4084"
   }
  }
 },
 "nbformat": 4,
 "nbformat_minor": 2
}
