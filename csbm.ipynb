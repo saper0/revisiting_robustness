{
 "cells": [
  {
   "cell_type": "code",
   "execution_count": 1,
   "metadata": {},
   "outputs": [],
   "source": [
    "# Reload modules automatically\n",
    "# https://ipython.readthedocs.io/en/stable/config/extensions/autoreload.html\n",
    "%load_ext autoreload\n",
    "%autoreload 2"
   ]
  },
  {
   "cell_type": "code",
   "execution_count": 2,
   "metadata": {},
   "outputs": [],
   "source": [
    "from collections import Counter\n",
    "import math\n",
    "from typing import List\n",
    "\n",
    "import numpy as np\n",
    "from scipy.stats import multivariate_normal\n",
    "import matplotlib.pyplot as plt\n",
    "import torch\n",
    "from tqdm import tqdm\n",
    "\n",
    "from common import CSBM"
   ]
  },
  {
   "cell_type": "code",
   "execution_count": 3,
   "metadata": {},
   "outputs": [],
   "source": [
    "def likelihood(n_id, n_cls):\n",
    "    \"\"\"Return likelihood of node n_id being of class n_cls.\"\"\"\n",
    "    likelihood = multivariate_normal.pdf(X[n_id,:], mean=(2*n_cls - 1)*mu, cov=cov)\n",
    "    for i in range(len(y)):\n",
    "        if i != n_id:\n",
    "            if y[i] == n_cls:\n",
    "                likelihood *= p if A[n_id, i] == 1 else 1-p\n",
    "            else:\n",
    "                likelihood *= q if A[n_id, i] == 1 else 1-q\n",
    "    return likelihood\n",
    "\n",
    "def loglikelihood(n_id, n_cls):\n",
    "    \"\"\"Return log-likelihood of node n_id being of class n_cls.\"\"\"\n",
    "    likelihood = math.log(multivariate_normal.pdf(X[n_id,:], mean=(2*n_cls - 1)*mu, cov=cov))\n",
    "    for i in range(len(y)):\n",
    "        if i != n_id:\n",
    "            if y[i] == n_cls:\n",
    "                likelihood += math.log(p) if A[n_id, i] == 1 else math.log(1-p)\n",
    "            else: \n",
    "                likelihood += math.log(q) if A[n_id, i] == 1 else math.log(1-q)\n",
    "    return likelihood\n",
    "\n",
    "def structure_loglikelihood(n_id, n_cls):\n",
    "    \"\"\"Return log-likelihood of node n_id being of class n_cls.\"\"\"\n",
    "    likelihood = 0\n",
    "    for i in range(len(y)):\n",
    "        if i != n_id:\n",
    "            if y[i] == n_cls:\n",
    "                likelihood += math.log(p) if A[n_id, i] == 1 else math.log(1-p)\n",
    "            else: \n",
    "                likelihood += math.log(q) if A[n_id, i] == 1 else math.log(1-q)\n",
    "    return likelihood\n",
    "\n",
    "def sample(seed = 0):\n",
    "    \"\"\"Sample y~Bin(1/2) and X,A ~ CSBM. Return X, A, y.\"\"\"\n",
    "    np.random.seed(seed)\n",
    "    # Sample y\n",
    "    y = np.random.randint(0,2,size=n)\n",
    "    n_class1 = sum(y)\n",
    "    n_class0 = len(y) - n_class1 \n",
    "    # Sample X|y\n",
    "    X_0 = np.random.multivariate_normal(-mu, cov, n_class0).astype(np.float32)\n",
    "    X_1 = np.random.multivariate_normal(mu, cov, n_class1).astype(np.float32)\n",
    "    X = torch.zeros((n,d))\n",
    "    X[y == 0, :] = torch.tensor(X_0)\n",
    "    X[y == 1, :] = torch.tensor(X_1)\n",
    "    #print(sum(torch.eq(torch.tensor(y), X[:,0] > 0)))\n",
    "    # Sample A|y\n",
    "    edge_prob = np.zeros((n,n))\n",
    "    for i in range(n):\n",
    "        for j in range(i+1, n):\n",
    "            if y[i] == y[j]:\n",
    "                edge_prob[i,j] = p\n",
    "            else:\n",
    "                edge_prob[i,j] = q\n",
    "    A = np.random.binomial(1, edge_prob)\n",
    "    A += A.T\n",
    "    return X, A, y"
   ]
  },
  {
   "cell_type": "markdown",
   "metadata": {},
   "source": [
    "## Generate Data"
   ]
  },
  {
   "cell_type": "code",
   "execution_count": 11,
   "metadata": {},
   "outputs": [
    {
     "name": "stdout",
     "output_type": "stream",
     "text": [
      "Dim: 21\n"
     ]
    }
   ],
   "source": [
    "# X, A ~ CSBM(n, p, q, mu, cov)\n",
    "n = 1000\n",
    "avg_intra_degree = 1.5 * 2 # intra_edges_per_node * 2\n",
    "avg_inter_degree = 0.5 * 2\n",
    "p = avg_intra_degree * 2 / (n - 1)\n",
    "q = avg_inter_degree * 2 / (n - 1)\n",
    "K = 0.5 # Defines distance between means of the gaußians in sigma-units\n",
    "sigma = 0.1\n",
    "d = round(n / math.log(n)**2)\n",
    "#d = 1\n",
    "mu = np.array([K*sigma / (2 * d**0.5) for i in range(d)], dtype=np.float32)\n",
    "cov = sigma**2 * np.identity(d, dtype=np.float32)\n",
    "#mu = np.array([1 for i in range(d)])\n",
    "X, A, y = sample(seed=0)\n",
    "print(f\"Dim: {d}\")"
   ]
  },
  {
   "cell_type": "code",
   "execution_count": 12,
   "metadata": {},
   "outputs": [
    {
     "name": "stdout",
     "output_type": "stream",
     "text": [
      "Feature Separability:\n",
      "n_corr: 624\n",
      "n_wrong: 376\n",
      "Structure Separability:\n",
      "n_corr: 820\n",
      "n_wrong: 180\n",
      "Likelihood Separability:\n",
      "n_corr: 839\n",
      "n_wrong: 161\n"
     ]
    }
   ],
   "source": [
    "model = CSBM(p, q, mu, cov)\n",
    "X_, A_, y_ = model.sample(1000, seed = 0)\n",
    "model.check_separabilities(X_, A_, y_)"
   ]
  },
  {
   "cell_type": "code",
   "execution_count": 16,
   "metadata": {},
   "outputs": [
    {
     "data": {
      "text/plain": [
       "2.7854442345000603"
      ]
     },
     "execution_count": 16,
     "metadata": {},
     "output_type": "execute_result"
    }
   ],
   "source": [
    "# Abbe 2014 community recovery threshold\n",
    "# (math.sqrt(p) - math.sqrt(q))*math.sqrt(n / math.log(n))"
   ]
  },
  {
   "cell_type": "markdown",
   "metadata": {},
   "source": [
    "## Nodes Violating Bayes Criterion after Generation"
   ]
  },
  {
   "cell_type": "code",
   "execution_count": 8,
   "metadata": {},
   "outputs": [
    {
     "name": "stdout",
     "output_type": "stream",
     "text": [
      "Feature Separability:\n",
      "n_corr: 624\n",
      "n_wrong: 376\n",
      "Structure Separability:\n",
      "n_corr: 820\n",
      "n_wrong: 180\n",
      "Likelihood Separability:\n",
      "n_corr: 839\n",
      "n_wrong: 161\n"
     ]
    }
   ],
   "source": [
    "model.check_separabilities(X, A, y)"
   ]
  },
  {
   "cell_type": "code",
   "execution_count": null,
   "metadata": {},
   "outputs": [],
   "source": []
  },
  {
   "cell_type": "markdown",
   "metadata": {},
   "source": [
    "## Degree Distribution"
   ]
  },
  {
   "cell_type": "code",
   "execution_count": 21,
   "metadata": {},
   "outputs": [
    {
     "data": {
      "text/plain": [
       "(15.0, 50.0)"
      ]
     },
     "execution_count": 21,
     "metadata": {},
     "output_type": "execute_result"
    },
    {
     "data": {
      "image/png": "[encoded data removed]",
      "text/plain": [
       "<Figure size 432x288 with 1 Axes>"
      ]
     },
     "metadata": {
      "needs_background": "light"
     },
     "output_type": "display_data"
    }
   ],
   "source": [
    "deg = np.sum(A, axis=1)\n",
    "max_deg = np.max(deg)\n",
    "c = Counter(deg)\n",
    "ordered_c = [c[i] if i in c else 0 for i in range(max_deg+1)]\n",
    "fig, axs = plt.subplots(1, 1)\n",
    "axs.plot(range(len(ordered_c)), ordered_c, 'o-')\n",
    "axs.set_xlim(left=15, right=50)\n"
   ]
  },
  {
   "cell_type": "code",
   "execution_count": 22,
   "metadata": {},
   "outputs": [
    {
     "name": "stderr",
     "output_type": "stream",
     "text": [
      "100%|██████████| 1000/1000 [00:42<00:00, 23.49it/s]\n"
     ]
    },
    {
     "data": {
      "text/plain": [
       "(0.0, 15.0)"
      ]
     },
     "execution_count": 22,
     "metadata": {},
     "output_type": "execute_result"
    },
    {
     "data": {
      "image/png": "[encoded data removed]",
      "text/plain": [
       "<Figure size 432x288 with 1 Axes>"
      ]
     },
     "metadata": {
      "needs_background": "light"
     },
     "output_type": "display_data"
    }
   ],
   "source": [
    "# Evaluate robustness to edge insertions of total likelihood\n",
    "def has_correct_bayes(i):\n",
    "    \"\"\"Return true if bayes classifier classifies node correctly.\"\"\"\n",
    "    likelihood_corr = loglikelihood(i, y[i])\n",
    "    likelihood_wrong = loglikelihood(i, -(y[i]-1))\n",
    "    if likelihood_corr > likelihood_wrong:\n",
    "        return True\n",
    "    return False\n",
    "\n",
    "def add_adversarial_edge(i):\n",
    "    \"\"\"Add adversarial edge to matrix A. Return new neighbour idx.\"\"\"\n",
    "    if y[i] == 0:\n",
    "        pot_neighbours = idx_1\n",
    "    else:\n",
    "        pot_neighbours = idx_0\n",
    "    # Add an edge to a node of different class\n",
    "    for j in pot_neighbours:\n",
    "        if A[i,j] == 1:\n",
    "            continue\n",
    "        else:\n",
    "            A[i,j] = 1\n",
    "            A[j,i] = 1\n",
    "            return j\n",
    "    assert(False)\n",
    "\n",
    "def remove_edges_from_node(node_id, neighbour_ids: List):\n",
    "    \"\"\"Removes edges between node_id and nodes in neighbour_ids list.\"\"\"\n",
    "    for j in neighbour_ids:\n",
    "        A[node_id, j] = 0\n",
    "        A[j, node_id] = 0\n",
    "\n",
    "# Count for each degree, how much edges can be inserted on average until \n",
    "# bayes-classifier changes prediction\n",
    "c_degree = Counter()\n",
    "c_robust = Counter()\n",
    "idx_0 = torch.tensor(range(n))[y == 0]\n",
    "idx_1 = torch.tensor(range(n))[y == 1]\n",
    "for i in tqdm(range(n)):\n",
    "    if not has_correct_bayes(i):\n",
    "        # Only consider nodes who have correct bayes decision\n",
    "        continue\n",
    "    inserted_idx = []\n",
    "    # Incrementally add adversarial edges until bayes decision flips\n",
    "    broke_classifier = False\n",
    "    for robustness_count in range(0, int(n/2)):\n",
    "        inserted_idx.append(add_adversarial_edge(i))\n",
    "        if not has_correct_bayes(i):\n",
    "            remove_edges_from_node(i, inserted_idx)\n",
    "            c_robust[deg[i]] += robustness_count\n",
    "            c_degree[deg[i]] += 1\n",
    "            broke_classifier = True\n",
    "            break\n",
    "    assert broke_classifier\n",
    "# Average robustness count\n",
    "avg_robust = {}\n",
    "c = Counter(deg)\n",
    "for degree in c:\n",
    "    if c_degree[degree] > 0: \n",
    "        avg_robust[degree] = c_robust[degree] / c_degree[degree]\n",
    "\n",
    "# Plot\n",
    "max_deg = np.max(deg)\n",
    "ordered_c = [avg_robust[i] if i in avg_robust else -1 for i in range(max_deg+1)]\n",
    "fig, axs = plt.subplots(1, 1)\n",
    "axs.plot(range(len(ordered_c)), ordered_c, 'o-')\n",
    "axs.set_xlim(left=0, right=15)"
   ]
  },
  {
   "cell_type": "code",
   "execution_count": 25,
   "metadata": {},
   "outputs": [
    {
     "data": {
      "text/plain": [
       "(15.0, 50.0)"
      ]
     },
     "execution_count": 25,
     "metadata": {},
     "output_type": "execute_result"
    },
    {
     "data": {
      "image/png": "[encoded data removed]",
      "text/plain": [
       "<Figure size 432x288 with 1 Axes>"
      ]
     },
     "metadata": {
      "needs_background": "light"
     },
     "output_type": "display_data"
    }
   ],
   "source": [
    "fig, axs = plt.subplots(1, 1)\n",
    "axs.plot(range(len(ordered_c)), ordered_c, 'o-', alpha=0.5)\n",
    "axs.set_xlim(left=15, right=50)"
   ]
  },
  {
   "cell_type": "code",
   "execution_count": 26,
   "metadata": {},
   "outputs": [
    {
     "name": "stderr",
     "output_type": "stream",
     "text": [
      "100%|██████████| 1000/1000 [00:41<00:00, 23.84it/s]"
     ]
    },
    {
     "name": "stdout",
     "output_type": "stream",
     "text": [
      "{35: 31, 20: 14, 30: 27, 38: 31, 24: 21, 26: 23, 31: 26, 36: 31, 29: 27, 32: 30, 28: 26, 33: 29, 18: 12, 40: 33, 22: 19, 25: 22, 23: 19, 34: 32, 44: 32, 37: 33, 27: 25, 42: 34, 43: 37, 41: 39, 39: 34, 21: 19, 46: 37, 45: 34, 48: 30, 47: 31, 17: 9, 50: 18, 19: 15}\n"
     ]
    },
    {
     "name": "stderr",
     "output_type": "stream",
     "text": [
      "\n"
     ]
    }
   ],
   "source": [
    "# Count maximum robustness per node\n",
    "max_robust = {}\n",
    "idx_0 = torch.tensor(range(n))[y == 0]\n",
    "idx_1 = torch.tensor(range(n))[y == 1]\n",
    "for i in tqdm(range(n)):\n",
    "    if not has_correct_bayes(i):\n",
    "        # Only consider nodes who have correct bayes decision\n",
    "        continue\n",
    "    inserted_idx = []\n",
    "    # Incrementally add adversarial edges until bayes decision flips\n",
    "    broke_classifier = False\n",
    "    for robustness_count in range(0, int(n/2)):\n",
    "        inserted_idx.append(add_adversarial_edge(i))\n",
    "        if not has_correct_bayes(i):\n",
    "            remove_edges_from_node(i, inserted_idx)\n",
    "            if deg[i] not in max_robust:\n",
    "                max_robust[deg[i]] = robustness_count\n",
    "            else:\n",
    "                if robustness_count > max_robust[deg[i]]:\n",
    "                    max_robust[deg[i]] = robustness_count\n",
    "            broke_classifier = True\n",
    "            break\n",
    "    assert broke_classifier\n",
    "print(max_robust)"
   ]
  },
  {
   "cell_type": "code",
   "execution_count": null,
   "metadata": {},
   "outputs": [],
   "source": [
    "max_deg = np.max(deg)\n",
    "ordered_c = [avg_robust[i] if i in avg_robust else -1 for i in range(max_deg+1)]"
   ]
  },
  {
   "cell_type": "code",
   "execution_count": 61,
   "metadata": {},
   "outputs": [
    {
     "name": "stdout",
     "output_type": "stream",
     "text": [
      "6\n",
      "6\n",
      "0\n",
      "0\n",
      "-15.992659153707786\n",
      "-22.790973858434004\n",
      "tensor(1) 1\n",
      "7\n",
      "6\n",
      "1\n",
      "-22.20426274310961\n",
      "-27.899945053251024\n",
      "tensor(2) 1\n",
      "8\n",
      "6\n",
      "2\n",
      "-28.41586633251149\n",
      "-33.008916248068154\n",
      "tensor(4) 1\n",
      "9\n",
      "6\n",
      "3\n",
      "-34.62746992191338\n",
      "-38.1178874428853\n",
      "tensor(5) 1\n",
      "10\n",
      "6\n",
      "4\n",
      "-40.8390735113152\n",
      "-43.22685863770247\n",
      "tensor(6) 1\n",
      "11\n",
      "6\n",
      "5\n",
      "-47.05067710071714\n",
      "-48.335829832519515\n",
      "tensor(7) 1\n",
      "12\n",
      "6\n",
      "6\n",
      "-53.2622806901191\n",
      "-53.44480102733658\n",
      "tensor(8) 1\n",
      "13\n",
      "6\n",
      "7\n",
      "-59.47388427952096\n",
      "-58.55377222215369\n",
      "tensor(9) 1\n",
      "14\n",
      "6\n",
      "8\n",
      "-65.68548786892285\n",
      "-63.66274341697084\n",
      "tensor(10) 1\n",
      "15\n",
      "6\n",
      "9\n",
      "-71.89709145832448\n",
      "-68.77171461178793\n"
     ]
    }
   ],
   "source": [
    "X, A, y = sample(seed=0)\n",
    "i = 0\n",
    "has_correct_bayes(i)\n",
    "print(np.sum(A[i,:]))\n",
    "print(np.sum(A[i,y==0]))\n",
    "print(np.sum(A[i,y==1]))\n",
    "print(y[i])\n",
    "print(loglikelihood(i, y[i]))\n",
    "print(loglikelihood(i, -(y[i] - 1)))\n",
    "\n",
    "j = add_adversarial_edge(i)\n",
    "print(j, y[j])\n",
    "print(np.sum(A[i,:]))\n",
    "print(np.sum(A[i,y==0]))\n",
    "print(np.sum(A[i,y==1]))\n",
    "print(loglikelihood(i, y[i]))\n",
    "print(loglikelihood(i, -(y[i] - 1)))\n",
    "\n",
    "j = add_adversarial_edge(i)\n",
    "print(j, y[j])\n",
    "print(np.sum(A[i,:]))\n",
    "print(np.sum(A[i,y==0]))\n",
    "print(np.sum(A[i,y==1]))\n",
    "print(loglikelihood(i, y[i]))\n",
    "print(loglikelihood(i, -(y[i] - 1)))\n",
    "\n",
    "j = add_adversarial_edge(i)\n",
    "print(j, y[j])\n",
    "print(np.sum(A[i,:]))\n",
    "print(np.sum(A[i,y==0]))\n",
    "print(np.sum(A[i,y==1]))\n",
    "print(loglikelihood(i, y[i]))\n",
    "print(loglikelihood(i, -(y[i] - 1)))\n",
    "\n",
    "j = add_adversarial_edge(i)\n",
    "print(j, y[j])\n",
    "print(np.sum(A[i,:]))\n",
    "print(np.sum(A[i,y==0]))\n",
    "print(np.sum(A[i,y==1]))\n",
    "print(loglikelihood(i, y[i]))\n",
    "print(loglikelihood(i, -(y[i] - 1)))\n",
    "\n",
    "j = add_adversarial_edge(i)\n",
    "print(j, y[j])\n",
    "print(np.sum(A[i,:]))\n",
    "print(np.sum(A[i,y==0]))\n",
    "print(np.sum(A[i,y==1]))\n",
    "print(loglikelihood(i, y[i]))\n",
    "print(loglikelihood(i, -(y[i] - 1)))\n",
    "\n",
    "j = add_adversarial_edge(i)\n",
    "print(j, y[j])\n",
    "print(np.sum(A[i,:]))\n",
    "print(np.sum(A[i,y==0]))\n",
    "print(np.sum(A[i,y==1]))\n",
    "print(loglikelihood(i, y[i]))\n",
    "print(loglikelihood(i, -(y[i] - 1)))\n",
    "\n",
    "j = add_adversarial_edge(i)\n",
    "print(j, y[j])\n",
    "print(np.sum(A[i,:]))\n",
    "print(np.sum(A[i,y==0]))\n",
    "print(np.sum(A[i,y==1]))\n",
    "print(loglikelihood(i, y[i]))\n",
    "print(loglikelihood(i, -(y[i] - 1)))\n",
    "\n",
    "j = add_adversarial_edge(i)\n",
    "print(j, y[j])\n",
    "print(np.sum(A[i,:]))\n",
    "print(np.sum(A[i,y==0]))\n",
    "print(np.sum(A[i,y==1]))\n",
    "print(loglikelihood(i, y[i]))\n",
    "print(loglikelihood(i, -(y[i] - 1)))\n",
    "\n",
    "j = add_adversarial_edge(i)\n",
    "print(j, y[j])\n",
    "print(np.sum(A[i,:]))\n",
    "print(np.sum(A[i,y==0]))\n",
    "print(np.sum(A[i,y==1]))\n",
    "print(loglikelihood(i, y[i]))\n",
    "print(loglikelihood(i, -(y[i] - 1)))"
   ]
  },
  {
   "cell_type": "code",
   "execution_count": 95,
   "metadata": {},
   "outputs": [
    {
     "data": {
      "text/plain": [
       "[<matplotlib.lines.Line2D at 0x7f1f750b1fd0>]"
      ]
     },
     "execution_count": 95,
     "metadata": {},
     "output_type": "execute_result"
    },
    {
     "data": {
      "image/png": "[encoded data removed]",
      "text/plain": [
       "<Figure size 432x288 with 1 Axes>"
      ]
     },
     "metadata": {
      "needs_background": "light"
     },
     "output_type": "display_data"
    }
   ],
   "source": [
    "fig, ax = plt.subplots(1, 1)\n",
    "x = np.linspace(start=-3, stop=3, num=1000)\n",
    "ax.plot(x, multivariate_normal.pdf(x, mean=(2*y[i] - 1)*mu, cov=cov))"
   ]
  },
  {
   "cell_type": "code",
   "execution_count": 12,
   "metadata": {},
   "outputs": [
    {
     "name": "stdout",
     "output_type": "stream",
     "text": [
      "Number of edges: 3995\n",
      "Average #edges per node: 3.995\n",
      "Average intra-connections: 2.954\n",
      "Average inter-connections: 1.041\n"
     ]
    }
   ],
   "source": [
    "# Sanity check Adjacency Matrix \n",
    "n_intra_nodes = 0\n",
    "n_inter_nodes = 0\n",
    "n_intra_edges = 0\n",
    "n_inter_edges = 0\n",
    "for i in range(n):\n",
    "    for j in range(i+1, n):\n",
    "        if y[i] == y[j]:\n",
    "            n_intra_nodes += 1\n",
    "            if A[i,j] == 1:\n",
    "                 n_intra_edges += 1\n",
    "        else:\n",
    "            n_inter_nodes += 1\n",
    "            if A[i,j] == 1:\n",
    "                 n_inter_edges += 1\n",
    "print(f\"Number of edges: {n_intra_edges + n_inter_edges}\")\n",
    "print(f\"Average #edges per node: {(n_intra_edges + n_inter_edges)/n}\")\n",
    "print(f\"Average intra-connections: {n_intra_edges / n}\")\n",
    "print(f\"Average inter-connections: {n_inter_edges / n}\")"
   ]
  },
  {
   "cell_type": "code",
   "execution_count": null,
   "metadata": {},
   "outputs": [],
   "source": []
  },
  {
   "cell_type": "code",
   "execution_count": null,
   "metadata": {},
   "outputs": [],
   "source": []
  }
 ],
 "metadata": {
  "interpreter": {
   "hash": "c4e45668083cbb37b7048c0587d1e2fbbeab0bbf8f83b3643c89a090a0af4084"
  },
  "kernelspec": {
   "display_name": "Python 3.9.7 ('py397': conda)",
   "language": "python",
   "name": "python3"
  },
  "language_info": {
   "codemirror_mode": {
    "name": "ipython",
    "version": 3
   },
   "file_extension": ".py",
   "mimetype": "text/x-python",
   "name": "python",
   "nbconvert_exporter": "python",
   "pygments_lexer": "ipython3",
   "version": "3.9.7"
  },
  "orig_nbformat": 4
 },
 "nbformat": 4,
 "nbformat_minor": 2
}
