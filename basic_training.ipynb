{
 "cells": [
  {
   "cell_type": "code",
   "execution_count": 7,
   "metadata": {},
   "outputs": [
    {
     "name": "stdout",
     "output_type": "stream",
     "text": [
      "The autoreload extension is already loaded. To reload it, use:\n",
      "  %reload_ext autoreload\n"
     ]
    }
   ],
   "source": [
    "# Reload modules automatically\n",
    "# https://ipython.readthedocs.io/en/stable/config/extensions/autoreload.html\n",
    "%load_ext autoreload\n",
    "%autoreload 2\n",
    "import logging\n",
    "import math\n",
    "\n",
    "import numpy as np\n",
    "import torch\n",
    "from strn_and_rbstness.attacks import Attack, create_attack\n",
    "from strn_and_rbstness.data import GraphDataset, split\n",
    "from strn_and_rbstness.helper.utils import accuracy, count_edges\n",
    "from strn_and_rbstness.models import create_model\n",
    "from strn_and_rbstness.train import _train\n",
    "from common import CSBM\n",
    "\n",
    "logger = logging.getLogger()\n",
    "logger.setLevel(logging.INFO)"
   ]
  },
  {
   "cell_type": "markdown",
   "metadata": {},
   "source": [
    "### Sample CSBM"
   ]
  },
  {
   "cell_type": "code",
   "execution_count": 47,
   "metadata": {},
   "outputs": [
    {
     "name": "stdout",
     "output_type": "stream",
     "text": [
      "Dim: 21\n"
     ]
    }
   ],
   "source": [
    "seed = 0\n",
    "n = 1000\n",
    "avg_intra_degree = 1.5 * 2 # intra_edges_per_node * 2\n",
    "avg_inter_degree = 0.5 * 2\n",
    "p = avg_intra_degree * 2 / (n - 1)\n",
    "q = avg_inter_degree * 2 / (n - 1)\n",
    "K = 0.5 # Defines distance between means of the gaußians in sigma-units\n",
    "sigma = 0.1\n",
    "d = round(n / math.log(n)**2)\n",
    "mu = np.array([K*sigma / (2 * d**0.5) for i in range(d)], dtype=np.float32)\n",
    "cov = sigma**2 * np.identity(d, dtype=np.float32)\n",
    "\n",
    "# X, A ~ CSBM(n, p, q, mu, cov)\n",
    "csbm = CSBM(p, q, mu, cov)\n",
    "X, A, y = csbm.sample(n, seed=0)\n",
    "#csbm.check_separabilities(X, A, y)\n",
    "print(f\"Dim: {d}\")"
   ]
  },
  {
   "cell_type": "markdown",
   "metadata": {},
   "source": [
    "### Model & Training Specifications"
   ]
  },
  {
   "cell_type": "code",
   "execution_count": 50,
   "metadata": {},
   "outputs": [
    {
     "name": "stderr",
     "output_type": "stream",
     "text": [
      "INFO:root:Currently on gpu device cuda:0\n"
     ]
    }
   ],
   "source": [
    "model_params = dict(\n",
    "    label=\"GAT\",\n",
    "    model=\"GAT\", #GCN or DenseGCN or APPNP\n",
    "    dropout=0,\n",
    "    dropout_neighourhood=0,\n",
    "    n_heads=8\n",
    ")\n",
    "\n",
    "train_params = dict(\n",
    "    loss_type=\"CE\",\n",
    "    lr=1e-2,\n",
    "    weight_decay=1e-3,\n",
    "    patience=300,\n",
    "    max_epochs=1000,\n",
    "    use_selftrain = False, \n",
    "    use_advtrain = False,\n",
    ")\n",
    "\n",
    "attack = 'PRBCD'\n",
    "attack_params = dict(\n",
    "    epochs=500,\n",
    "    fine_tune_epochs=100,\n",
    "    keep_heuristic=\"WeightOnly\",\n",
    "    search_space_size=1_000,\n",
    "    do_synchronize=True,\n",
    "    loss_type=\"tanhMargin\"\n",
    ")\n",
    "epsilon = 0.05\n",
    "\n",
    "# Other\n",
    "split_params = {\n",
    "    \"strategy\": \"normal\", # or \"custom\"\n",
    "    \"p_trn\": 1,\n",
    "    \"p_tst\": 0, # \"normal\" uses 1 - p_trn, only for custom split strategy\n",
    "    \"p_selftrn\": 0 # Refers to unlabeled data, which is not test data, \n",
    "                    # only for custom split strategy\n",
    "}\n",
    "verbosity_params = dict(\n",
    "    display_steps = 100\n",
    ")   \n",
    "# Device\n",
    "device = 0\n",
    "if not torch.cuda.is_available():\n",
    "    device == \"cpu\", \"CUDA is not availble, set device to 'cpu'\"\n",
    "else:\n",
    "    device = torch.device(f\"cuda:{device}\")\n",
    "    logging.info(f\"Currently on gpu device {device}\")\n",
    "attack_params[\"data_device\"] = device"
   ]
  },
  {
   "cell_type": "markdown",
   "metadata": {},
   "source": [
    "### Train Model"
   ]
  },
  {
   "cell_type": "code",
   "execution_count": 51,
   "metadata": {},
   "outputs": [
    {
     "name": "stderr",
     "output_type": "stream",
     "text": [
      "INFO:root:\n",
      "Epoch    0: loss_train: 0.69207, loss_val: 0.69447, acc_train: 0.52000, acc_val: 0.47200\n",
      "INFO:root:\n",
      "Epoch  100: loss_train: 0.65466, loss_val: 0.65814, acc_train: 0.67400, acc_val: 0.67800\n",
      "INFO:root:\n",
      "Epoch  200: loss_train: 0.61063, loss_val: 0.61687, acc_train: 0.67800, acc_val: 0.67600\n",
      "INFO:root:\n",
      "Epoch  300: loss_train: 0.59680, loss_val: 0.60792, acc_train: 0.68200, acc_val: 0.68600\n",
      "INFO:root:\n",
      "Epoch  400: loss_train: 0.59407, loss_val: 0.60764, acc_train: 0.68800, acc_val: 0.67400\n",
      "INFO:root:\n",
      "Epoch  500: loss_train: 0.59253, loss_val: 0.60677, acc_train: 0.69000, acc_val: 0.67400\n",
      "INFO:root:\n",
      "Epoch  600: loss_train: 0.58973, loss_val: 0.60553, acc_train: 0.70000, acc_val: 0.67400\n",
      "INFO:root:\n",
      "Epoch  700: loss_train: 0.58056, loss_val: 0.59861, acc_train: 0.71600, acc_val: 0.67400\n",
      "INFO:root:\n",
      "Epoch  800: loss_train: 0.55283, loss_val: 0.58366, acc_train: 0.74000, acc_val: 0.68400\n",
      "INFO:root:\n",
      "Epoch  900: loss_train: 0.51483, loss_val: 0.59068, acc_train: 0.78400, acc_val: 0.68600\n",
      "INFO:root:\n",
      "Epoch  825: loss_train: 0.54371, loss_val: 0.58207, acc_train: 0.75200, acc_val: 0.69600\n"
     ]
    }
   ],
   "source": [
    "torch.manual_seed(seed)\n",
    "np.random.seed(seed)\n",
    "split_ids = split(y, split_params, seed)\n",
    "X_gpu = torch.tensor(X, dtype=torch.float32, device=device)\n",
    "A_gpu = torch.tensor(A, dtype=torch.float32, device=device)\n",
    "y_gpu = torch.tensor(y, device=device)\n",
    "graph = GraphDataset((X_gpu, A_gpu, y_gpu), split_ids)\n",
    "final_model_params = dict(**model_params, \n",
    "                          n_features=graph.get_n_features(), \n",
    "                          n_classes=graph.get_n_classes())\n",
    "model = create_model(final_model_params).to(device)\n",
    "statistics = _train(model, graph, train_params, verbosity_params, None)\n",
    "#best_epoch = np.argmin(statistics[1])"
   ]
  },
  {
   "cell_type": "code",
   "execution_count": null,
   "metadata": {},
   "outputs": [],
   "source": []
  }
 ],
 "metadata": {
  "interpreter": {
   "hash": "c4e45668083cbb37b7048c0587d1e2fbbeab0bbf8f83b3643c89a090a0af4084"
  },
  "kernelspec": {
   "display_name": "Python 3.9.7 ('py397')",
   "language": "python",
   "name": "python3"
  },
  "language_info": {
   "codemirror_mode": {
    "name": "ipython",
    "version": 3
   },
   "file_extension": ".py",
   "mimetype": "text/x-python",
   "name": "python",
   "nbconvert_exporter": "python",
   "pygments_lexer": "ipython3",
   "version": "3.9.7"
  },
  "orig_nbformat": 4
 },
 "nbformat": 4,
 "nbformat_minor": 2
}
