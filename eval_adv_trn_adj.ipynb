{
 "cells": [
  {
   "cell_type": "code",
   "execution_count": 1,
   "metadata": {},
   "outputs": [],
   "source": [
    "# Reload modules automatically\n",
    "# https://ipython.readthedocs.io/en/stable/config/extensions/autoreload.html\n",
    "%load_ext autoreload\n",
    "%autoreload 2"
   ]
  },
  {
   "cell_type": "code",
   "execution_count": 2,
   "metadata": {},
   "outputs": [
    {
     "name": "stderr",
     "output_type": "stream",
     "text": [
      "WARNING:root:Cuda kernels could not loaded -> no CUDA support!\n",
      "WARNING:root:The OGB package is out of date. Your version is 1.3.2, while the latest version is 1.3.3.\n"
     ]
    }
   ],
   "source": [
    "import logging\n",
    "import math\n",
    "import sys\n",
    "\n",
    "import numpy as np\n",
    "import torch\n",
    "from strn_and_rbstness.attacks import Attack, create_attack\n",
    "from strn_and_rbstness.data import GraphDataset, split\n",
    "from strn_and_rbstness.helper.utils import accuracy, count_edges\n",
    "from strn_and_rbstness.models import create_model\n",
    "from strn_and_rbstness.train import _train\n",
    "from common import CSBM\n",
    "\n",
    "logger = logging.getLogger()\n",
    "logger.setLevel(logging.INFO)"
   ]
  },
  {
   "cell_type": "markdown",
   "metadata": {},
   "source": [
    "## Sample CSBM"
   ]
  },
  {
   "cell_type": "code",
   "execution_count": 82,
   "metadata": {},
   "outputs": [
    {
     "name": "stdout",
     "output_type": "stream",
     "text": [
      "Dim: 47\n"
     ]
    }
   ],
   "source": [
    "seed = 0\n",
    "n = 3000\n",
    "avg_intra_degree = 1.5 * 2 # intra_edges_per_node * 2\n",
    "avg_inter_degree = 0.5 * 2\n",
    "p = avg_intra_degree * 2 / (n - 1)\n",
    "q = avg_inter_degree * 2 / (n - 1)\n",
    "K = 0.5 # Defines distance between means of the gaußians in sigma-units\n",
    "sigma = 0.1\n",
    "d = round(n / math.log(n)**2)\n",
    "mu = np.array([K*sigma / (2 * d**0.5) for i in range(d)], dtype=np.float32)\n",
    "cov = sigma**2 * np.identity(d, dtype=np.float32)\n",
    "\n",
    "# X, A ~ CSBM(n, p, q, mu, cov)\n",
    "csbm = CSBM(p, q, mu, cov)\n",
    "X, A, y = csbm.sample(n, seed=0)\n",
    "#csbm.check_separabilities(X, A, y)\n",
    "print(f\"Dim: {d}\")"
   ]
  },
  {
   "cell_type": "markdown",
   "metadata": {},
   "source": [
    "## Configure GNN & Attack"
   ]
  },
  {
   "cell_type": "code",
   "execution_count": 83,
   "metadata": {},
   "outputs": [
    {
     "name": "stderr",
     "output_type": "stream",
     "text": [
      "INFO:root:Currently on gpu device cuda:0\n"
     ]
    }
   ],
   "source": [
    "model_params = dict(\n",
    "    label=\"GCN\",\n",
    "    model=\"DenseGCN\",\n",
    "    n_filters=64,\n",
    ")\n",
    "train_params = dict(\n",
    "    loss_type=\"CE\",\n",
    "    lr=1e-2,\n",
    "    weight_decay=1e-3,\n",
    "    patience=300,\n",
    "    max_epochs=3000,\n",
    "    use_selftrain = False, \n",
    "    use_advtrain = False,\n",
    ")\n",
    "attack = \"PGD\"\n",
    "attack_params = dict(\n",
    "    epochs=200,\n",
    "    base_lr=1e-2,\n",
    "    scale_lr_with_n_attacked_edges=True,\n",
    "    loss_type=\"tanhMargin\" # or tanhMargin or CW\n",
    ")\n",
    "epsilon = 0.05\n",
    "\n",
    "# Other\n",
    "split_params = {\n",
    "    \"strategy\": \"normal\", # or \"custom\"\n",
    "    \"p_trn\": 1,\n",
    "    \"p_tst\": 0, # \"normal\" uses 1 - p_trn, only for custom split strategy\n",
    "    \"p_selftrn\": 0 # Refers to unlabeled data, which is not test data, \n",
    "                    # only for custom split strategy\n",
    "}\n",
    "verbosity_params = dict(\n",
    "    display_steps = 100\n",
    ")   \n",
    "# Device\n",
    "device = 0\n",
    "if not torch.cuda.is_available():\n",
    "    device == \"cpu\", \"CUDA is not availble, set device to 'cpu'\"\n",
    "else:\n",
    "    device = torch.device(f\"cuda:{device}\")\n",
    "    logging.info(f\"Currently on gpu device {device}\")"
   ]
  },
  {
   "cell_type": "markdown",
   "metadata": {},
   "source": [
    "#### Train GNN"
   ]
  },
  {
   "cell_type": "code",
   "execution_count": 84,
   "metadata": {},
   "outputs": [
    {
     "name": "stderr",
     "output_type": "stream",
     "text": [
      "INFO:root:\n",
      "Epoch    0: loss_train: 0.69287, loss_val: 0.69271, acc_train: 0.52502, acc_val: 0.52099\n",
      "INFO:root:\n",
      "Epoch  100: loss_train: 0.52091, loss_val: 0.58610, acc_train: 0.76384, acc_val: 0.70153\n",
      "INFO:root:\n",
      "Epoch  200: loss_train: 0.48793, loss_val: 0.57483, acc_train: 0.78319, acc_val: 0.70286\n",
      "INFO:root:\n",
      "Epoch  300: loss_train: 0.48668, loss_val: 0.57214, acc_train: 0.78452, acc_val: 0.71019\n",
      "INFO:root:\n",
      "Epoch  400: loss_train: 0.47780, loss_val: 0.57490, acc_train: 0.79053, acc_val: 0.70020\n",
      "INFO:root:\n",
      "Epoch  500: loss_train: 0.47654, loss_val: 0.57453, acc_train: 0.78652, acc_val: 0.70620\n",
      "INFO:root:\n",
      "Epoch  600: loss_train: 0.47574, loss_val: 0.57695, acc_train: 0.78052, acc_val: 0.69887\n",
      "INFO:root:\n",
      "Epoch  700: loss_train: 0.48070, loss_val: 0.57645, acc_train: 0.78252, acc_val: 0.70353\n",
      "INFO:root:\n",
      "Epoch  800: loss_train: 0.47390, loss_val: 0.56654, acc_train: 0.79320, acc_val: 0.71019\n",
      "INFO:root:\n",
      "Epoch  900: loss_train: 0.47480, loss_val: 0.56654, acc_train: 0.78519, acc_val: 0.71153\n",
      "INFO:root:\n",
      "Epoch 1000: loss_train: 0.47594, loss_val: 0.56349, acc_train: 0.79586, acc_val: 0.71419\n",
      "INFO:root:\n",
      "Epoch 1100: loss_train: 0.47209, loss_val: 0.56761, acc_train: 0.79520, acc_val: 0.70620\n",
      "INFO:root:\n",
      "Epoch  865: loss_train: 0.46860, loss_val: 0.55904, acc_train: 0.80254, acc_val: 0.71752\n"
     ]
    }
   ],
   "source": [
    "torch.manual_seed(seed)\n",
    "np.random.seed(seed)\n",
    "split_ids = split(y, split_params, seed)\n",
    "X_gpu = torch.tensor(X, dtype=torch.float32, device=device)\n",
    "A_gpu = torch.tensor(A, dtype=torch.float32, device=device)\n",
    "y_gpu = torch.tensor(y, device=device)\n",
    "graph = GraphDataset((X_gpu, A_gpu, y_gpu), split_ids)\n",
    "model_params = dict(**model_params, \n",
    "                    n_features=graph.get_n_features(), \n",
    "                    n_classes=graph.get_n_classes())\n",
    "model = create_model(model_params).to(device)\n",
    "statistics = _train(model, graph, train_params, verbosity_params, None)\n",
    "best_epoch = np.argmin(statistics[1])"
   ]
  },
  {
   "cell_type": "code",
   "execution_count": 85,
   "metadata": {},
   "outputs": [
    {
     "name": "stdout",
     "output_type": "stream",
     "text": [
      "0.7583333253860474\n"
     ]
    }
   ],
   "source": [
    "idx_all = np.arange(len(y))\n",
    "model.eval()\n",
    "logits = model(X_gpu, A_gpu)\n",
    "acc_trn = accuracy(logits, y_gpu)\n",
    "print(acc_trn)"
   ]
  },
  {
   "cell_type": "markdown",
   "metadata": {},
   "source": [
    "#### Attack GNN"
   ]
  },
  {
   "cell_type": "code",
   "execution_count": 86,
   "metadata": {},
   "outputs": [
    {
     "name": "stdout",
     "output_type": "stream",
     "text": [
      "#Edges: 6206 -> budget: 310\n",
      "Accuracy: 0.6576666831970215\n"
     ]
    }
   ],
   "source": [
    "adversary = create_attack(attack, attr=X_gpu, adj=A_gpu, labels=y_gpu, \n",
    "                            model=model, idx_attack=idx_all, device=device, \n",
    "                            binary_attr=False,\n",
    "                            make_undirected=True, \n",
    "                            **attack_params)\n",
    "m  = count_edges(A_gpu, idx_all)\n",
    "n_perturbations = int(round(epsilon * m))\n",
    "print(f\"#Edges: {m} -> budget: {n_perturbations}\")\n",
    "adversary.attack(n_perturbations, _run=None)\n",
    "A_pert, X_pert = adversary.get_pertubations()\n",
    "logits, acc = Attack.evaluate_global(model, X_pert, A_pert, y_gpu, idx_all)\n",
    "print(f\"Accuracy: {acc}\")"
   ]
  },
  {
   "cell_type": "code",
   "execution_count": 87,
   "metadata": {},
   "outputs": [],
   "source": [
    "logits = model(X_gpu, A_gpu)\n",
    "correct = logits.argmax(1) == y_gpu\n",
    "logits_pert = model(X_pert, A_pert)\n",
    "correct_pert = logits_pert.argmax(1) == y_gpu"
   ]
  },
  {
   "cell_type": "code",
   "execution_count": 88,
   "metadata": {},
   "outputs": [
    {
     "name": "stdout",
     "output_type": "stream",
     "text": [
      "Correctly Classified: 2275\n",
      "Correctly Classified Pert: 1973\n",
      "Still correct after perturbation: 1959\n",
      "Flipped Predictions: 316\n"
     ]
    }
   ],
   "source": [
    "print(f\"Correctly Classified: {sum(correct)}\")\n",
    "print(f\"Correctly Classified Pert: {sum(correct_pert)}\")\n",
    "correct_after_pert = correct[correct] == correct_pert[correct]\n",
    "print(f\"Still correct after perturbation: {sum(correct_after_pert)}\")\n",
    "print(f\"Flipped Predictions: {sum(correct) - sum(correct_after_pert)}\")\n"
   ]
  },
  {
   "cell_type": "markdown",
   "metadata": {},
   "source": [
    "#### Eval Separability"
   ]
  },
  {
   "cell_type": "code",
   "execution_count": 89,
   "metadata": {},
   "outputs": [
    {
     "name": "stdout",
     "output_type": "stream",
     "text": [
      "Feature Separability:\n",
      "n_corr: 1854\n",
      "n_wrong: 1146\n",
      "Structure Separability:\n",
      "n_corr: 2549\n",
      "n_wrong: 451\n",
      "Likelihood Separability:\n",
      "n_corr: 2581\n",
      "n_wrong: 419\n"
     ]
    }
   ],
   "source": [
    "csbm.check_separabilities(X, A, y)"
   ]
  },
  {
   "cell_type": "code",
   "execution_count": 90,
   "metadata": {},
   "outputs": [
    {
     "name": "stdout",
     "output_type": "stream",
     "text": [
      "Feature Separability:\n",
      "n_corr: 1854\n",
      "n_wrong: 1146\n",
      "Structure Separability:\n",
      "n_corr: 2463\n",
      "n_wrong: 537\n",
      "Likelihood Separability:\n",
      "n_corr: 2525\n",
      "n_wrong: 475\n"
     ]
    }
   ],
   "source": [
    "csbm.check_separabilities(X, A_pert.to_dense().cpu().numpy(), y)"
   ]
  },
  {
   "cell_type": "markdown",
   "metadata": {},
   "source": []
  }
 ],
 "metadata": {
  "interpreter": {
   "hash": "c4e45668083cbb37b7048c0587d1e2fbbeab0bbf8f83b3643c89a090a0af4084"
  },
  "kernelspec": {
   "display_name": "Python 3.9.7 ('py397')",
   "language": "python",
   "name": "python3"
  },
  "language_info": {
   "codemirror_mode": {
    "name": "ipython",
    "version": 3
   },
   "file_extension": ".py",
   "mimetype": "text/x-python",
   "name": "python",
   "nbconvert_exporter": "python",
   "pygments_lexer": "ipython3",
   "version": "3.9.7"
  },
  "orig_nbformat": 4
 },
 "nbformat": 4,
 "nbformat_minor": 2
}
