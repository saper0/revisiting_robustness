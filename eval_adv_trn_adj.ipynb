{
 "cells": [
  {
   "cell_type": "code",
   "execution_count": 25,
   "metadata": {},
   "outputs": [
    {
     "name": "stdout",
     "output_type": "stream",
     "text": [
      "The autoreload extension is already loaded. To reload it, use:\n",
      "  %reload_ext autoreload\n"
     ]
    }
   ],
   "source": [
    "# Reload modules automatically\n",
    "# https://ipython.readthedocs.io/en/stable/config/extensions/autoreload.html\n",
    "%load_ext autoreload\n",
    "%autoreload 2"
   ]
  },
  {
   "cell_type": "code",
   "execution_count": 26,
   "metadata": {},
   "outputs": [],
   "source": [
    "import logging\n",
    "import math\n",
    "\n",
    "import numpy as np\n",
    "import torch\n",
    "from strn_and_rbstness.attacks import Attack, create_attack\n",
    "from strn_and_rbstness.data import GraphDataset, split\n",
    "from strn_and_rbstness.helper.utils import accuracy, count_edges\n",
    "from strn_and_rbstness.models import create_model\n",
    "from strn_and_rbstness.train import _train\n",
    "from common import CSBM\n",
    "\n",
    "logger = logging.getLogger()\n",
    "logger.setLevel(logging.INFO)"
   ]
  },
  {
   "cell_type": "markdown",
   "metadata": {},
   "source": [
    "## Sample CSBM"
   ]
  },
  {
   "cell_type": "code",
   "execution_count": 22,
   "metadata": {},
   "outputs": [
    {
     "name": "stdout",
     "output_type": "stream",
     "text": [
      "Dim: 21\n"
     ]
    }
   ],
   "source": [
    "seed = 0\n",
    "n = 1000\n",
    "avg_intra_degree = 1.5 * 2 # intra_edges_per_node * 2\n",
    "avg_inter_degree = 0.5 * 2\n",
    "p = avg_intra_degree * 2 / (n - 1)\n",
    "q = avg_inter_degree * 2 / (n - 1)\n",
    "K = 0.5 # Defines distance between means of the gaußians in sigma-units\n",
    "sigma = 0.1\n",
    "d = round(n / math.log(n)**2)\n",
    "mu = np.array([K*sigma / (2 * d**0.5) for i in range(d)], dtype=np.float32)\n",
    "cov = sigma**2 * np.identity(d, dtype=np.float32)\n",
    "\n",
    "# X, A ~ CSBM(n, p, q, mu, cov)\n",
    "csbm = CSBM(p, q, mu, cov)\n",
    "X, A, y = csbm.sample(n, seed=0)\n",
    "#csbm.check_separabilities(X, A, y)\n",
    "print(f\"Dim: {d}\")"
   ]
  },
  {
   "cell_type": "code",
   "execution_count": 24,
   "metadata": {},
   "outputs": [
    {
     "name": "stdout",
     "output_type": "stream",
     "text": [
      "(496, 21)\n",
      "(496,)\n",
      "[0.89766749 0.88119925 0.87545127 0.86959216 0.84987773 0.84460017\n",
      " 0.84241947 0.84066322 0.83618692 0.81684797]\n",
      "[466 194 227 241 366 302 391  24 469  64]\n",
      "[0.89766749 0.88119925 0.87545127 0.86959216 0.84987773 0.84460017\n",
      " 0.84241947 0.84066322 0.83618692 0.81684797]\n"
     ]
    }
   ],
   "source": [
    "i = 1\n",
    "pot_neighbours_different = np.arange(0, n)[y != y[i]]\n",
    "pot_neighbours_same = np.arange(0, n)[y == y[i]]\n",
    "X_diff = X[i,:] - X[pot_neighbours_different,:]\n",
    "X_diff_same = X[i,:] - X[pot_neighbours_same,:]\n",
    "X_dist = np.linalg.norm(X_diff, ord=2, axis=1)\n",
    "X_dist_same = np.linalg.norm(X_diff_same, ord=2, axis=1)\n",
    "print(X_diff.shape)\n",
    "print(X_dist.shape)\n",
    "print(np.flip(np.sort(X_dist))[:10])\n",
    "print(np.flip(np.argsort(X_dist))[:10])\n",
    "print(X_dist[np.flip(np.argsort(X_dist))[:10]])\n",
    "#print(np.flip(np.sort(X_dist_same))[:100])"
   ]
  },
  {
   "cell_type": "markdown",
   "metadata": {},
   "source": [
    "## Configure GNN & Attack"
   ]
  },
  {
   "cell_type": "code",
   "execution_count": 103,
   "metadata": {},
   "outputs": [
    {
     "name": "stderr",
     "output_type": "stream",
     "text": [
      "INFO:root:Currently on gpu device cuda:0\n"
     ]
    }
   ],
   "source": [
    "\"\"\"\n",
    "model_params = dict(\n",
    "    label=\"GCN\",\n",
    "    model=\"GCN\", #GCN or DenseGCN\n",
    "    n_filters=64,\n",
    "    dropout=0.5\n",
    ")\n",
    "\"\"\"\n",
    "model_params = dict(\n",
    "    label=\"APPNP\",\n",
    "    model=\"APPNP\", #GCN or DenseGCN\n",
    "    n_hidden=64,\n",
    "    dropout=0.,\n",
    "    K=10,\n",
    "    alpha=0.1\n",
    ")\n",
    "\"\"\"\n",
    "train_params = dict(\n",
    "    loss_type=\"CE\",\n",
    "    lr=1e-2,\n",
    "    weight_decay=1e-3,\n",
    "    patience=300,\n",
    "    max_epochs=3000,\n",
    "    use_selftrain = False, \n",
    "    use_advtrain = False,\n",
    ")\n",
    "\"\"\"\n",
    "train_params = dict(\n",
    "    loss_type=\"CE\",\n",
    "    lr=1e-2,\n",
    "    weight_decay=1e-3,\n",
    "    patience=300,\n",
    "    max_epochs=1000,\n",
    "    use_selftrain = False, \n",
    "    use_advtrain = False,\n",
    ")\n",
    "\"\"\"\n",
    "attack = \"PGD\"\n",
    "attack_params = dict(\n",
    "    epochs=200,\n",
    "    base_lr=1e-2,\n",
    "    scale_lr_with_n_attacked_edges=True,\n",
    "    loss_type=\"tanhMargin\" # CE or tanhMargin or CW\n",
    ")\n",
    "\"\"\"\n",
    "attack = 'PRBCD'\n",
    "attack_params = dict(\n",
    "    epochs=500,\n",
    "    fine_tune_epochs=100,\n",
    "    keep_heuristic=\"WeightOnly\",\n",
    "    search_space_size=1_000,\n",
    "    do_synchronize=True,\n",
    "    loss_type=\"tanhMargin\"\n",
    ")\n",
    "epsilon = 0.05\n",
    "\n",
    "# Other\n",
    "split_params = {\n",
    "    \"strategy\": \"normal\", # or \"custom\"\n",
    "    \"p_trn\": 1,\n",
    "    \"p_tst\": 0, # \"normal\" uses 1 - p_trn, only for custom split strategy\n",
    "    \"p_selftrn\": 0 # Refers to unlabeled data, which is not test data, \n",
    "                    # only for custom split strategy\n",
    "}\n",
    "verbosity_params = dict(\n",
    "    display_steps = 100\n",
    ")   \n",
    "# Device\n",
    "device = 0\n",
    "if not torch.cuda.is_available():\n",
    "    device == \"cpu\", \"CUDA is not availble, set device to 'cpu'\"\n",
    "else:\n",
    "    device = torch.device(f\"cuda:{device}\")\n",
    "    logging.info(f\"Currently on gpu device {device}\")\n",
    "attack_params[\"data_device\"] = device"
   ]
  },
  {
   "cell_type": "markdown",
   "metadata": {},
   "source": [
    "#### Train GNN"
   ]
  },
  {
   "cell_type": "code",
   "execution_count": 104,
   "metadata": {},
   "outputs": [
    {
     "name": "stderr",
     "output_type": "stream",
     "text": [
      "INFO:root:\n",
      "Epoch    0: loss_train: 0.69337, loss_val: 0.69340, acc_train: 0.50450, acc_val: 0.48452\n",
      "INFO:root:\n",
      "Epoch  100: loss_train: 0.61028, loss_val: 0.63504, acc_train: 0.68268, acc_val: 0.66034\n",
      "INFO:root:\n",
      "Epoch  200: loss_train: 0.55015, loss_val: 0.62300, acc_train: 0.75275, acc_val: 0.67233\n",
      "INFO:root:\n",
      "Epoch  300: loss_train: 0.53251, loss_val: 0.61919, acc_train: 0.76777, acc_val: 0.68232\n",
      "INFO:root:\n",
      "Epoch  400: loss_train: 0.52566, loss_val: 0.61773, acc_train: 0.77377, acc_val: 0.68132\n",
      "INFO:root:\n",
      "Epoch  500: loss_train: 0.52176, loss_val: 0.61517, acc_train: 0.78278, acc_val: 0.68132\n",
      "INFO:root:\n",
      "Epoch  600: loss_train: 0.51829, loss_val: 0.61405, acc_train: 0.78979, acc_val: 0.67333\n",
      "INFO:root:\n",
      "Epoch  700: loss_train: 0.51706, loss_val: 0.61308, acc_train: 0.78979, acc_val: 0.67732\n",
      "INFO:root:\n",
      "Epoch  800: loss_train: 0.51657, loss_val: 0.61247, acc_train: 0.78679, acc_val: 0.67632\n",
      "INFO:root:\n",
      "Epoch  900: loss_train: 0.51607, loss_val: 0.61214, acc_train: 0.78879, acc_val: 0.67632\n",
      "INFO:root:\n",
      "Epoch  988: loss_train: 0.51589, loss_val: 0.61147, acc_train: 0.78879, acc_val: 0.67732\n"
     ]
    }
   ],
   "source": [
    "torch.manual_seed(seed)\n",
    "np.random.seed(seed)\n",
    "split_ids = split(y, split_params, seed)\n",
    "X_gpu = torch.tensor(X, dtype=torch.float32, device=device)\n",
    "A_gpu = torch.tensor(A, dtype=torch.float32, device=device)\n",
    "y_gpu = torch.tensor(y, device=device)\n",
    "graph = GraphDataset((X_gpu, A_gpu, y_gpu), split_ids)\n",
    "model_params = dict(**model_params, \n",
    "                    n_features=graph.get_n_features(), \n",
    "                    n_classes=graph.get_n_classes())\n",
    "model = create_model(model_params).to(device)\n",
    "statistics = _train(model, graph, train_params, verbosity_params, None)\n",
    "#best_epoch = np.argmin(statistics[1])"
   ]
  },
  {
   "cell_type": "code",
   "execution_count": 98,
   "metadata": {},
   "outputs": [
    {
     "name": "stdout",
     "output_type": "stream",
     "text": [
      "0.7957957983016968\n",
      "0.687312662601471\n"
     ]
    }
   ],
   "source": [
    "idx_trn, idx_val, _, _ = split_ids\n",
    "idx_all = np.arange(len(y))\n",
    "model.eval()\n",
    "logits = model(X_gpu, A_gpu)\n",
    "acc_trn = accuracy(logits[idx_trn], y_gpu[idx_trn])\n",
    "acc_val = accuracy(logits[idx_val], y_gpu[idx_val])\n",
    "print(acc_trn)\n",
    "print(acc_val)"
   ]
  },
  {
   "cell_type": "markdown",
   "metadata": {},
   "source": [
    "#### Attack GNN"
   ]
  },
  {
   "cell_type": "code",
   "execution_count": 105,
   "metadata": {},
   "outputs": [
    {
     "name": "stderr",
     "output_type": "stream",
     "text": [
      "INFO:root:\n",
      "Before the attack - Loss: -0.3784329891204834 Accuracy: 78.879 %\n",
      "\n"
     ]
    },
    {
     "name": "stdout",
     "output_type": "stream",
     "text": [
      "#Edges: 2064 -> budget: 103\n"
     ]
    },
    {
     "name": "stderr",
     "output_type": "stream",
     "text": [
      "  0%|          | 0/500 [00:00<?, ?it/s]INFO:root:\n",
      "Epoch: 0 Loss: -0.3784329891204834 Accuracy: 78.579 %\n",
      "\n",
      "  4%|▍         | 20/500 [00:00<00:11, 42.01it/s]INFO:root:\n",
      "Epoch: 20 Loss: -0.3049657344818115 Accuracy: 74.274 %\n",
      "\n",
      "  8%|▊         | 38/500 [00:00<00:12, 38.14it/s]INFO:root:\n",
      "Epoch: 40 Loss: -0.29116836190223694 Accuracy: 72.973 %\n",
      "\n",
      " 12%|█▏        | 58/500 [00:01<00:11, 37.60it/s]INFO:root:\n",
      "Epoch: 60 Loss: -0.2788376808166504 Accuracy: 72.272 %\n",
      "\n",
      " 16%|█▌        | 78/500 [00:02<00:11, 37.26it/s]INFO:root:\n",
      "Epoch: 80 Loss: -0.27123579382896423 Accuracy: 71.471 %\n",
      "\n",
      " 20%|█▉        | 98/500 [00:02<00:10, 36.87it/s]INFO:root:\n",
      "Epoch: 100 Loss: -0.26667264103889465 Accuracy: 71.972 %\n",
      "\n",
      " 24%|██▎       | 118/500 [00:03<00:10, 36.77it/s]INFO:root:\n",
      "Epoch: 120 Loss: -0.2635248899459839 Accuracy: 71.271 %\n",
      "\n",
      " 28%|██▊       | 138/500 [00:03<00:09, 36.37it/s]INFO:root:\n",
      "Epoch: 140 Loss: -0.2615368962287903 Accuracy: 70.971 %\n",
      "\n",
      " 32%|███▏      | 158/500 [00:04<00:09, 36.38it/s]INFO:root:\n",
      "Epoch: 160 Loss: -0.2600722908973694 Accuracy: 70.671 %\n",
      "\n",
      " 36%|███▌      | 178/500 [00:04<00:08, 37.29it/s]INFO:root:\n",
      "Epoch: 180 Loss: -0.258787602186203 Accuracy: 70.771 %\n",
      "\n",
      " 40%|███▉      | 198/500 [00:05<00:08, 37.53it/s]INFO:root:\n",
      "Epoch: 200 Loss: -0.2574334144592285 Accuracy: 70.671 %\n",
      "\n",
      " 44%|████▎     | 218/500 [00:05<00:07, 37.18it/s]INFO:root:\n",
      "Epoch: 220 Loss: -0.25624120235443115 Accuracy: 70.270 %\n",
      "\n",
      " 48%|████▊     | 238/500 [00:06<00:07, 36.59it/s]INFO:root:\n",
      "Epoch: 240 Loss: -0.2552337646484375 Accuracy: 70.070 %\n",
      "\n",
      " 52%|█████▏    | 258/500 [00:06<00:06, 36.49it/s]INFO:root:\n",
      "Epoch: 260 Loss: -0.25386059284210205 Accuracy: 70.070 %\n",
      "\n",
      " 56%|█████▌    | 278/500 [00:07<00:06, 36.59it/s]INFO:root:\n",
      "Epoch: 280 Loss: -0.253126323223114 Accuracy: 69.970 %\n",
      "\n",
      " 60%|█████▉    | 298/500 [00:08<00:05, 36.62it/s]INFO:root:\n",
      "Epoch: 300 Loss: -0.25238150358200073 Accuracy: 70.070 %\n",
      "\n",
      " 64%|██████▎   | 318/500 [00:08<00:04, 37.41it/s]INFO:root:\n",
      "Epoch: 320 Loss: -0.2516966760158539 Accuracy: 70.370 %\n",
      "\n",
      " 68%|██████▊   | 338/500 [00:09<00:04, 36.48it/s]INFO:root:\n",
      "Epoch: 340 Loss: -0.25132858753204346 Accuracy: 70.270 %\n",
      "\n",
      " 72%|███████▏  | 358/500 [00:09<00:03, 36.12it/s]INFO:root:\n",
      "Epoch: 360 Loss: -0.25104057788848877 Accuracy: 69.870 %\n",
      "\n",
      " 76%|███████▌  | 378/500 [00:10<00:03, 35.52it/s]INFO:root:\n",
      "Epoch: 380 Loss: -0.2507995069026947 Accuracy: 69.970 %\n",
      "\n",
      " 80%|███████▉  | 398/500 [00:10<00:02, 35.27it/s]INFO:root:Loading search space of epoch 358 (accuarcy=0.6986986994743347) for fine tuning\n",
      "\n",
      "INFO:root:\n",
      "Epoch: 400 Loss: -0.2510506808757782 Accuracy: 69.870 %\n",
      "\n",
      " 84%|████████▎ | 418/500 [00:11<00:02, 37.53it/s]INFO:root:\n",
      "Epoch: 420 Loss: -0.25095126032829285 Accuracy: 69.870 %\n",
      "\n",
      " 88%|████████▊ | 438/500 [00:11<00:01, 38.47it/s]INFO:root:\n",
      "Epoch: 440 Loss: -0.25090745091438293 Accuracy: 69.870 %\n",
      "\n",
      " 92%|█████████▏| 458/500 [00:12<00:01, 38.59it/s]INFO:root:\n",
      "Epoch: 460 Loss: -0.25087571144104004 Accuracy: 69.870 %\n",
      "\n",
      " 96%|█████████▌| 478/500 [00:12<00:00, 38.37it/s]INFO:root:\n",
      "Epoch: 480 Loss: -0.2508479356765747 Accuracy: 69.870 %\n",
      "\n",
      "100%|██████████| 500/500 [00:13<00:00, 37.21it/s]\n",
      "INFO:root:4-th sampling: too many samples 108.0\n",
      "INFO:root:5-th sampling: too many samples 106.0\n",
      "INFO:root:6-th sampling: too many samples 110.0\n",
      "INFO:root:8-th sampling: too many samples 116.0\n",
      "INFO:root:9-th sampling: too many samples 110.0\n",
      "INFO:root:13-th sampling: too many samples 106.0\n",
      "INFO:root:14-th sampling: too many samples 106.0\n",
      "INFO:root:15-th sampling: too many samples 111.0\n",
      "INFO:root:17-th sampling: too many samples 121.0\n",
      "INFO:root:18-th sampling: too many samples 108.0\n",
      "INFO:root:19-th sampling: too many samples 109.0\n"
     ]
    },
    {
     "name": "stdout",
     "output_type": "stream",
     "text": [
      "Accuracy: 0.7217217087745667\n"
     ]
    }
   ],
   "source": [
    "idx_trn, _, _, _ = split_ids\n",
    "adversary = create_attack(attack, attr=X_gpu, adj=A_gpu, labels=y_gpu, \n",
    "                            model=model, idx_attack=idx_trn, device=device, \n",
    "                            binary_attr=False,\n",
    "                            make_undirected=True, \n",
    "                            **attack_params)\n",
    "m  = count_edges(A_gpu, idx_trn)\n",
    "n_perturbations = int(round(epsilon * m))\n",
    "print(f\"#Edges: {m} -> budget: {n_perturbations}\")\n",
    "adversary.attack(n_perturbations, _run=None)\n",
    "A_pert, X_pert = adversary.get_pertubations()\n",
    "logits, acc = Attack.evaluate_global(model, X_pert, A_pert, y_gpu, idx_trn)\n",
    "print(f\"Accuracy: {acc}\")"
   ]
  },
  {
   "cell_type": "code",
   "execution_count": 106,
   "metadata": {},
   "outputs": [],
   "source": [
    "logits = model(X_gpu, A_gpu)\n",
    "correct = (logits.argmax(1) == y_gpu)[idx_trn]\n",
    "logits_pert = model(X_pert, A_pert)\n",
    "correct_pert = (logits_pert.argmax(1) == y_gpu)[idx_trn]"
   ]
  },
  {
   "cell_type": "code",
   "execution_count": 107,
   "metadata": {},
   "outputs": [
    {
     "name": "stdout",
     "output_type": "stream",
     "text": [
      "Correctly Classified: 788\n",
      "Correctly Classified Pert: 721\n",
      "Still correct after perturbation: 717\n",
      "Flipped Predictions: 71\n"
     ]
    }
   ],
   "source": [
    "print(f\"Correctly Classified: {sum(correct)}\")\n",
    "print(f\"Correctly Classified Pert: {sum(correct_pert)}\")\n",
    "correct_after_pert = correct[correct] == correct_pert[correct]\n",
    "print(f\"Still correct after perturbation: {sum(correct_after_pert)}\")\n",
    "flipped = correct[correct] != correct_pert[correct]\n",
    "print(f\"Flipped Predictions: {sum(flipped)}\")"
   ]
  },
  {
   "cell_type": "markdown",
   "metadata": {},
   "source": [
    "#### Eval Separability"
   ]
  },
  {
   "cell_type": "code",
   "execution_count": 108,
   "metadata": {},
   "outputs": [
    {
     "name": "stdout",
     "output_type": "stream",
     "text": [
      "Percentage of flipped predictions not adversarial: 0.07042253017425537\n"
     ]
    }
   ],
   "source": [
    "ids = np.arange(n)[idx_trn][correct.cpu().numpy()][flipped.cpu().numpy()]\n",
    "n_corr, n_wrong = csbm.likelihood_separability(X, A, y, ids)\n",
    "n_corr_pert, n_wrong_pert = csbm.likelihood_separability(X, A_pert.to_dense().cpu().numpy(), y, ids)\n",
    "p_not_adv = (n_wrong_pert - n_wrong) / sum(flipped)\n",
    "print(f\"Percentage of flipped predictions not adversarial: {p_not_adv}\")"
   ]
  },
  {
   "cell_type": "code",
   "execution_count": 70,
   "metadata": {},
   "outputs": [
    {
     "name": "stdout",
     "output_type": "stream",
     "text": [
      "Feature Separability:\n",
      "n_corr: 15\n",
      "n_wrong: 27\n",
      "Structure Separability:\n",
      "n_corr: 37\n",
      "n_wrong: 5\n",
      "Likelihood Separability:\n",
      "n_corr: 38\n",
      "n_wrong: 4\n",
      "Feature Separability:\n",
      "n_corr: 15\n",
      "n_wrong: 27\n",
      "Structure Separability:\n",
      "n_corr: 33\n",
      "n_wrong: 9\n",
      "Likelihood Separability:\n",
      "n_corr: 33\n",
      "n_wrong: 9\n"
     ]
    }
   ],
   "source": [
    "ids = np.arange(n)[idx_trn][correct.cpu().numpy()][flipped.cpu().numpy()]\n",
    "csbm.check_separabilities(X, A, y, ids)\n",
    "csbm.check_separabilities(X, A_pert.to_dense().cpu().numpy(), y, ids)"
   ]
  },
  {
   "cell_type": "code",
   "execution_count": null,
   "metadata": {},
   "outputs": [],
   "source": []
  },
  {
   "cell_type": "markdown",
   "metadata": {},
   "source": [
    "# Experiment 3 seeds, APPNP, PR-PGD"
   ]
  },
  {
   "cell_type": "code",
   "execution_count": 34,
   "metadata": {},
   "outputs": [],
   "source": [
    "def get_sbm_model(n):\n",
    "    avg_intra_degree = 1.5 * 2 # intra_edges_per_node * 2\n",
    "    avg_inter_degree = 0.5 * 2\n",
    "    p = avg_intra_degree * 2 / (n - 1)\n",
    "    q = avg_inter_degree * 2 / (n - 1)\n",
    "    K = 0.5 # Defines distance between means of the gaußians in sigma-units\n",
    "    sigma = 0.1\n",
    "    d = round(n / math.log(n)**2)\n",
    "    mu = np.array([K*sigma / (2 * d**0.5) for i in range(d)], dtype=np.float32)\n",
    "    cov = sigma**2 * np.identity(d, dtype=np.float32)\n",
    "    return CSBM(p, q, mu, cov)\n",
    "\n",
    "def evaluate(likelihood_change_l, bayes_acc_trn_l, bayes_acc_val_l, \n",
    "             gnn_acc_trn_l, gnn_acc_val_l, flipped_l, flipped_not_adv_l):\n",
    "    likelihood_change_mean = np.mean(likelihood_change_l) * 100\n",
    "    likelihood_change_std = np.std(likelihood_change_l) * 100\n",
    "    bayes_acc_trn_mean = np.mean(bayes_acc_trn_l) * 100 \n",
    "    bayes_acc_trn_std = np.std(bayes_acc_trn_l) * 100\n",
    "    bayes_acc_val_mean = np.mean(bayes_acc_val_l) * 100 \n",
    "    bayes_acc_val_std = np.std(bayes_acc_val_l) * 100\n",
    "    gnn_acc_trn_mean = np.mean(gnn_acc_trn_l) * 100\n",
    "    gnn_acc_trn_std = np.std(gnn_acc_trn_l) * 100\n",
    "    gnn_acc_val_mean = np.mean(gnn_acc_val_l) * 100\n",
    "    gnn_acc_val_std = np.std(gnn_acc_val_l) * 100\n",
    "    flipped_mean = np.mean(flipped_l)\n",
    "    flipped_std = np.std(flipped_l)\n",
    "    flipped_not_adv_mean = np.mean(flipped_not_adv_l)\n",
    "    flipped_not_adv_std = np.std(flipped_not_adv_l)\n",
    "    print(f\"Avg. Bayes Classification Error Trn: {bayes_acc_trn_mean:.2f}% +- {bayes_acc_trn_std:.2f}%\")\n",
    "    print(f\"Avg. Bayes Classification Error Val: {bayes_acc_val_mean:.2f}% +- {bayes_acc_val_std:.2f}%\")\n",
    "    print(f\"Avg. GNN Classification Error Trn: {gnn_acc_trn_mean:.2f}% +- {gnn_acc_trn_std:.2f}%\")\n",
    "    print(f\"Avg. GNN Classification Error Val: {gnn_acc_val_mean:.2f}% +- {gnn_acc_val_std:.2f}%\")\n",
    "    print(f\"Avg. Flipped Nodes: {flipped_mean:.1f} +- {flipped_std:.1f}\")\n",
    "    print(f\"Avg. Flipped Nodes violating BC-Criterion: {flipped_not_adv_mean:.1f} +- {flipped_not_adv_std:.1f}\")\n",
    "    print(f\"Avg. Flipped Nodes violating BC-Criterion: {likelihood_change_mean:.2f}% +- {likelihood_change_std:.2f}%\")\n",
    "\n",
    "def perform_experiment(n_s, seeds):\n",
    "    for n in n_s:\n",
    "        budget = -1\n",
    "        flipped_l = []\n",
    "        flipped_not_adv_l = []\n",
    "        likelihood_change_l = []\n",
    "        bayes_acc_l = []\n",
    "        bayes_acc_trn_l = []\n",
    "        bayes_acc_val_l = []\n",
    "        gnn_acc_trn_l = []\n",
    "        gnn_acc_val_l = []\n",
    "        for seed in seeds:\n",
    "            torch.manual_seed(seed)\n",
    "            np.random.seed(seed)\n",
    "\n",
    "            # X, A ~ CSBM(n, p, q, mu, cov)\n",
    "            csbm = get_sbm_model(n)\n",
    "            X, A, y = csbm.sample(n, seed)\n",
    "\n",
    "            # Train\n",
    "            split_ids = split(y, split_params, seed)\n",
    "            X_gpu = torch.tensor(X, dtype=torch.float32, device=device)\n",
    "            A_gpu = torch.tensor(A, dtype=torch.float32, device=device)\n",
    "            y_gpu = torch.tensor(y, device=device)\n",
    "            graph = GraphDataset((X_gpu, A_gpu, y_gpu), split_ids)\n",
    "            model_params_trn = dict(**model_params, \n",
    "                                    n_features=graph.get_n_features(), \n",
    "                                    n_classes=graph.get_n_classes())\n",
    "            model = create_model(model_params_trn).to(device)\n",
    "            statistics = _train(model, graph, train_params, verbosity_params, None)\n",
    "            \n",
    "            # Attack\n",
    "            idx_trn, idx_val, _, _ = split_ids\n",
    "            adversary = create_attack(attack, attr=X_gpu, adj=A_gpu, labels=y_gpu, \n",
    "                                    model=model, idx_attack=idx_trn, device=device, \n",
    "                                    binary_attr=False,\n",
    "                                    make_undirected=True, \n",
    "                                    display_step=301,\n",
    "                                    **attack_params)\n",
    "            m  = count_edges(A_gpu, idx_trn)\n",
    "            n_perturbations = int(round(epsilon * m))\n",
    "            budget = n_perturbations\n",
    "            print(f\"#Edges: {m} -> budget: {n_perturbations}\")\n",
    "            adversary.attack(n_perturbations, _run=None)\n",
    "            A_pert, X_pert = adversary.get_pertubations()\n",
    "            logits, acc = Attack.evaluate_global(model, X_pert, A_pert, y_gpu, idx_trn)\n",
    "            print(f\"Accuracy Attack (trn): {acc}\")\n",
    "\n",
    "            # Eval\n",
    "            # Bayes Classifier:\n",
    "            n_corr, n_wrong = csbm.likelihood_separability(X, A, y)\n",
    "            bayes_acc_l.append(n_corr / n)\n",
    "            n_corr, n_wrong = csbm.likelihood_separability(X, A, y, ids=idx_trn)\n",
    "            bayes_acc_trn_l.append(2 * n_corr / n )\n",
    "            n_corr, n_wrong = csbm.likelihood_separability(X, A, y, ids=idx_val)\n",
    "            bayes_acc_val_l.append(2 * n_corr / n)\n",
    "            # GNN Accuracies\n",
    "            model.eval()\n",
    "            logits = model(X_gpu, A_gpu)\n",
    "            acc_trn = accuracy(logits[idx_trn], y_gpu[idx_trn])\n",
    "            acc_val = accuracy(logits[idx_val], y_gpu[idx_val])\n",
    "            gnn_acc_trn_l.append(acc_trn)\n",
    "            gnn_acc_val_l.append(acc_val)\n",
    "            print(f\"Accuracy model (trn): {acc_trn}, (val): {acc_val}\")\n",
    "            # Count Flips violating Bayes Criterion\n",
    "            correct = (logits.argmax(1) == y_gpu)[idx_trn]\n",
    "            logits_pert = model(X_pert, A_pert)\n",
    "            correct_pert = (logits_pert.argmax(1) == y_gpu)[idx_trn]\n",
    "            flipped = correct[correct] != correct_pert[correct]\n",
    "\n",
    "            ids = np.arange(n)[idx_trn][correct.cpu().numpy()][flipped.cpu().numpy()]\n",
    "            ids_bayes_separable = []\n",
    "            for i in ids:\n",
    "                bayes_separable, _ = csbm.likelihood_separability(X, A, y, [i])\n",
    "                if bayes_separable:\n",
    "                    ids_bayes_separable.append(i)\n",
    "            n_corr_pert, n_wrong_pert = csbm.likelihood_separability(X, A_pert.to_dense().cpu().numpy(), y, ids_bayes_separable)\n",
    "            p_adv = n_corr_pert / sum(flipped).cpu()\n",
    "            p_not_adv = 1 - p_adv\n",
    "            flipped_l.append(sum(flipped).cpu())\n",
    "            flipped_not_adv_l.append(sum(flipped).cpu() - n_corr_pert)\n",
    "            likelihood_change_l.append(p_not_adv)\n",
    "        print(f\"Evaluting experiment with n={n}:\")\n",
    "        print(f\"Note: #Edges: {m} -> budget: {n_perturbations}\")\n",
    "        evaluate(likelihood_change_l, bayes_acc_trn_l, bayes_acc_val_l, \n",
    "                gnn_acc_trn_l, gnn_acc_val_l, flipped_l, flipped_not_adv_l)\n",
    "        print(f\"Likelihood_change_l: {likelihood_change_l}\")"
   ]
  },
  {
   "cell_type": "code",
   "execution_count": 35,
   "metadata": {},
   "outputs": [
    {
     "name": "stderr",
     "output_type": "stream",
     "text": [
      "INFO:root:Currently on gpu device cuda:0\n"
     ]
    }
   ],
   "source": [
    "model_params = dict(\n",
    "    label=\"APPNP\",\n",
    "    model=\"APPNP\", #GCN or DenseGCN\n",
    "    n_hidden=64,\n",
    "    dropout=0.,\n",
    "    K=10,\n",
    "    alpha=0.1\n",
    ")\n",
    "train_params = dict(\n",
    "    loss_type=\"CE\",\n",
    "    lr=1e-2,\n",
    "    weight_decay=1e-3,\n",
    "    patience=300,\n",
    "    max_epochs=1000,\n",
    "    use_selftrain = False, \n",
    "    use_advtrain = False,\n",
    ")\n",
    "attack = 'PRBCD'\n",
    "attack_params = dict(\n",
    "    epochs=300,\n",
    "    fine_tune_epochs=100,\n",
    "    keep_heuristic=\"WeightOnly\",\n",
    "    search_space_size=1_000,\n",
    "    do_synchronize=True,\n",
    "    loss_type=\"tanhMargin\"\n",
    ")\n",
    "\n",
    "# Other\n",
    "split_params = {\n",
    "    \"strategy\": \"normal\", # or \"custom\"\n",
    "    \"p_trn\": 1,\n",
    "    \"p_tst\": 0, # \"normal\" uses 1 - p_trn, only for custom split strategy\n",
    "    \"p_selftrn\": 0 # Refers to unlabeled data, which is not test data, \n",
    "                    # only for custom split strategy\n",
    "}\n",
    "verbosity_params = dict(\n",
    "    display_steps = 1001\n",
    ")   \n",
    "# Device\n",
    "device = 0\n",
    "if not torch.cuda.is_available():\n",
    "    device == \"cpu\", \"CUDA is not availble, set device to 'cpu'\"\n",
    "else:\n",
    "    device = torch.device(f\"cuda:{device}\")\n",
    "    logging.info(f\"Currently on gpu device {device}\")\n",
    "attack_params[\"data_device\"] = device"
   ]
  },
  {
   "cell_type": "code",
   "execution_count": 36,
   "metadata": {},
   "outputs": [
    {
     "name": "stderr",
     "output_type": "stream",
     "text": [
      "INFO:root:\n",
      "Epoch    0: loss_train: 0.69438, loss_val: 0.69506, acc_train: 0.50400, acc_val: 0.50400\n",
      "INFO:root:\n",
      "Epoch  937: loss_train: 0.49360, loss_val: 0.57912, acc_train: 0.77800, acc_val: 0.70800\n",
      "INFO:root:\n",
      "Before the attack - Loss: -0.4128348231315613 Accuracy: 77.000 %\n",
      "\n"
     ]
    },
    {
     "name": "stdout",
     "output_type": "stream",
     "text": [
      "#Edges: 1032 -> budget: 52\n"
     ]
    },
    {
     "name": "stderr",
     "output_type": "stream",
     "text": [
      "  0%|          | 0/300 [00:00<?, ?it/s]INFO:root:\n",
      "Epoch: 0 Loss: -0.4128347933292389 Accuracy: 76.600 %\n",
      "\n",
      " 66%|██████▌   | 197/300 [00:04<00:02, 46.11it/s]INFO:root:Loading search space of epoch 119 (accuarcy=0.6580000519752502) for fine tuning\n",
      "\n",
      "100%|██████████| 300/300 [00:06<00:00, 46.21it/s]\n",
      "INFO:root:2-th sampling: too many samples 58.0\n",
      "INFO:root:6-th sampling: too many samples 54.0\n",
      "INFO:root:7-th sampling: too many samples 57.0\n",
      "INFO:root:8-th sampling: too many samples 55.0\n",
      "INFO:root:10-th sampling: too many samples 53.0\n",
      "INFO:root:12-th sampling: too many samples 58.0\n",
      "INFO:root:14-th sampling: too many samples 58.0\n",
      "INFO:root:19-th sampling: too many samples 55.0\n"
     ]
    },
    {
     "name": "stdout",
     "output_type": "stream",
     "text": [
      "Accuracy Attack (trn): 0.6980000138282776\n",
      "Accuracy model (trn): 0.7700000405311584, (val): 0.7100000381469727\n"
     ]
    },
    {
     "name": "stderr",
     "output_type": "stream",
     "text": [
      "INFO:root:\n",
      "Epoch    0: loss_train: 0.69518, loss_val: 0.69518, acc_train: 0.47800, acc_val: 0.47800\n",
      "INFO:root:\n",
      "Epoch  971: loss_train: 0.47722, loss_val: 0.61559, acc_train: 0.79600, acc_val: 0.69400\n",
      "INFO:root:\n",
      "Before the attack - Loss: -0.4314100444316864 Accuracy: 79.400 %\n",
      "\n"
     ]
    },
    {
     "name": "stdout",
     "output_type": "stream",
     "text": [
      "#Edges: 1009 -> budget: 50\n"
     ]
    },
    {
     "name": "stderr",
     "output_type": "stream",
     "text": [
      "  0%|          | 0/300 [00:00<?, ?it/s]INFO:root:\n",
      "Epoch: 0 Loss: -0.431410014629364 Accuracy: 78.000 %\n",
      "\n",
      " 66%|██████▌   | 197/300 [00:04<00:02, 46.38it/s]INFO:root:Loading search space of epoch 131 (accuarcy=0.6760000586509705) for fine tuning\n",
      "\n",
      "100%|██████████| 300/300 [00:06<00:00, 46.61it/s]\n",
      "INFO:root:1-th sampling: too many samples 54.0\n",
      "INFO:root:3-th sampling: too many samples 58.0\n",
      "INFO:root:4-th sampling: too many samples 59.0\n",
      "INFO:root:5-th sampling: too many samples 51.0\n",
      "INFO:root:6-th sampling: too many samples 55.0\n",
      "INFO:root:8-th sampling: too many samples 70.0\n",
      "INFO:root:12-th sampling: too many samples 51.0\n",
      "INFO:root:18-th sampling: too many samples 60.0\n"
     ]
    },
    {
     "name": "stdout",
     "output_type": "stream",
     "text": [
      "Accuracy Attack (trn): 0.7080000042915344\n",
      "Accuracy model (trn): 0.7940000295639038, (val): 0.6920000314712524\n"
     ]
    },
    {
     "name": "stderr",
     "output_type": "stream",
     "text": [
      "INFO:root:\n",
      "Epoch    0: loss_train: 0.69474, loss_val: 0.69504, acc_train: 0.50400, acc_val: 0.50400\n",
      "INFO:root:\n",
      "Epoch  958: loss_train: 0.47858, loss_val: 0.58162, acc_train: 0.77800, acc_val: 0.73600\n",
      "INFO:root:\n",
      "Before the attack - Loss: -0.4381609559059143 Accuracy: 77.400 %\n",
      "\n"
     ]
    },
    {
     "name": "stdout",
     "output_type": "stream",
     "text": [
      "#Edges: 1045 -> budget: 52\n"
     ]
    },
    {
     "name": "stderr",
     "output_type": "stream",
     "text": [
      "  0%|          | 0/300 [00:00<?, ?it/s]INFO:root:\n",
      "Epoch: 0 Loss: -0.4381609261035919 Accuracy: 76.000 %\n",
      "\n",
      " 66%|██████▌   | 197/300 [00:04<00:02, 45.61it/s]INFO:root:Loading search space of epoch 198 (accuarcy=0.6380000114440918) for fine tuning\n",
      "\n",
      "100%|██████████| 300/300 [00:06<00:00, 47.02it/s]\n",
      "INFO:root:2-th sampling: too many samples 55.0\n",
      "INFO:root:3-th sampling: too many samples 60.0\n",
      "INFO:root:4-th sampling: too many samples 55.0\n",
      "INFO:root:5-th sampling: too many samples 58.0\n",
      "INFO:root:10-th sampling: too many samples 61.0\n",
      "INFO:root:12-th sampling: too many samples 53.0\n",
      "INFO:root:13-th sampling: too many samples 56.0\n",
      "INFO:root:16-th sampling: too many samples 55.0\n",
      "INFO:root:17-th sampling: too many samples 56.0\n",
      "INFO:root:19-th sampling: too many samples 59.0\n"
     ]
    },
    {
     "name": "stdout",
     "output_type": "stream",
     "text": [
      "Accuracy Attack (trn): 0.6980000138282776\n",
      "Accuracy model (trn): 0.7740000486373901, (val): 0.7300000190734863\n"
     ]
    },
    {
     "name": "stderr",
     "output_type": "stream",
     "text": [
      "INFO:root:\n",
      "Epoch    0: loss_train: 0.69244, loss_val: 0.69111, acc_train: 0.52400, acc_val: 0.52400\n",
      "INFO:root:\n",
      "Epoch  945: loss_train: 0.46433, loss_val: 0.56016, acc_train: 0.80800, acc_val: 0.74000\n",
      "INFO:root:\n",
      "Before the attack - Loss: -0.46746474504470825 Accuracy: 81.400 %\n",
      "\n"
     ]
    },
    {
     "name": "stdout",
     "output_type": "stream",
     "text": [
      "#Edges: 1017 -> budget: 51\n"
     ]
    },
    {
     "name": "stderr",
     "output_type": "stream",
     "text": [
      "  0%|          | 0/300 [00:00<?, ?it/s]INFO:root:\n",
      "Epoch: 0 Loss: -0.46746474504470825 Accuracy: 80.600 %\n",
      "\n",
      " 65%|██████▌   | 196/300 [00:05<00:02, 36.20it/s]INFO:root:Loading search space of epoch 162 (accuarcy=0.6860000491142273) for fine tuning\n",
      "\n",
      "100%|██████████| 300/300 [00:08<00:00, 36.98it/s]\n",
      "INFO:root:3-th sampling: too many samples 55.0\n",
      "INFO:root:6-th sampling: too many samples 57.0\n",
      "INFO:root:8-th sampling: too many samples 55.0\n",
      "INFO:root:12-th sampling: too many samples 58.0\n",
      "INFO:root:14-th sampling: too many samples 62.0\n"
     ]
    },
    {
     "name": "stdout",
     "output_type": "stream",
     "text": [
      "Accuracy Attack (trn): 0.7239999771118164\n",
      "Accuracy model (trn): 0.8140000104904175, (val): 0.7400000095367432\n"
     ]
    },
    {
     "name": "stderr",
     "output_type": "stream",
     "text": [
      "INFO:root:\n",
      "Epoch    0: loss_train: 0.69416, loss_val: 0.69448, acc_train: 0.51000, acc_val: 0.51000\n",
      "INFO:root:\n",
      "Epoch  818: loss_train: 0.49713, loss_val: 0.59676, acc_train: 0.80000, acc_val: 0.69400\n",
      "INFO:root:\n",
      "Before the attack - Loss: -0.4090399444103241 Accuracy: 81.000 %\n",
      "\n"
     ]
    },
    {
     "name": "stdout",
     "output_type": "stream",
     "text": [
      "#Edges: 998 -> budget: 50\n"
     ]
    },
    {
     "name": "stderr",
     "output_type": "stream",
     "text": [
      "  0%|          | 0/300 [00:00<?, ?it/s]INFO:root:\n",
      "Epoch: 0 Loss: -0.4090399444103241 Accuracy: 79.600 %\n",
      "\n",
      " 66%|██████▌   | 197/300 [00:04<00:02, 45.32it/s]INFO:root:Loading search space of epoch 142 (accuarcy=0.7020000219345093) for fine tuning\n",
      "\n",
      "100%|██████████| 300/300 [00:06<00:00, 46.05it/s]\n",
      "INFO:root:1-th sampling: too many samples 59.0\n",
      "INFO:root:2-th sampling: too many samples 62.0\n",
      "INFO:root:3-th sampling: too many samples 57.0\n",
      "INFO:root:7-th sampling: too many samples 57.0\n",
      "INFO:root:10-th sampling: too many samples 58.0\n",
      "INFO:root:11-th sampling: too many samples 64.0\n",
      "INFO:root:12-th sampling: too many samples 54.0\n",
      "INFO:root:15-th sampling: too many samples 51.0\n",
      "INFO:root:17-th sampling: too many samples 54.0\n",
      "INFO:root:18-th sampling: too many samples 52.0\n"
     ]
    },
    {
     "name": "stdout",
     "output_type": "stream",
     "text": [
      "Accuracy Attack (trn): 0.7200000286102295\n",
      "Accuracy model (trn): 0.8100000619888306, (val): 0.7040000557899475\n",
      "Evaluting experiment with n=1000:\n",
      "Note: #Edges: 998 -> budget: 50\n",
      "Avg. Bayes Classification Error Trn: 85.80% +- 2.40%\n",
      "Avg. Bayes Classification Error Val: 85.48% +- 1.38%\n",
      "Avg. GNN Classification Error Trn: 79.24% +- 1.80%\n",
      "Avg. GNN Classification Error Val: 71.52% +- 1.75%\n",
      "Avg. Flipped Nodes: 43.6 +- 4.0\n",
      "Avg. Flipped Nodes violating BC-Criterion: 11.0 +- 2.3\n",
      "Avg. Flipped Nodes violating BC-Criterion: 25.34% +- 5.44%\n",
      "Likelihood_change_l: [tensor(0.3421), tensor(0.2000), tensor(0.2000), tensor(0.2391), tensor(0.2857)]\n"
     ]
    }
   ],
   "source": [
    "epsilon = 0.05\n",
    "seeds = [0, 1, 2, 3, 4]\n",
    "n_s = [1000]\n",
    "perform_experiment(n_s, seeds)\n"
   ]
  },
  {
   "cell_type": "code",
   "execution_count": 144,
   "metadata": {},
   "outputs": [
    {
     "name": "stderr",
     "output_type": "stream",
     "text": [
      "INFO:root:\n",
      "Epoch    0: loss_train: 0.69438, loss_val: 0.69506, acc_train: 0.50400, acc_val: 0.50400\n",
      "INFO:root:\n",
      "Epoch  956: loss_train: 0.49914, loss_val: 0.58164, acc_train: 0.78000, acc_val: 0.71200\n",
      "/nfs/homedirs/gosl/src/selftraining-and-robustness/strn_and_rbstness/attacks/base_attack.py:77: UserWarning: The attack will fail if the gradient w.r.t. the adjacency can't be computed.\n",
      "  warnings.warn(\"The attack will fail if the gradient w.r.t. the adjacency can't be computed.\")\n",
      "/nfs/homedirs/gosl/src/selftraining-and-robustness/strn_and_rbstness/attacks/prbcd.py:392: UserWarning: __floordiv__ is deprecated, and its behavior will change in a future version of pytorch. It currently rounds toward 0 (like the 'trunc' function NOT 'floor'). This results in incorrect rounding for negative values. To keep the current behavior, use torch.div(a, b, rounding_mode='trunc'), or for actual floor division, use torch.div(a, b, rounding_mode='floor').\n",
      "  + (n - row_idx) * ((n - row_idx) - 1) // 2\n",
      "INFO:root:\n",
      "Before the attack - Loss: -0.40562307834625244 Accuracy: 78.000 %\n",
      "\n"
     ]
    },
    {
     "name": "stdout",
     "output_type": "stream",
     "text": [
      "#Edges: 1032 -> budget: 52\n"
     ]
    },
    {
     "name": "stderr",
     "output_type": "stream",
     "text": [
      "  0%|          | 0/300 [00:00<?, ?it/s]INFO:root:\n",
      "Epoch: 0 Loss: -0.40562307834625244 Accuracy: 77.200 %\n",
      "\n",
      " 66%|██████▌   | 198/300 [00:05<00:02, 35.39it/s]INFO:root:Loading search space of epoch 109 (accuarcy=0.6580000519752502) for fine tuning\n",
      "\n",
      "100%|██████████| 300/300 [00:08<00:00, 35.47it/s]\n",
      "INFO:root:1-th sampling: too many samples 53.0\n",
      "INFO:root:4-th sampling: too many samples 53.0\n",
      "INFO:root:6-th sampling: too many samples 55.0\n",
      "INFO:root:7-th sampling: too many samples 65.0\n",
      "INFO:root:14-th sampling: too many samples 56.0\n",
      "INFO:root:15-th sampling: too many samples 56.0\n",
      "INFO:root:16-th sampling: too many samples 56.0\n",
      "INFO:root:18-th sampling: too many samples 53.0\n",
      "INFO:root:19-th sampling: too many samples 56.0\n"
     ]
    },
    {
     "name": "stdout",
     "output_type": "stream",
     "text": [
      "Accuracy Attack (trn): 0.6980000138282776\n",
      "Accuracy model (trn): 0.7800000309944153, (val): 0.7120000123977661\n"
     ]
    },
    {
     "name": "stderr",
     "output_type": "stream",
     "text": [
      "INFO:root:\n",
      "Epoch    0: loss_train: 0.69518, loss_val: 0.69518, acc_train: 0.47800, acc_val: 0.47800\n",
      "INFO:root:\n",
      "Epoch  990: loss_train: 0.47481, loss_val: 0.61701, acc_train: 0.79200, acc_val: 0.67800\n",
      "INFO:root:\n",
      "Before the attack - Loss: -0.4358418881893158 Accuracy: 79.200 %\n",
      "\n"
     ]
    },
    {
     "name": "stdout",
     "output_type": "stream",
     "text": [
      "#Edges: 1009 -> budget: 50\n"
     ]
    },
    {
     "name": "stderr",
     "output_type": "stream",
     "text": [
      "  0%|          | 0/300 [00:00<?, ?it/s]INFO:root:\n",
      "Epoch: 0 Loss: -0.4358418881893158 Accuracy: 78.200 %\n",
      "\n",
      " 66%|██████▌   | 198/300 [00:05<00:02, 35.42it/s]INFO:root:Loading search space of epoch 187 (accuarcy=0.6720000505447388) for fine tuning\n",
      "\n",
      "100%|██████████| 300/300 [00:08<00:00, 35.88it/s]\n",
      "INFO:root:1-th sampling: too many samples 55.0\n",
      "INFO:root:3-th sampling: too many samples 52.0\n",
      "INFO:root:4-th sampling: too many samples 51.0\n",
      "INFO:root:5-th sampling: too many samples 51.0\n",
      "INFO:root:6-th sampling: too many samples 57.0\n",
      "INFO:root:7-th sampling: too many samples 57.0\n",
      "INFO:root:8-th sampling: too many samples 65.0\n",
      "INFO:root:10-th sampling: too many samples 54.0\n",
      "INFO:root:11-th sampling: too many samples 63.0\n",
      "INFO:root:12-th sampling: too many samples 54.0\n",
      "INFO:root:18-th sampling: too many samples 55.0\n",
      "INFO:root:19-th sampling: too many samples 55.0\n"
     ]
    },
    {
     "name": "stdout",
     "output_type": "stream",
     "text": [
      "Accuracy Attack (trn): 0.7020000219345093\n",
      "Accuracy model (trn): 0.7920000553131104, (val): 0.6820000410079956\n"
     ]
    },
    {
     "name": "stderr",
     "output_type": "stream",
     "text": [
      "INFO:root:\n",
      "Epoch    0: loss_train: 0.69474, loss_val: 0.69504, acc_train: 0.50400, acc_val: 0.50400\n",
      "INFO:root:\n",
      "Epoch  987: loss_train: 0.47915, loss_val: 0.58036, acc_train: 0.77600, acc_val: 0.72800\n",
      "INFO:root:\n",
      "Before the attack - Loss: -0.4371785521507263 Accuracy: 77.400 %\n",
      "\n"
     ]
    },
    {
     "name": "stdout",
     "output_type": "stream",
     "text": [
      "#Edges: 1045 -> budget: 52\n"
     ]
    },
    {
     "name": "stderr",
     "output_type": "stream",
     "text": [
      "  0%|          | 0/300 [00:00<?, ?it/s]INFO:root:\n",
      "Epoch: 0 Loss: -0.4371785521507263 Accuracy: 75.600 %\n",
      "\n",
      " 66%|██████▌   | 198/300 [00:05<00:02, 35.46it/s]INFO:root:Loading search space of epoch 89 (accuarcy=0.6360000371932983) for fine tuning\n",
      "\n",
      "100%|██████████| 300/300 [00:08<00:00, 35.96it/s]\n",
      "INFO:root:1-th sampling: too many samples 60.0\n",
      "INFO:root:5-th sampling: too many samples 56.0\n",
      "INFO:root:6-th sampling: too many samples 54.0\n",
      "INFO:root:7-th sampling: too many samples 65.0\n",
      "INFO:root:11-th sampling: too many samples 66.0\n",
      "INFO:root:15-th sampling: too many samples 58.0\n",
      "INFO:root:17-th sampling: too many samples 53.0\n"
     ]
    },
    {
     "name": "stdout",
     "output_type": "stream",
     "text": [
      "Accuracy Attack (trn): 0.6859999895095825\n",
      "Accuracy model (trn): 0.7740000486373901, (val): 0.7300000190734863\n"
     ]
    },
    {
     "name": "stderr",
     "output_type": "stream",
     "text": [
      "INFO:root:\n",
      "Epoch    0: loss_train: 0.69244, loss_val: 0.69111, acc_train: 0.52400, acc_val: 0.52400\n",
      "INFO:root:\n",
      "Epoch  703: loss_train: 0.46700, loss_val: 0.56764, acc_train: 0.80200, acc_val: 0.73600\n",
      "INFO:root:\n",
      "Before the attack - Loss: -0.4642431139945984 Accuracy: 80.200 %\n",
      "\n"
     ]
    },
    {
     "name": "stdout",
     "output_type": "stream",
     "text": [
      "#Edges: 1017 -> budget: 51\n"
     ]
    },
    {
     "name": "stderr",
     "output_type": "stream",
     "text": [
      "  0%|          | 0/300 [00:00<?, ?it/s]INFO:root:\n",
      "Epoch: 0 Loss: -0.4642431139945984 Accuracy: 79.800 %\n",
      "\n",
      " 66%|██████▌   | 197/300 [00:05<00:02, 35.22it/s]INFO:root:Loading search space of epoch 148 (accuarcy=0.6880000233650208) for fine tuning\n",
      "\n",
      "100%|██████████| 300/300 [00:07<00:00, 38.73it/s]\n",
      "INFO:root:1-th sampling: too many samples 54.0\n",
      "INFO:root:2-th sampling: too many samples 60.0\n",
      "INFO:root:6-th sampling: too many samples 52.0\n",
      "INFO:root:7-th sampling: too many samples 55.0\n",
      "INFO:root:8-th sampling: too many samples 55.0\n",
      "INFO:root:15-th sampling: too many samples 57.0\n",
      "INFO:root:18-th sampling: too many samples 57.0\n",
      "INFO:root:19-th sampling: too many samples 63.0\n"
     ]
    },
    {
     "name": "stdout",
     "output_type": "stream",
     "text": [
      "Accuracy Attack (trn): 0.722000002861023\n",
      "Accuracy model (trn): 0.8020000457763672, (val): 0.7300000190734863\n"
     ]
    },
    {
     "name": "stderr",
     "output_type": "stream",
     "text": [
      "INFO:root:\n",
      "Epoch    0: loss_train: 0.69416, loss_val: 0.69448, acc_train: 0.51000, acc_val: 0.51000\n",
      "INFO:root:\n",
      "Epoch  927: loss_train: 0.49677, loss_val: 0.59835, acc_train: 0.80200, acc_val: 0.69400\n",
      "INFO:root:\n",
      "Before the attack - Loss: -0.4103357195854187 Accuracy: 81.200 %\n",
      "\n"
     ]
    },
    {
     "name": "stdout",
     "output_type": "stream",
     "text": [
      "#Edges: 998 -> budget: 50\n"
     ]
    },
    {
     "name": "stderr",
     "output_type": "stream",
     "text": [
      "  0%|          | 0/300 [00:00<?, ?it/s]INFO:root:\n",
      "Epoch: 0 Loss: -0.4103356599807739 Accuracy: 80.600 %\n",
      "\n",
      " 66%|██████▌   | 197/300 [00:04<00:02, 40.67it/s]INFO:root:Loading search space of epoch 175 (accuarcy=0.6980000138282776) for fine tuning\n",
      "\n",
      "100%|██████████| 300/300 [00:07<00:00, 42.50it/s]\n",
      "INFO:root:1-th sampling: too many samples 59.0\n",
      "INFO:root:2-th sampling: too many samples 53.0\n",
      "INFO:root:3-th sampling: too many samples 52.0\n",
      "INFO:root:6-th sampling: too many samples 58.0\n",
      "INFO:root:7-th sampling: too many samples 53.0\n",
      "INFO:root:12-th sampling: too many samples 58.0\n",
      "INFO:root:13-th sampling: too many samples 54.0\n",
      "INFO:root:17-th sampling: too many samples 51.0\n",
      "INFO:root:18-th sampling: too many samples 51.0\n",
      "INFO:root:19-th sampling: too many samples 51.0\n"
     ]
    },
    {
     "name": "stdout",
     "output_type": "stream",
     "text": [
      "Accuracy Attack (trn): 0.7200000286102295\n",
      "Accuracy model (trn): 0.812000036239624, (val): 0.690000057220459\n",
      "Evaluting experiment with n=1000:\n",
      "Note: #Edges: 998 -> budget: 50\n",
      "Avg. Bayes Classification Error Trn: 85.80% +- 2.40%\n",
      "Avg. Bayes Classification Error Val: 85.48% +- 1.38%\n",
      "Avg. GNN Classification Error Trn: 79.20% +- 1.39%\n",
      "Avg. GNN Classification Error Val: 70.88% +- 1.99%\n",
      "Avg. Flipped Nodes: 45.4 +- 2.7\n",
      "Avg. Flipped Nodes violating BC-Criterion: 6.6 +- 1.7\n",
      "Avg. Flipped Nodes violating BC-Criterion: 14.76% +- 4.85%\n",
      "Likelihood_change_l: [tensor(0.1136), tensor(0.1250), tensor(0.1304), tensor(0.2439), tensor(0.1250)]\n"
     ]
    }
   ],
   "source": [
    "# old\n",
    "epsilon = 0.05\n",
    "seeds = [0, 1, 2, 3, 4]\n",
    "n_s = [1000]\n",
    "perform_experiment(n_s, seeds)\n"
   ]
  },
  {
   "cell_type": "code",
   "execution_count": 37,
   "metadata": {},
   "outputs": [
    {
     "name": "stderr",
     "output_type": "stream",
     "text": [
      "INFO:root:\n",
      "Epoch    0: loss_train: 0.69438, loss_val: 0.69506, acc_train: 0.50400, acc_val: 0.50400\n",
      "INFO:root:\n",
      "Epoch  999: loss_train: 0.50672, loss_val: 0.57944, acc_train: 0.75800, acc_val: 0.72600\n",
      "INFO:root:\n",
      "Before the attack - Loss: -0.3909813463687897 Accuracy: 75.600 %\n",
      "\n"
     ]
    },
    {
     "name": "stdout",
     "output_type": "stream",
     "text": [
      "#Edges: 1032 -> budget: 103\n"
     ]
    },
    {
     "name": "stderr",
     "output_type": "stream",
     "text": [
      "  0%|          | 0/300 [00:00<?, ?it/s]INFO:root:\n",
      "Epoch: 0 Loss: -0.3909812867641449 Accuracy: 73.800 %\n",
      "\n",
      " 66%|██████▌   | 197/300 [00:04<00:02, 47.02it/s]INFO:root:Loading search space of epoch 192 (accuarcy=0.5960000157356262) for fine tuning\n",
      "\n",
      "100%|██████████| 300/300 [00:06<00:00, 47.24it/s]\n",
      "INFO:root:2-th sampling: too many samples 111.0\n",
      "INFO:root:5-th sampling: too many samples 109.0\n",
      "INFO:root:7-th sampling: too many samples 106.0\n",
      "INFO:root:11-th sampling: too many samples 122.0\n",
      "INFO:root:15-th sampling: too many samples 109.0\n",
      "INFO:root:16-th sampling: too many samples 108.0\n",
      "INFO:root:17-th sampling: too many samples 111.0\n"
     ]
    },
    {
     "name": "stdout",
     "output_type": "stream",
     "text": [
      "Accuracy Attack (trn): 0.6340000033378601\n",
      "Accuracy model (trn): 0.7560000419616699, (val): 0.7160000205039978\n"
     ]
    },
    {
     "name": "stderr",
     "output_type": "stream",
     "text": [
      "INFO:root:\n",
      "Epoch    0: loss_train: 0.69518, loss_val: 0.69518, acc_train: 0.47800, acc_val: 0.47800\n",
      "INFO:root:\n",
      "Epoch  442: loss_train: 0.49237, loss_val: 0.62749, acc_train: 0.77000, acc_val: 0.67600\n",
      "INFO:root:\n",
      "Before the attack - Loss: -0.4070720672607422 Accuracy: 77.800 %\n",
      "\n"
     ]
    },
    {
     "name": "stdout",
     "output_type": "stream",
     "text": [
      "#Edges: 1009 -> budget: 101\n"
     ]
    },
    {
     "name": "stderr",
     "output_type": "stream",
     "text": [
      "  0%|          | 0/300 [00:00<?, ?it/s]INFO:root:\n",
      "Epoch: 0 Loss: -0.4070720672607422 Accuracy: 76.200 %\n",
      "\n",
      " 66%|██████▌   | 197/300 [00:05<00:02, 36.40it/s]INFO:root:Loading search space of epoch 194 (accuarcy=0.6160000562667847) for fine tuning\n",
      "\n",
      "100%|██████████| 300/300 [00:08<00:00, 37.10it/s]\n",
      "INFO:root:1-th sampling: too many samples 115.0\n",
      "INFO:root:6-th sampling: too many samples 109.0\n",
      "INFO:root:9-th sampling: too many samples 114.0\n",
      "INFO:root:12-th sampling: too many samples 116.0\n",
      "INFO:root:14-th sampling: too many samples 105.0\n",
      "INFO:root:19-th sampling: too many samples 109.0\n"
     ]
    },
    {
     "name": "stdout",
     "output_type": "stream",
     "text": [
      "Accuracy Attack (trn): 0.6420000195503235\n",
      "Accuracy model (trn): 0.7780000567436218, (val): 0.6800000071525574\n"
     ]
    },
    {
     "name": "stderr",
     "output_type": "stream",
     "text": [
      "INFO:root:\n",
      "Epoch    0: loss_train: 0.69474, loss_val: 0.69504, acc_train: 0.50400, acc_val: 0.50400\n",
      "INFO:root:\n",
      "Epoch  965: loss_train: 0.47931, loss_val: 0.57951, acc_train: 0.77600, acc_val: 0.73000\n",
      "INFO:root:\n",
      "Before the attack - Loss: -0.436916321516037 Accuracy: 77.200 %\n",
      "\n"
     ]
    },
    {
     "name": "stdout",
     "output_type": "stream",
     "text": [
      "#Edges: 1045 -> budget: 104\n"
     ]
    },
    {
     "name": "stderr",
     "output_type": "stream",
     "text": [
      "  0%|          | 0/300 [00:00<?, ?it/s]INFO:root:\n",
      "Epoch: 0 Loss: -0.436916321516037 Accuracy: 75.000 %\n",
      "\n",
      " 66%|██████▌   | 197/300 [00:04<00:02, 46.26it/s]INFO:root:Loading search space of epoch 124 (accuarcy=0.5860000252723694) for fine tuning\n",
      "\n",
      "100%|██████████| 300/300 [00:06<00:00, 45.56it/s]\n",
      "INFO:root:1-th sampling: too many samples 115.0\n",
      "INFO:root:3-th sampling: too many samples 106.0\n",
      "INFO:root:4-th sampling: too many samples 117.0\n",
      "INFO:root:7-th sampling: too many samples 123.0\n",
      "INFO:root:11-th sampling: too many samples 112.0\n",
      "INFO:root:13-th sampling: too many samples 106.0\n",
      "INFO:root:15-th sampling: too many samples 110.0\n",
      "INFO:root:16-th sampling: too many samples 105.0\n",
      "INFO:root:18-th sampling: too many samples 116.0\n",
      "INFO:root:19-th sampling: too many samples 112.0\n"
     ]
    },
    {
     "name": "stdout",
     "output_type": "stream",
     "text": [
      "Accuracy Attack (trn): 0.6240000128746033\n",
      "Accuracy model (trn): 0.7720000147819519, (val): 0.7300000190734863\n"
     ]
    },
    {
     "name": "stderr",
     "output_type": "stream",
     "text": [
      "INFO:root:\n",
      "Epoch    0: loss_train: 0.69244, loss_val: 0.69111, acc_train: 0.52400, acc_val: 0.52400\n",
      "INFO:root:\n",
      "Epoch  833: loss_train: 0.47147, loss_val: 0.56823, acc_train: 0.80400, acc_val: 0.72400\n",
      "INFO:root:\n",
      "Before the attack - Loss: -0.4573665261268616 Accuracy: 80.200 %\n",
      "\n"
     ]
    },
    {
     "name": "stdout",
     "output_type": "stream",
     "text": [
      "#Edges: 1017 -> budget: 102\n"
     ]
    },
    {
     "name": "stderr",
     "output_type": "stream",
     "text": [
      "  0%|          | 0/300 [00:00<?, ?it/s]INFO:root:\n",
      "Epoch: 0 Loss: -0.4573665261268616 Accuracy: 79.200 %\n",
      "\n",
      " 66%|██████▌   | 197/300 [00:04<00:02, 35.76it/s]INFO:root:Loading search space of epoch 182 (accuarcy=0.6160000562667847) for fine tuning\n",
      "\n",
      "100%|██████████| 300/300 [00:07<00:00, 38.85it/s]\n",
      "INFO:root:3-th sampling: too many samples 106.0\n",
      "INFO:root:7-th sampling: too many samples 116.0\n",
      "INFO:root:8-th sampling: too many samples 111.0\n",
      "INFO:root:12-th sampling: too many samples 104.0\n",
      "INFO:root:13-th sampling: too many samples 104.0\n",
      "INFO:root:14-th sampling: too many samples 119.0\n",
      "INFO:root:16-th sampling: too many samples 107.0\n",
      "INFO:root:18-th sampling: too many samples 106.0\n"
     ]
    },
    {
     "name": "stdout",
     "output_type": "stream",
     "text": [
      "Accuracy Attack (trn): 0.6539999842643738\n",
      "Accuracy model (trn): 0.8020000457763672, (val): 0.7240000367164612\n"
     ]
    },
    {
     "name": "stderr",
     "output_type": "stream",
     "text": [
      "INFO:root:\n",
      "Epoch    0: loss_train: 0.69416, loss_val: 0.69448, acc_train: 0.51000, acc_val: 0.51000\n",
      "INFO:root:\n",
      "Epoch  626: loss_train: 0.49968, loss_val: 0.59767, acc_train: 0.80200, acc_val: 0.69600\n",
      "INFO:root:\n",
      "Before the attack - Loss: -0.4056304395198822 Accuracy: 80.400 %\n",
      "\n"
     ]
    },
    {
     "name": "stdout",
     "output_type": "stream",
     "text": [
      "#Edges: 998 -> budget: 100\n"
     ]
    },
    {
     "name": "stderr",
     "output_type": "stream",
     "text": [
      "  0%|          | 0/300 [00:00<?, ?it/s]INFO:root:\n",
      "Epoch: 0 Loss: -0.4056304395198822 Accuracy: 79.000 %\n",
      "\n",
      " 66%|██████▌   | 197/300 [00:04<00:02, 45.84it/s]INFO:root:Loading search space of epoch 181 (accuarcy=0.6480000019073486) for fine tuning\n",
      "\n",
      "100%|██████████| 300/300 [00:06<00:00, 46.74it/s]\n",
      "INFO:root:1-th sampling: too many samples 112.0\n",
      "INFO:root:2-th sampling: too many samples 112.0\n",
      "INFO:root:4-th sampling: too many samples 108.0\n",
      "INFO:root:5-th sampling: too many samples 103.0\n",
      "INFO:root:7-th sampling: too many samples 111.0\n",
      "INFO:root:10-th sampling: too many samples 104.0\n",
      "INFO:root:11-th sampling: too many samples 101.0\n",
      "INFO:root:15-th sampling: too many samples 104.0\n",
      "INFO:root:16-th sampling: too many samples 111.0\n",
      "INFO:root:17-th sampling: too many samples 115.0\n",
      "INFO:root:18-th sampling: too many samples 105.0\n",
      "INFO:root:19-th sampling: too many samples 107.0\n"
     ]
    },
    {
     "name": "stdout",
     "output_type": "stream",
     "text": [
      "Accuracy Attack (trn): 0.6759999990463257\n",
      "Accuracy model (trn): 0.8040000200271606, (val): 0.6960000395774841\n",
      "Evaluting experiment with n=1000:\n",
      "Note: #Edges: 998 -> budget: 100\n",
      "Avg. Bayes Classification Error Trn: 85.80% +- 2.40%\n",
      "Avg. Bayes Classification Error Val: 85.48% +- 1.38%\n",
      "Avg. GNN Classification Error Trn: 78.24% +- 1.83%\n",
      "Avg. GNN Classification Error Val: 70.92% +- 1.86%\n",
      "Avg. Flipped Nodes: 70.0 +- 4.8\n",
      "Avg. Flipped Nodes violating BC-Criterion: 15.4 +- 3.0\n",
      "Avg. Flipped Nodes violating BC-Criterion: 21.94% +- 3.55%\n",
      "Likelihood_change_l: [tensor(0.2381), tensor(0.1972), tensor(0.2000), tensor(0.2800), tensor(0.1818)]\n"
     ]
    }
   ],
   "source": [
    "epsilon = 0.1\n",
    "seeds = [0, 1, 2, 3, 4]\n",
    "n_s = [1000]\n",
    "perform_experiment(n_s, seeds)\n"
   ]
  },
  {
   "cell_type": "markdown",
   "metadata": {},
   "source": []
  },
  {
   "cell_type": "code",
   "execution_count": 130,
   "metadata": {},
   "outputs": [
    {
     "name": "stdout",
     "output_type": "stream",
     "text": [
      "Avg. Bayes Classification Error Trn: 85.80% +- 2.40%\n",
      "Avg. Bayes Classification Error Val: 85.48% +- 1.38%\n",
      "Avg. GNN Classification Error Trn: 79.16% +- 1.48%\n",
      "Avg. GNN Classification Error Val: 71.08% +- 2.14%\n",
      "Avg. Flipped Nodes: 43.4 +- 1.2\n",
      "Avg. Flipped Nodes violating BC-Criterion: 7.2 +- 2.6\n",
      "Avg. Flipped Nodes violating BC-Criterion: 16.70% +- 6.22%\n"
     ]
    }
   ],
   "source": [
    "# Results over all 5 seeds:\n",
    "evaluate(likelihood_change_l, bayes_acc_trn_l, bayes_acc_val_l, \n",
    "            gnn_acc_trn_l, gnn_acc_val_l, flipped_l, flipped_not_adv_l)"
   ]
  },
  {
   "cell_type": "markdown",
   "metadata": {},
   "source": [
    "### GCN with PGD"
   ]
  },
  {
   "cell_type": "code",
   "execution_count": 38,
   "metadata": {},
   "outputs": [
    {
     "name": "stderr",
     "output_type": "stream",
     "text": [
      "INFO:root:Currently on gpu device cuda:0\n"
     ]
    }
   ],
   "source": [
    "model_params = dict(\n",
    "    label=\"GCN\",\n",
    "    model=\"DenseGCN\", #GCN or DenseGCN\n",
    "    n_filters=64,\n",
    "    dropout=0.5\n",
    ")\n",
    "train_params = dict(\n",
    "    loss_type=\"CE\",\n",
    "    lr=1e-2,\n",
    "    weight_decay=1e-3,\n",
    "    patience=300,\n",
    "    max_epochs=1000,\n",
    "    use_selftrain = False, \n",
    "    use_advtrain = False,\n",
    ")\n",
    "attack = \"PGD\"\n",
    "attack_params = dict(\n",
    "    epochs=200,\n",
    "    base_lr=1e-2,\n",
    "    scale_lr_with_n_attacked_edges=True,\n",
    "    loss_type=\"tanhMargin\" # CE or tanhMargin or CW\n",
    ")\n",
    "epsilon = 0.05\n",
    "\n",
    "# Other\n",
    "split_params = {\n",
    "    \"strategy\": \"normal\", # or \"custom\"\n",
    "    \"p_trn\": 1,\n",
    "    \"p_tst\": 0, # \"normal\" uses 1 - p_trn, only for custom split strategy\n",
    "    \"p_selftrn\": 0 # Refers to unlabeled data, which is not test data, \n",
    "                    # only for custom split strategy\n",
    "}\n",
    "verbosity_params = dict(\n",
    "    display_steps = 1001\n",
    ")   \n",
    "# Device\n",
    "device = 0\n",
    "if not torch.cuda.is_available():\n",
    "    device == \"cpu\", \"CUDA is not availble, set device to 'cpu'\"\n",
    "else:\n",
    "    device = torch.device(f\"cuda:{device}\")\n",
    "    logging.info(f\"Currently on gpu device {device}\")\n",
    "attack_params[\"data_device\"] = device"
   ]
  },
  {
   "cell_type": "code",
   "execution_count": 39,
   "metadata": {},
   "outputs": [
    {
     "name": "stderr",
     "output_type": "stream",
     "text": [
      "INFO:root:\n",
      "Epoch    0: loss_train: 0.69189, loss_val: 0.69158, acc_train: 0.55072, acc_val: 0.56338\n",
      "INFO:root:\n",
      "Epoch  919: loss_train: 0.45602, loss_val: 0.52335, acc_train: 0.76812, acc_val: 0.76056\n"
     ]
    },
    {
     "name": "stdout",
     "output_type": "stream",
     "text": [
      "#Edges: 128 -> budget: 6\n"
     ]
    },
    {
     "name": "stderr",
     "output_type": "stream",
     "text": [
      "INFO:root:\n",
      "Epoch    0: loss_train: 0.69228, loss_val: 0.69239, acc_train: 0.63768, acc_val: 0.59155\n"
     ]
    },
    {
     "name": "stdout",
     "output_type": "stream",
     "text": [
      "Accuracy Attack (trn): 0.7536231875419617\n",
      "Accuracy model (trn): 0.8115942478179932, (val): 0.7323943376541138\n"
     ]
    },
    {
     "name": "stderr",
     "output_type": "stream",
     "text": [
      "INFO:root:\n",
      "Epoch  227: loss_train: 0.48165, loss_val: 0.53197, acc_train: 0.76812, acc_val: 0.71831\n"
     ]
    },
    {
     "name": "stdout",
     "output_type": "stream",
     "text": [
      "#Edges: 139 -> budget: 7\n"
     ]
    },
    {
     "name": "stderr",
     "output_type": "stream",
     "text": [
      "INFO:root:\n",
      "Epoch    0: loss_train: 0.69447, loss_val: 0.69394, acc_train: 0.40580, acc_val: 0.47887\n"
     ]
    },
    {
     "name": "stdout",
     "output_type": "stream",
     "text": [
      "Accuracy Attack (trn): 0.7536231875419617\n",
      "Accuracy model (trn): 0.8405797481536865, (val): 0.7183098196983337\n"
     ]
    },
    {
     "name": "stderr",
     "output_type": "stream",
     "text": [
      "INFO:root:\n",
      "Epoch  625: loss_train: 0.42774, loss_val: 0.55343, acc_train: 0.81159, acc_val: 0.76056\n"
     ]
    },
    {
     "name": "stdout",
     "output_type": "stream",
     "text": [
      "#Edges: 141 -> budget: 7\n"
     ]
    },
    {
     "name": "stderr",
     "output_type": "stream",
     "text": [
      "INFO:root:\n",
      "Epoch    0: loss_train: 0.69263, loss_val: 0.69361, acc_train: 0.50725, acc_val: 0.46479\n"
     ]
    },
    {
     "name": "stdout",
     "output_type": "stream",
     "text": [
      "Accuracy Attack (trn): 0.739130437374115\n",
      "Accuracy model (trn): 0.8115942478179932, (val): 0.7323943376541138\n"
     ]
    },
    {
     "name": "stderr",
     "output_type": "stream",
     "text": [
      "INFO:root:\n",
      "Epoch   48: loss_train: 0.52139, loss_val: 0.61840, acc_train: 0.72464, acc_val: 0.67606\n"
     ]
    },
    {
     "name": "stdout",
     "output_type": "stream",
     "text": [
      "#Edges: 162 -> budget: 8\n"
     ]
    },
    {
     "name": "stderr",
     "output_type": "stream",
     "text": [
      "INFO:root:\n",
      "Epoch    0: loss_train: 0.69420, loss_val: 0.69362, acc_train: 0.38571, acc_val: 0.42857\n"
     ]
    },
    {
     "name": "stdout",
     "output_type": "stream",
     "text": [
      "Accuracy Attack (trn): 0.695652186870575\n",
      "Accuracy model (trn): 0.8115942478179932, (val): 0.6338028311729431\n"
     ]
    },
    {
     "name": "stderr",
     "output_type": "stream",
     "text": [
      "INFO:root:\n",
      "Epoch  716: loss_train: 0.41556, loss_val: 0.50028, acc_train: 0.85714, acc_val: 0.71429\n"
     ]
    },
    {
     "name": "stdout",
     "output_type": "stream",
     "text": [
      "#Edges: 148 -> budget: 7\n",
      "Accuracy Attack (trn): 0.7571428418159485\n",
      "Accuracy model (trn): 0.8428571224212646, (val): 0.6571428775787354\n",
      "Evaluting experiment with n=140:\n",
      "Note: #Edges: 148 -> budget: 7\n",
      "Avg. Bayes Classification Error Trn: 85.43% +- 3.98%\n",
      "Avg. Bayes Classification Error Val: 87.14% +- 4.52%\n",
      "Avg. GNN Classification Error Trn: 82.36% +- 1.48%\n",
      "Avg. GNN Classification Error Val: 69.48% +- 4.13%\n",
      "Avg. Flipped Nodes: 5.8 +- 1.3\n",
      "Avg. Flipped Nodes violating BC-Criterion: 1.2 +- 1.0\n",
      "Avg. Flipped Nodes violating BC-Criterion: 24.17% +- 26.14%\n",
      "Likelihood_change_l: [tensor(0.7500), tensor(0.1667), tensor(0.), tensor(0.1250), tensor(0.1667)]\n"
     ]
    },
    {
     "name": "stderr",
     "output_type": "stream",
     "text": [
      "INFO:root:\n",
      "Epoch    0: loss_train: 0.69331, loss_val: 0.69377, acc_train: 0.47200, acc_val: 0.48800\n",
      "INFO:root:\n",
      "Epoch  689: loss_train: 0.41483, loss_val: 0.54218, acc_train: 0.82400, acc_val: 0.75200\n"
     ]
    },
    {
     "name": "stdout",
     "output_type": "stream",
     "text": [
      "#Edges: 488 -> budget: 24\n",
      "Accuracy Attack (trn): 0.7400000095367432\n"
     ]
    },
    {
     "name": "stderr",
     "output_type": "stream",
     "text": [
      "INFO:root:\n",
      "Epoch    0: loss_train: 0.69309, loss_val: 0.69296, acc_train: 0.48800, acc_val: 0.49200\n"
     ]
    },
    {
     "name": "stdout",
     "output_type": "stream",
     "text": [
      "Accuracy model (trn): 0.8360000252723694, (val): 0.7360000610351562\n"
     ]
    },
    {
     "name": "stderr",
     "output_type": "stream",
     "text": [
      "INFO:root:\n",
      "Epoch   55: loss_train: 0.56192, loss_val: 0.61075, acc_train: 0.71200, acc_val: 0.69600\n"
     ]
    },
    {
     "name": "stdout",
     "output_type": "stream",
     "text": [
      "#Edges: 508 -> budget: 25\n",
      "Accuracy Attack (trn): 0.6359999775886536\n"
     ]
    },
    {
     "name": "stderr",
     "output_type": "stream",
     "text": [
      "INFO:root:\n",
      "Epoch    0: loss_train: 0.69401, loss_val: 0.69383, acc_train: 0.41600, acc_val: 0.46000\n"
     ]
    },
    {
     "name": "stdout",
     "output_type": "stream",
     "text": [
      "Accuracy model (trn): 0.7200000286102295, (val): 0.6880000233650208\n"
     ]
    },
    {
     "name": "stderr",
     "output_type": "stream",
     "text": [
      "INFO:root:\n",
      "Epoch  354: loss_train: 0.48053, loss_val: 0.60842, acc_train: 0.81600, acc_val: 0.65200\n"
     ]
    },
    {
     "name": "stdout",
     "output_type": "stream",
     "text": [
      "#Edges: 521 -> budget: 26\n",
      "Accuracy Attack (trn): 0.6639999747276306\n"
     ]
    },
    {
     "name": "stderr",
     "output_type": "stream",
     "text": [
      "INFO:root:\n",
      "Epoch    0: loss_train: 0.69412, loss_val: 0.69423, acc_train: 0.43600, acc_val: 0.45200\n"
     ]
    },
    {
     "name": "stdout",
     "output_type": "stream",
     "text": [
      "Accuracy model (trn): 0.800000011920929, (val): 0.6320000290870667\n"
     ]
    },
    {
     "name": "stderr",
     "output_type": "stream",
     "text": [
      "INFO:root:\n",
      "Epoch  849: loss_train: 0.44603, loss_val: 0.56210, acc_train: 0.82400, acc_val: 0.70400\n"
     ]
    },
    {
     "name": "stdout",
     "output_type": "stream",
     "text": [
      "#Edges: 510 -> budget: 26\n",
      "Accuracy Attack (trn): 0.7279999852180481\n"
     ]
    },
    {
     "name": "stderr",
     "output_type": "stream",
     "text": [
      "INFO:root:\n",
      "Epoch    0: loss_train: 0.69270, loss_val: 0.69284, acc_train: 0.53414, acc_val: 0.54183\n"
     ]
    },
    {
     "name": "stdout",
     "output_type": "stream",
     "text": [
      "Accuracy model (trn): 0.8480000495910645, (val): 0.7040000557899475\n"
     ]
    },
    {
     "name": "stderr",
     "output_type": "stream",
     "text": [
      "INFO:root:\n",
      "Epoch  255: loss_train: 0.48341, loss_val: 0.63159, acc_train: 0.79518, acc_val: 0.69323\n"
     ]
    },
    {
     "name": "stdout",
     "output_type": "stream",
     "text": [
      "#Edges: 523 -> budget: 26\n",
      "Accuracy Attack (trn): 0.694779098033905\n",
      "Accuracy model (trn): 0.8032128214836121, (val): 0.6972111463546753\n",
      "Evaluting experiment with n=500:\n",
      "Note: #Edges: 523 -> budget: 26\n",
      "Avg. Bayes Classification Error Trn: 85.04% +- 2.23%\n",
      "Avg. Bayes Classification Error Val: 86.24% +- 0.54%\n",
      "Avg. GNN Classification Error Trn: 80.14% +- 4.47%\n",
      "Avg. GNN Classification Error Val: 69.14% +- 3.38%\n",
      "Avg. Flipped Nodes: 27.2 +- 4.5\n",
      "Avg. Flipped Nodes violating BC-Criterion: 6.6 +- 0.5\n",
      "Avg. Flipped Nodes violating BC-Criterion: 25.21% +- 5.77%\n",
      "Likelihood_change_l: [tensor(0.2917), tensor(0.3333), tensor(0.1765), tensor(0.2000), tensor(0.2593)]\n"
     ]
    },
    {
     "name": "stderr",
     "output_type": "stream",
     "text": [
      "INFO:root:\n",
      "Epoch    0: loss_train: 0.69202, loss_val: 0.69285, acc_train: 0.49400, acc_val: 0.50600\n",
      "INFO:root:\n",
      "Epoch  255: loss_train: 0.47505, loss_val: 0.57840, acc_train: 0.79000, acc_val: 0.71200\n"
     ]
    },
    {
     "name": "stdout",
     "output_type": "stream",
     "text": [
      "#Edges: 1032 -> budget: 52\n",
      "Accuracy Attack (trn): 0.6880000233650208\n",
      "Accuracy model (trn): 0.7880000472068787, (val): 0.7080000042915344\n"
     ]
    },
    {
     "name": "stderr",
     "output_type": "stream",
     "text": [
      "INFO:root:\n",
      "Epoch    0: loss_train: 0.69309, loss_val: 0.69377, acc_train: 0.51200, acc_val: 0.46600\n",
      "INFO:root:\n",
      "Epoch  380: loss_train: 0.47672, loss_val: 0.60022, acc_train: 0.79400, acc_val: 0.69000\n"
     ]
    },
    {
     "name": "stdout",
     "output_type": "stream",
     "text": [
      "#Edges: 1009 -> budget: 50\n",
      "Accuracy Attack (trn): 0.7039999961853027\n",
      "Accuracy model (trn): 0.8040000200271606, (val): 0.6700000166893005\n"
     ]
    },
    {
     "name": "stderr",
     "output_type": "stream",
     "text": [
      "INFO:root:\n",
      "Epoch    0: loss_train: 0.69433, loss_val: 0.69388, acc_train: 0.46000, acc_val: 0.46200\n",
      "INFO:root:\n",
      "Epoch  341: loss_train: 0.39815, loss_val: 0.51956, acc_train: 0.84400, acc_val: 0.75000\n"
     ]
    },
    {
     "name": "stdout",
     "output_type": "stream",
     "text": [
      "#Edges: 1045 -> budget: 52\n",
      "Accuracy Attack (trn): 0.7300000190734863\n",
      "Accuracy model (trn): 0.8380000591278076, (val): 0.734000027179718\n"
     ]
    },
    {
     "name": "stderr",
     "output_type": "stream",
     "text": [
      "INFO:root:\n",
      "Epoch    0: loss_train: 0.69274, loss_val: 0.69284, acc_train: 0.54000, acc_val: 0.53800\n",
      "INFO:root:\n",
      "Epoch  954: loss_train: 0.47423, loss_val: 0.54607, acc_train: 0.78800, acc_val: 0.73400\n"
     ]
    },
    {
     "name": "stdout",
     "output_type": "stream",
     "text": [
      "#Edges: 1017 -> budget: 51\n",
      "Accuracy Attack (trn): 0.6859999895095825\n",
      "Accuracy model (trn): 0.796000063419342, (val): 0.7300000190734863\n"
     ]
    },
    {
     "name": "stderr",
     "output_type": "stream",
     "text": [
      "INFO:root:\n",
      "Epoch    0: loss_train: 0.69290, loss_val: 0.69320, acc_train: 0.49000, acc_val: 0.48000\n",
      "INFO:root:\n",
      "Epoch  347: loss_train: 0.50505, loss_val: 0.59935, acc_train: 0.76800, acc_val: 0.68800\n"
     ]
    },
    {
     "name": "stdout",
     "output_type": "stream",
     "text": [
      "#Edges: 998 -> budget: 50\n",
      "Accuracy Attack (trn): 0.7139999866485596\n",
      "Accuracy model (trn): 0.800000011920929, (val): 0.6840000152587891\n",
      "Evaluting experiment with n=1000:\n",
      "Note: #Edges: 998 -> budget: 50\n",
      "Avg. Bayes Classification Error Trn: 85.80% +- 2.40%\n",
      "Avg. Bayes Classification Error Val: 85.48% +- 1.38%\n",
      "Avg. GNN Classification Error Trn: 80.52% +- 1.72%\n",
      "Avg. GNN Classification Error Val: 70.52% +- 2.51%\n",
      "Avg. Flipped Nodes: 51.6 +- 4.6\n",
      "Avg. Flipped Nodes violating BC-Criterion: 14.6 +- 3.0\n",
      "Avg. Flipped Nodes violating BC-Criterion: 28.27% +- 4.90%\n",
      "Likelihood_change_l: [tensor(0.2642), tensor(0.2157), tensor(0.3636), tensor(0.2679), tensor(0.3023)]\n"
     ]
    }
   ],
   "source": [
    "seeds = [0, 1, 2, 3, 4]\n",
    "n_s = [140, 500, 1000]\n",
    "perform_experiment(n_s, seeds)"
   ]
  },
  {
   "cell_type": "code",
   "execution_count": 142,
   "metadata": {},
   "outputs": [
    {
     "name": "stderr",
     "output_type": "stream",
     "text": [
      "INFO:root:\n",
      "Epoch    0: loss_train: 0.69189, loss_val: 0.69158, acc_train: 0.55072, acc_val: 0.56338\n",
      "INFO:root:\n",
      "Epoch  919: loss_train: 0.45602, loss_val: 0.52335, acc_train: 0.76812, acc_val: 0.76056\n"
     ]
    },
    {
     "name": "stdout",
     "output_type": "stream",
     "text": [
      "#Edges: 128 -> budget: 6\n"
     ]
    },
    {
     "name": "stderr",
     "output_type": "stream",
     "text": [
      "INFO:root:\n",
      "Epoch    0: loss_train: 0.69228, loss_val: 0.69239, acc_train: 0.63768, acc_val: 0.59155\n"
     ]
    },
    {
     "name": "stdout",
     "output_type": "stream",
     "text": [
      "Accuracy Attack (trn): 0.7536231875419617\n",
      "Accuracy model (trn): 0.8115942478179932, (val): 0.7323943376541138\n"
     ]
    },
    {
     "name": "stderr",
     "output_type": "stream",
     "text": [
      "INFO:root:\n",
      "Epoch  227: loss_train: 0.48165, loss_val: 0.53197, acc_train: 0.76812, acc_val: 0.71831\n"
     ]
    },
    {
     "name": "stdout",
     "output_type": "stream",
     "text": [
      "#Edges: 139 -> budget: 7\n"
     ]
    },
    {
     "name": "stderr",
     "output_type": "stream",
     "text": [
      "INFO:root:\n",
      "Epoch    0: loss_train: 0.69447, loss_val: 0.69394, acc_train: 0.40580, acc_val: 0.47887\n"
     ]
    },
    {
     "name": "stdout",
     "output_type": "stream",
     "text": [
      "Accuracy Attack (trn): 0.7536231875419617\n",
      "Accuracy model (trn): 0.8405797481536865, (val): 0.7183098196983337\n"
     ]
    },
    {
     "name": "stderr",
     "output_type": "stream",
     "text": [
      "INFO:root:\n",
      "Epoch  625: loss_train: 0.42774, loss_val: 0.55343, acc_train: 0.81159, acc_val: 0.76056\n"
     ]
    },
    {
     "name": "stdout",
     "output_type": "stream",
     "text": [
      "#Edges: 141 -> budget: 7\n"
     ]
    },
    {
     "name": "stderr",
     "output_type": "stream",
     "text": [
      "INFO:root:\n",
      "Epoch    0: loss_train: 0.69263, loss_val: 0.69361, acc_train: 0.50725, acc_val: 0.46479\n"
     ]
    },
    {
     "name": "stdout",
     "output_type": "stream",
     "text": [
      "Accuracy Attack (trn): 0.739130437374115\n",
      "Accuracy model (trn): 0.8115942478179932, (val): 0.7323943376541138\n"
     ]
    },
    {
     "name": "stderr",
     "output_type": "stream",
     "text": [
      "INFO:root:\n",
      "Epoch   48: loss_train: 0.52139, loss_val: 0.61840, acc_train: 0.72464, acc_val: 0.67606\n"
     ]
    },
    {
     "name": "stdout",
     "output_type": "stream",
     "text": [
      "#Edges: 162 -> budget: 8\n"
     ]
    },
    {
     "name": "stderr",
     "output_type": "stream",
     "text": [
      "INFO:root:\n",
      "Epoch    0: loss_train: 0.69420, loss_val: 0.69362, acc_train: 0.38571, acc_val: 0.42857\n"
     ]
    },
    {
     "name": "stdout",
     "output_type": "stream",
     "text": [
      "Accuracy Attack (trn): 0.695652186870575\n",
      "Accuracy model (trn): 0.8115942478179932, (val): 0.6338028311729431\n"
     ]
    },
    {
     "name": "stderr",
     "output_type": "stream",
     "text": [
      "INFO:root:\n",
      "Epoch  716: loss_train: 0.41556, loss_val: 0.50028, acc_train: 0.85714, acc_val: 0.71429\n"
     ]
    },
    {
     "name": "stdout",
     "output_type": "stream",
     "text": [
      "#Edges: 148 -> budget: 7\n",
      "Accuracy Attack (trn): 0.7571428418159485\n",
      "Accuracy model (trn): 0.8428571224212646, (val): 0.6571428775787354\n",
      "Evaluting experiment with n=140:\n",
      "Note: #Edges: 148 -> budget: 7\n",
      "Avg. Bayes Classification Error Trn: 85.43% +- 3.98%\n",
      "Avg. Bayes Classification Error Val: 87.14% +- 4.52%\n",
      "Avg. GNN Classification Error Trn: 82.36% +- 1.48%\n",
      "Avg. GNN Classification Error Val: 69.48% +- 4.13%\n",
      "Avg. Flipped Nodes: 5.8 +- 1.3\n",
      "Avg. Flipped Nodes violating BC-Criterion: 0.6 +- 0.5\n",
      "Avg. Flipped Nodes violating BC-Criterion: 9.17% +- 7.64%\n",
      "Likelihood_change_l: [tensor(0.), tensor(0.1667), tensor(0.), tensor(0.1250), tensor(0.1667)]\n"
     ]
    },
    {
     "name": "stderr",
     "output_type": "stream",
     "text": [
      "INFO:root:\n",
      "Epoch    0: loss_train: 0.69331, loss_val: 0.69377, acc_train: 0.47200, acc_val: 0.48800\n",
      "INFO:root:\n",
      "Epoch  689: loss_train: 0.41483, loss_val: 0.54218, acc_train: 0.82400, acc_val: 0.75200\n"
     ]
    },
    {
     "name": "stdout",
     "output_type": "stream",
     "text": [
      "#Edges: 488 -> budget: 24\n",
      "Accuracy Attack (trn): 0.7400000095367432\n"
     ]
    },
    {
     "name": "stderr",
     "output_type": "stream",
     "text": [
      "INFO:root:\n",
      "Epoch    0: loss_train: 0.69309, loss_val: 0.69296, acc_train: 0.48800, acc_val: 0.49200\n"
     ]
    },
    {
     "name": "stdout",
     "output_type": "stream",
     "text": [
      "Accuracy model (trn): 0.8360000252723694, (val): 0.7360000610351562\n"
     ]
    },
    {
     "name": "stderr",
     "output_type": "stream",
     "text": [
      "INFO:root:\n",
      "Epoch   55: loss_train: 0.56192, loss_val: 0.61075, acc_train: 0.71200, acc_val: 0.69600\n"
     ]
    },
    {
     "name": "stdout",
     "output_type": "stream",
     "text": [
      "#Edges: 508 -> budget: 25\n",
      "Accuracy Attack (trn): 0.6359999775886536\n"
     ]
    },
    {
     "name": "stderr",
     "output_type": "stream",
     "text": [
      "INFO:root:\n",
      "Epoch    0: loss_train: 0.69401, loss_val: 0.69383, acc_train: 0.41600, acc_val: 0.46000\n"
     ]
    },
    {
     "name": "stdout",
     "output_type": "stream",
     "text": [
      "Accuracy model (trn): 0.7200000286102295, (val): 0.6880000233650208\n"
     ]
    },
    {
     "name": "stderr",
     "output_type": "stream",
     "text": [
      "INFO:root:\n",
      "Epoch  354: loss_train: 0.48053, loss_val: 0.60842, acc_train: 0.81600, acc_val: 0.65200\n"
     ]
    },
    {
     "name": "stdout",
     "output_type": "stream",
     "text": [
      "#Edges: 521 -> budget: 26\n",
      "Accuracy Attack (trn): 0.6639999747276306\n"
     ]
    },
    {
     "name": "stderr",
     "output_type": "stream",
     "text": [
      "INFO:root:\n",
      "Epoch    0: loss_train: 0.69412, loss_val: 0.69423, acc_train: 0.43600, acc_val: 0.45200\n"
     ]
    },
    {
     "name": "stdout",
     "output_type": "stream",
     "text": [
      "Accuracy model (trn): 0.800000011920929, (val): 0.6320000290870667\n"
     ]
    },
    {
     "name": "stderr",
     "output_type": "stream",
     "text": [
      "INFO:root:\n",
      "Epoch  849: loss_train: 0.44603, loss_val: 0.56210, acc_train: 0.82400, acc_val: 0.70400\n"
     ]
    },
    {
     "name": "stdout",
     "output_type": "stream",
     "text": [
      "#Edges: 510 -> budget: 26\n",
      "Accuracy Attack (trn): 0.7279999852180481\n",
      "Accuracy model (trn): 0.8480000495910645, (val): 0.7040000557899475\n"
     ]
    },
    {
     "name": "stderr",
     "output_type": "stream",
     "text": [
      "INFO:root:\n",
      "Epoch    0: loss_train: 0.69270, loss_val: 0.69284, acc_train: 0.53414, acc_val: 0.54183\n",
      "INFO:root:\n",
      "Epoch  255: loss_train: 0.48341, loss_val: 0.63159, acc_train: 0.79518, acc_val: 0.69323\n"
     ]
    },
    {
     "name": "stdout",
     "output_type": "stream",
     "text": [
      "#Edges: 523 -> budget: 26\n",
      "Accuracy Attack (trn): 0.694779098033905\n",
      "Accuracy model (trn): 0.8032128214836121, (val): 0.6972111463546753\n",
      "Evaluting experiment with n=500:\n",
      "Note: #Edges: 523 -> budget: 26\n",
      "Avg. Bayes Classification Error Trn: 85.04% +- 2.23%\n",
      "Avg. Bayes Classification Error Val: 86.24% +- 0.54%\n",
      "Avg. GNN Classification Error Trn: 80.14% +- 4.47%\n",
      "Avg. GNN Classification Error Val: 69.14% +- 3.38%\n",
      "Avg. Flipped Nodes: 27.2 +- 4.5\n",
      "Avg. Flipped Nodes violating BC-Criterion: 4.2 +- 1.9\n",
      "Avg. Flipped Nodes violating BC-Criterion: 15.77% +- 7.30%\n",
      "Likelihood_change_l: [tensor(0.2083), tensor(0.0952), tensor(0.0588), tensor(0.1667), tensor(0.2593)]\n"
     ]
    },
    {
     "name": "stderr",
     "output_type": "stream",
     "text": [
      "INFO:root:\n",
      "Epoch    0: loss_train: 0.69202, loss_val: 0.69285, acc_train: 0.49400, acc_val: 0.50600\n",
      "INFO:root:\n",
      "Epoch  255: loss_train: 0.47505, loss_val: 0.57840, acc_train: 0.79000, acc_val: 0.71200\n"
     ]
    },
    {
     "name": "stdout",
     "output_type": "stream",
     "text": [
      "#Edges: 1032 -> budget: 52\n",
      "Accuracy Attack (trn): 0.6880000233650208\n",
      "Accuracy model (trn): 0.7880000472068787, (val): 0.7080000042915344\n"
     ]
    },
    {
     "name": "stderr",
     "output_type": "stream",
     "text": [
      "INFO:root:\n",
      "Epoch    0: loss_train: 0.69309, loss_val: 0.69377, acc_train: 0.51200, acc_val: 0.46600\n",
      "INFO:root:\n",
      "Epoch  380: loss_train: 0.47672, loss_val: 0.60022, acc_train: 0.79400, acc_val: 0.69000\n"
     ]
    },
    {
     "name": "stdout",
     "output_type": "stream",
     "text": [
      "#Edges: 1009 -> budget: 50\n",
      "Accuracy Attack (trn): 0.7039999961853027\n",
      "Accuracy model (trn): 0.8040000200271606, (val): 0.6700000166893005\n"
     ]
    },
    {
     "name": "stderr",
     "output_type": "stream",
     "text": [
      "INFO:root:\n",
      "Epoch    0: loss_train: 0.69433, loss_val: 0.69388, acc_train: 0.46000, acc_val: 0.46200\n",
      "INFO:root:\n",
      "Epoch  341: loss_train: 0.39815, loss_val: 0.51956, acc_train: 0.84400, acc_val: 0.75000\n"
     ]
    },
    {
     "name": "stdout",
     "output_type": "stream",
     "text": [
      "#Edges: 1045 -> budget: 52\n",
      "Accuracy Attack (trn): 0.7300000190734863\n",
      "Accuracy model (trn): 0.8380000591278076, (val): 0.734000027179718\n"
     ]
    },
    {
     "name": "stderr",
     "output_type": "stream",
     "text": [
      "INFO:root:\n",
      "Epoch    0: loss_train: 0.69274, loss_val: 0.69284, acc_train: 0.54000, acc_val: 0.53800\n",
      "INFO:root:\n",
      "Epoch  954: loss_train: 0.47423, loss_val: 0.54607, acc_train: 0.78800, acc_val: 0.73400\n"
     ]
    },
    {
     "name": "stdout",
     "output_type": "stream",
     "text": [
      "#Edges: 1017 -> budget: 51\n",
      "Accuracy Attack (trn): 0.6859999895095825\n",
      "Accuracy model (trn): 0.796000063419342, (val): 0.7300000190734863\n"
     ]
    },
    {
     "name": "stderr",
     "output_type": "stream",
     "text": [
      "INFO:root:\n",
      "Epoch    0: loss_train: 0.69290, loss_val: 0.69320, acc_train: 0.49000, acc_val: 0.48000\n",
      "INFO:root:\n",
      "Epoch  347: loss_train: 0.50505, loss_val: 0.59935, acc_train: 0.76800, acc_val: 0.68800\n"
     ]
    },
    {
     "name": "stdout",
     "output_type": "stream",
     "text": [
      "#Edges: 998 -> budget: 50\n",
      "Accuracy Attack (trn): 0.7139999866485596\n",
      "Accuracy model (trn): 0.800000011920929, (val): 0.6840000152587891\n",
      "Evaluting experiment with n=1000:\n",
      "Note: #Edges: 998 -> budget: 50\n",
      "Avg. Bayes Classification Error Trn: 85.80% +- 2.40%\n",
      "Avg. Bayes Classification Error Val: 85.48% +- 1.38%\n",
      "Avg. GNN Classification Error Trn: 80.52% +- 1.72%\n",
      "Avg. GNN Classification Error Val: 70.52% +- 2.51%\n",
      "Avg. Flipped Nodes: 51.6 +- 4.6\n",
      "Avg. Flipped Nodes violating BC-Criterion: 6.8 +- 3.3\n",
      "Avg. Flipped Nodes violating BC-Criterion: 12.90% +- 5.70%\n",
      "Likelihood_change_l: [tensor(0.1698), tensor(0.0392), tensor(0.2000), tensor(0.1429), tensor(0.0930)]\n"
     ]
    }
   ],
   "source": [
    "seeds = [0, 1, 2, 3, 4]\n",
    "n_s = [140, 500, 1000]\n",
    "perform_experiment(n_s, seeds)\n"
   ]
  },
  {
   "cell_type": "code",
   "execution_count": null,
   "metadata": {},
   "outputs": [],
   "source": []
  }
 ],
 "metadata": {
  "interpreter": {
   "hash": "c4e45668083cbb37b7048c0587d1e2fbbeab0bbf8f83b3643c89a090a0af4084"
  },
  "kernelspec": {
   "display_name": "Python 3.9.7 ('py397')",
   "language": "python",
   "name": "python3"
  },
  "language_info": {
   "codemirror_mode": {
    "name": "ipython",
    "version": 3
   },
   "file_extension": ".py",
   "mimetype": "text/x-python",
   "name": "python",
   "nbconvert_exporter": "python",
   "pygments_lexer": "ipython3",
   "version": "3.9.7"
  },
  "orig_nbformat": 4
 },
 "nbformat": 4,
 "nbformat_minor": 2
}
